{
 "cells": [
  {
   "cell_type": "code",
   "execution_count": 1,
   "id": "native-uncle",
   "metadata": {},
   "outputs": [
    {
     "name": "stdout",
     "output_type": "stream",
     "text": [
      "hi\n"
     ]
    }
   ],
   "source": [
    "print('hi')"
   ]
  },
  {
   "cell_type": "markdown",
   "id": "da77abad",
   "metadata": {},
   "source": [
    "## Import Section"
   ]
  },
  {
   "cell_type": "code",
   "execution_count": 2,
   "id": "b601e346",
   "metadata": {},
   "outputs": [],
   "source": [
    "import numpy as np\n",
    "import torch\n",
    "import torchvision\n",
    "from time import time\n",
    "import random\n",
    "\n",
    "from torch.utils.data import Dataset, DataLoader\n",
    "from torchvision import datasets, transforms\n",
    "from torch import nn, optim\n",
    "from torch.utils.data.sampler import SubsetRandomSampler\n",
    "import torchvision.transforms.functional as TF\n",
    "import torch.nn.functional as F\n",
    "from torch.autograd import Variable\n",
    "import os\n",
    "import glob\n",
    "import cv2\n",
    "from tqdm import tqdm\n",
    "\n",
    "from matplotlib.pyplot import imsave, imread\n",
    "import matplotlib.pyplot as plt\n",
    "import sys\n",
    "import matplotlib.gridspec as gridspec\n",
    "\n",
    "import copy\n",
    "import pickle"
   ]
  },
  {
   "cell_type": "code",
   "execution_count": 3,
   "id": "78ad1510",
   "metadata": {},
   "outputs": [],
   "source": [
    "from floodfill import *\n",
    "from dataloader import *\n",
    "from model import *\n",
    "from oracle import *\n",
    "from unet import *"
   ]
  },
  {
   "cell_type": "markdown",
   "id": "b81907ee",
   "metadata": {},
   "source": [
    "## Testing Jupyter Notebook Section"
   ]
  },
  {
   "cell_type": "code",
   "execution_count": 4,
   "id": "0fc3727a",
   "metadata": {},
   "outputs": [
    {
     "name": "stdout",
     "output_type": "stream",
     "text": [
      "what is your name: vaibhav\n",
      "Your name is: vaibhav.\n"
     ]
    }
   ],
   "source": [
    "#Testing live input from user\n",
    "testing_input = input(\"what is your name: \")\n",
    "print(f\"Your name is: {testing_input}.\")"
   ]
  },
  {
   "cell_type": "code",
   "execution_count": 5,
   "id": "acfdec25",
   "metadata": {},
   "outputs": [
    {
     "name": "stdout",
     "output_type": "stream",
     "text": [
      "(2, 256, 256)\n"
     ]
    },
    {
     "data": {
      "text/plain": [
       "<matplotlib.image.AxesImage at 0x148184862d30>"
      ]
     },
     "execution_count": 5,
     "metadata": {},
     "output_type": "execute_result"
    },
    {
     "data": {
      "image/png": "[encoded data removed]",
      "text/plain": [
       "<Figure size 432x288 with 1 Axes>"
      ]
     },
     "metadata": {
      "needs_background": "light"
     },
     "output_type": "display_data"
    }
   ],
   "source": [
    "#Tests loading an image from a directory\n",
    "#im_dir = \"/usr/xtmp/mammo/image_datasets/data_split_july2021/square_ROI_by_shape_segmentations/train/Round/\"\n",
    "#im_dir = \"/usr/xtmp/vs196/mammoproj/Code/ActiveLearning/UNetSegmentations/Iter0_ff/Round/\"\n",
    "im_dir = \"/usr/xtmp/vs196/mammoproj/Code/ActiveLearning/AllOracleRuns/Run_11_24_b/Iter1/UNetSegmentations_C/Oval/\"\n",
    "#im_dir = \"/usr/xtmp/vs196/mammoproj/Code/ActiveLearning/AllOracleRuns/Run_11_24_b/Iter1/UNetSegmentations/Oval/\"\n",
    "#im_dir = \"/usr/xtmp/vs196/mammoproj/Code/ActiveLearning/UNetSegmentations/Iter0_ff/Irregular/\"\n",
    "ims = [\"DP_ACRF_18645_1.npy\"]\n",
    "#ims = [\"DP_AHTL_130540_1.npy\"]\n",
    "\n",
    "for im in ims:\n",
    "    path = im_dir + im;\n",
    "    arr = np.load(path)\n",
    "    print(arr.shape)\n",
    "    \n",
    "plt.imshow(arr[1],cmap='gray')\n",
    "#plt.show()"
   ]
  },
  {
   "cell_type": "markdown",
   "id": "c894ee31",
   "metadata": {},
   "source": [
    "## Active Learning: Setup - Run once per run id"
   ]
  },
  {
   "cell_type": "code",
   "execution_count": 11,
   "id": "3bb5d434",
   "metadata": {},
   "outputs": [],
   "source": [
    "run_id = \"11_24_c\" #Format: Month_Day_(Run # that day by letter)"
   ]
  },
  {
   "cell_type": "code",
   "execution_count": 7,
   "id": "70ab0d27",
   "metadata": {},
   "outputs": [],
   "source": [
    "iter_num=1"
   ]
  },
  {
   "cell_type": "code",
   "execution_count": null,
   "id": "487ea26c",
   "metadata": {},
   "outputs": [],
   "source": [
    "#Gets the dataloader. Passes in directory of ALL images\n",
    "#im_dir = \"/usr/xtmp/mammo/image_datasets/data_split_july2021/square_ROI_by_shape_segmentations/train/\"\n",
    "#GET THE NEW IM_DIR FOR SUBSEQUENT ITERATIONS\n",
    "im_dir = \"/usr/xtmp/vs196/mammoproj/Code/ActiveLearning/UNetSegmentations/Iter0_ff/\"\n",
    "dataloader = get_DataLoader(im_dir,32,2)\n",
    "\n",
    "#Tests the dataloader\n",
    "for i in tqdm(dataloader):\n",
    "    #print(i[1])\n",
    "    print(i[1].shape)\n",
    "    break"
   ]
  },
  {
   "cell_type": "code",
   "execution_count": null,
   "id": "765929c2",
   "metadata": {},
   "outputs": [],
   "source": [
    "#Initializing info arrays for active learning\n",
    "oracle_results = {}"
   ]
  },
  {
   "cell_type": "markdown",
   "id": "30e48a9b",
   "metadata": {},
   "source": [
    "## Active Learning: Querying"
   ]
  },
  {
   "cell_type": "code",
   "execution_count": null,
   "id": "b8b9568e",
   "metadata": {
    "scrolled": false
   },
   "outputs": [],
   "source": [
    "#Initializes and trains the model. Plots a loss function of the initial training\n",
    "model,loss_tracker,criterion,optimizer = initialize_and_train_model(dataloader, epochs=5) #default batch_size and epochs\n",
    "plt.plot(loss_tracker) #plot graph"
   ]
  },
  {
   "cell_type": "code",
   "execution_count": null,
   "id": "249b7b53",
   "metadata": {},
   "outputs": [],
   "source": [
    "all_patient_scores = []\n",
    "\n",
    "#right now patient_scores is initial scores for each patient (without active learning training)\n",
    "patient_scores = get_patient_scores(model,dataloader) \n",
    "all_patient_scores.append(patient_scores)"
   ]
  },
  {
   "cell_type": "code",
   "execution_count": null,
   "id": "ba4885e1",
   "metadata": {},
   "outputs": [],
   "source": [
    "#query oracle\n",
    "oracle_results = query_oracle(oracle_results,patient_scores,im_dir,query_method=\"worst\",query_number=15)"
   ]
  },
  {
   "cell_type": "code",
   "execution_count": null,
   "id": "02ff0ecf",
   "metadata": {
    "scrolled": true
   },
   "outputs": [],
   "source": [
    "#TODO: track model loss somehow along with patient_scores\n",
    "#Query oracle and update model via active learning\n",
    "for i in range(6):\n",
    "    model = model_update(model,dataloader,oracle_results,criterion,optimizer,num_epochs=1)\n",
    "\n",
    "    patient_scores = get_patient_scores(model,dataloader)\n",
    "    all_patient_scores.append(patient_scores)"
   ]
  },
  {
   "cell_type": "markdown",
   "id": "44bded4f",
   "metadata": {},
   "source": [
    "## Metrics and plotting"
   ]
  },
  {
   "cell_type": "code",
   "execution_count": null,
   "id": "35f48fcf",
   "metadata": {},
   "outputs": [],
   "source": [
    "#00100001000\n",
    "#11110100000\n",
    "#00100001100\n",
    "#01110010000\n",
    "#Prints out all patient scores.\n",
    "for i in all_patient_scores:\n",
    "    print(calculate_dispersion_metric(i,oracle_results))"
   ]
  },
  {
   "cell_type": "code",
   "execution_count": null,
   "id": "f6cc8711",
   "metadata": {},
   "outputs": [],
   "source": [
    "#Plot the disperson metric\n",
    "j = []\n",
    "for i in all_patient_scores:\n",
    "    j.append(calculate_dispersion_metric(i,oracle_results))\n",
    "    \n",
    "plt.plot(j)"
   ]
  },
  {
   "cell_type": "markdown",
   "id": "12e8917f",
   "metadata": {},
   "source": [
    "Jump back to oracle query if you want to query more. Move on to retrain segmenter"
   ]
  },
  {
   "cell_type": "markdown",
   "id": "27cfb1f5",
   "metadata": {},
   "source": [
    "## Saving Oracle Results"
   ]
  },
  {
   "cell_type": "code",
   "execution_count": null,
   "id": "e70b7ba0",
   "metadata": {},
   "outputs": [],
   "source": [
    "#make filepath\n",
    "save_dir = \"/usr/xtmp/vs196/mammoproj/Code/ActiveLearning/AllOracleRuns/Run_\" + run_id + \"/Iter\" + str(iter_num) + \"/CorrectSegmentations/\"\n",
    "saved_oracle_filepaths = save_oracle_results(oracle_results,im_dir,save_dir)\n",
    "fpath = save_dir + \"saved_data_struct/\"\n",
    "if not os.path.exists(fpath):\n",
    "    os.makedirs(fpath)\n",
    "saved_oracle_filepaths_filepath = save_dir + \"saved_data_struct/Oracle_Filepaths.pickle\"\n",
    "pickle.dump(saved_oracle_filepaths,open(saved_oracle_filepaths_filepath,\"wb\"))\n",
    "pickle.dump(oracle_results,open(save_dir + \"saved_data_struct/Oracle_Results.pickle\",\"wb\"))\n",
    "#TODO: Move border/weight creation to this method and out of convert_directory_to_floodfill"
   ]
  },
  {
   "cell_type": "code",
   "execution_count": 8,
   "id": "fce7e33e",
   "metadata": {},
   "outputs": [],
   "source": [
    "#Reloading oracle_results and save_oracle_filepaths\n",
    "save_dir = \"/usr/xtmp/vs196/mammoproj/Code/ActiveLearning/AllOracleRuns/Run_\" + run_id + \"/Iter\" + str(iter_num) + \"/CorrectSegmentations/\"\n",
    "saved_oracle_filepaths_filepath = save_dir + \"saved_data_struct/Oracle_Filepaths.pickle\"\n",
    "#Reload from previous iteration\n",
    "oracle_results = pickle.load(open(save_dir + \"saved_data_struct/Oracle_Results.pickle\",\"rb\"))\n",
    "saved_oracle_filepaths = pickle.load(open(saved_oracle_filepaths_filepath,\"rb\"))"
   ]
  },
  {
   "cell_type": "code",
   "execution_count": 9,
   "id": "b2aa7a8e",
   "metadata": {},
   "outputs": [],
   "source": [
    "#Remove all 0's from oracle_results.\n",
    "oracle_results = remove_bad_oracle_results(oracle_results)\n",
    "#NOTE: Don't FULLY reset oracle_results EVER during a run, only do above"
   ]
  },
  {
   "cell_type": "code",
   "execution_count": 10,
   "id": "8905a8b9",
   "metadata": {},
   "outputs": [
    {
     "name": "stdout",
     "output_type": "stream",
     "text": [
      "6\n"
     ]
    }
   ],
   "source": [
    "print(len(oracle_results))"
   ]
  },
  {
   "cell_type": "markdown",
   "id": "10d52ed2",
   "metadata": {},
   "source": [
    "## Retrain UNet and Save New Segmentations"
   ]
  },
  {
   "cell_type": "code",
   "execution_count": 12,
   "id": "4a7e9c58",
   "metadata": {},
   "outputs": [],
   "source": [
    "#Define the initial UNet model (iter0)\n",
    "if iter_num==1:\n",
    "    model_path = \"/usr/xtmp/vs196/mammoproj/SavedModels/HyperparameterUNet_nobuffer/unet_5_0.5/Model/unetmodel_FINAL.pth\"\n",
    "else:\n",
    "    model_path = model_save_path\n",
    "unet_model = torch.load(model_path)\n",
    "\n",
    "total_loss_tracker = []\n",
    "total_metric_tracker = []"
   ]
  },
  {
   "cell_type": "code",
   "execution_count": 16,
   "id": "55fa21ee",
   "metadata": {},
   "outputs": [
    {
     "name": "stderr",
     "output_type": "stream",
     "text": [
      "  0%|          | 0/78 [00:01<?, ?it/s]\n"
     ]
    },
    {
     "ename": "RuntimeError",
     "evalue": "CUDA out of memory. Tried to allocate 352.00 MiB (GPU 0; 11.91 GiB total capacity; 10.77 GiB already allocated; 53.25 MiB free; 10.95 GiB reserved in total by PyTorch)",
     "output_type": "error",
     "traceback": [
      "\u001b[0;31m---------------------------------------------------------------------------\u001b[0m",
      "\u001b[0;31mRuntimeError\u001b[0m                              Traceback (most recent call last)",
      "\u001b[0;32m<ipython-input-16-a5ab2b55e3e5>\u001b[0m in \u001b[0;36m<module>\u001b[0;34m\u001b[0m\n\u001b[1;32m      4\u001b[0m \u001b[0;34m\u001b[0m\u001b[0m\n\u001b[1;32m      5\u001b[0m \u001b[0;31m#unet_model,loss_tracker,metric_tracker = unet_update_model(unet_model,new_unet_dataloader,num_epochs=5)\u001b[0m\u001b[0;34m\u001b[0m\u001b[0;34m\u001b[0m\u001b[0;34m\u001b[0m\u001b[0m\n\u001b[0;32m----> 6\u001b[0;31m \u001b[0munet_model\u001b[0m\u001b[0;34m,\u001b[0m\u001b[0mloss_tracker\u001b[0m\u001b[0;34m,\u001b[0m\u001b[0mmetric_tracker\u001b[0m \u001b[0;34m=\u001b[0m \u001b[0munet_update_model_multi_dataloader\u001b[0m\u001b[0;34m(\u001b[0m\u001b[0munet_model\u001b[0m\u001b[0;34m,\u001b[0m\u001b[0mnew_unet_dataloader\u001b[0m\u001b[0;34m,\u001b[0m\u001b[0mcbis_trainloader\u001b[0m\u001b[0;34m,\u001b[0m\u001b[0mnum_epochs\u001b[0m\u001b[0;34m=\u001b[0m\u001b[0;36m5\u001b[0m\u001b[0;34m)\u001b[0m\u001b[0;34m\u001b[0m\u001b[0;34m\u001b[0m\u001b[0m\n\u001b[0m\u001b[1;32m      7\u001b[0m \u001b[0mtotal_loss_tracker\u001b[0m\u001b[0;34m.\u001b[0m\u001b[0mextend\u001b[0m\u001b[0;34m(\u001b[0m\u001b[0mloss_tracker\u001b[0m\u001b[0;34m)\u001b[0m\u001b[0;34m\u001b[0m\u001b[0;34m\u001b[0m\u001b[0m\n\u001b[1;32m      8\u001b[0m \u001b[0mtotal_metric_tracker\u001b[0m\u001b[0;34m.\u001b[0m\u001b[0mextend\u001b[0m\u001b[0;34m(\u001b[0m\u001b[0mmetric_tracker\u001b[0m\u001b[0;34m)\u001b[0m\u001b[0;34m\u001b[0m\u001b[0;34m\u001b[0m\u001b[0m\n",
      "\u001b[0;32m/usr/project/xtmp/vs196/mammoproj/Code/ActiveLearning/unet.py\u001b[0m in \u001b[0;36munet_update_model_multi_dataloader\u001b[0;34m(model, inhouse_dataloader, cbis_dataloader, num_epochs, has_weights, weight_ratio)\u001b[0m\n\u001b[1;32m    329\u001b[0m             \u001b[0;31m#print(\"IMAGE SHAPE: \")\u001b[0m\u001b[0;34m\u001b[0m\u001b[0;34m\u001b[0m\u001b[0;34m\u001b[0m\u001b[0m\n\u001b[1;32m    330\u001b[0m             \u001b[0;31m#print(images.shape)\u001b[0m\u001b[0;34m\u001b[0m\u001b[0;34m\u001b[0m\u001b[0;34m\u001b[0m\u001b[0m\n\u001b[0;32m--> 331\u001b[0;31m             \u001b[0my\u001b[0m \u001b[0;34m=\u001b[0m \u001b[0mmodel\u001b[0m\u001b[0;34m(\u001b[0m\u001b[0mimages\u001b[0m\u001b[0;34m)\u001b[0m\u001b[0;34m\u001b[0m\u001b[0;34m\u001b[0m\u001b[0m\n\u001b[0m\u001b[1;32m    332\u001b[0m             \u001b[0;31m#y = y.squeeze(1)\u001b[0m\u001b[0;34m\u001b[0m\u001b[0;34m\u001b[0m\u001b[0;34m\u001b[0m\u001b[0m\n\u001b[1;32m    333\u001b[0m             \u001b[0;31m#y = y.cuda()\u001b[0m\u001b[0;34m\u001b[0m\u001b[0;34m\u001b[0m\u001b[0;34m\u001b[0m\u001b[0m\n",
      "\u001b[0;32m/usr/project/xtmp/vs196/mammoproj/Env/trainenv/lib/python3.6/site-packages/torch/nn/modules/module.py\u001b[0m in \u001b[0;36m_call_impl\u001b[0;34m(self, *input, **kwargs)\u001b[0m\n\u001b[1;32m   1049\u001b[0m         if not (self._backward_hooks or self._forward_hooks or self._forward_pre_hooks or _global_backward_hooks\n\u001b[1;32m   1050\u001b[0m                 or _global_forward_hooks or _global_forward_pre_hooks):\n\u001b[0;32m-> 1051\u001b[0;31m             \u001b[0;32mreturn\u001b[0m \u001b[0mforward_call\u001b[0m\u001b[0;34m(\u001b[0m\u001b[0;34m*\u001b[0m\u001b[0minput\u001b[0m\u001b[0;34m,\u001b[0m \u001b[0;34m**\u001b[0m\u001b[0mkwargs\u001b[0m\u001b[0;34m)\u001b[0m\u001b[0;34m\u001b[0m\u001b[0;34m\u001b[0m\u001b[0m\n\u001b[0m\u001b[1;32m   1052\u001b[0m         \u001b[0;31m# Do not call functions when jit is used\u001b[0m\u001b[0;34m\u001b[0m\u001b[0;34m\u001b[0m\u001b[0;34m\u001b[0m\u001b[0m\n\u001b[1;32m   1053\u001b[0m         \u001b[0mfull_backward_hooks\u001b[0m\u001b[0;34m,\u001b[0m \u001b[0mnon_full_backward_hooks\u001b[0m \u001b[0;34m=\u001b[0m \u001b[0;34m[\u001b[0m\u001b[0;34m]\u001b[0m\u001b[0;34m,\u001b[0m \u001b[0;34m[\u001b[0m\u001b[0;34m]\u001b[0m\u001b[0;34m\u001b[0m\u001b[0;34m\u001b[0m\u001b[0m\n",
      "\u001b[0;32m/usr/project/xtmp/vs196/mammoproj/Env/trainenv/lib/python3.6/site-packages/ternausnet/models.py\u001b[0m in \u001b[0;36mforward\u001b[0;34m(self, x)\u001b[0m\n\u001b[1;32m    254\u001b[0m \u001b[0;34m\u001b[0m\u001b[0m\n\u001b[1;32m    255\u001b[0m     \u001b[0;32mdef\u001b[0m \u001b[0mforward\u001b[0m\u001b[0;34m(\u001b[0m\u001b[0mself\u001b[0m\u001b[0;34m,\u001b[0m \u001b[0mx\u001b[0m\u001b[0;34m:\u001b[0m \u001b[0mtorch\u001b[0m\u001b[0;34m.\u001b[0m\u001b[0mTensor\u001b[0m\u001b[0;34m)\u001b[0m \u001b[0;34m->\u001b[0m \u001b[0mtorch\u001b[0m\u001b[0;34m.\u001b[0m\u001b[0mTensor\u001b[0m\u001b[0;34m:\u001b[0m\u001b[0;34m\u001b[0m\u001b[0;34m\u001b[0m\u001b[0m\n\u001b[0;32m--> 256\u001b[0;31m         \u001b[0mconv1\u001b[0m \u001b[0;34m=\u001b[0m \u001b[0mself\u001b[0m\u001b[0;34m.\u001b[0m\u001b[0mconv1\u001b[0m\u001b[0;34m(\u001b[0m\u001b[0mx\u001b[0m\u001b[0;34m)\u001b[0m\u001b[0;34m\u001b[0m\u001b[0;34m\u001b[0m\u001b[0m\n\u001b[0m\u001b[1;32m    257\u001b[0m         \u001b[0mconv2\u001b[0m \u001b[0;34m=\u001b[0m \u001b[0mself\u001b[0m\u001b[0;34m.\u001b[0m\u001b[0mconv2\u001b[0m\u001b[0;34m(\u001b[0m\u001b[0mself\u001b[0m\u001b[0;34m.\u001b[0m\u001b[0mpool\u001b[0m\u001b[0;34m(\u001b[0m\u001b[0mconv1\u001b[0m\u001b[0;34m)\u001b[0m\u001b[0;34m)\u001b[0m\u001b[0;34m\u001b[0m\u001b[0;34m\u001b[0m\u001b[0m\n\u001b[1;32m    258\u001b[0m         \u001b[0mconv3\u001b[0m \u001b[0;34m=\u001b[0m \u001b[0mself\u001b[0m\u001b[0;34m.\u001b[0m\u001b[0mconv3\u001b[0m\u001b[0;34m(\u001b[0m\u001b[0mself\u001b[0m\u001b[0;34m.\u001b[0m\u001b[0mpool\u001b[0m\u001b[0;34m(\u001b[0m\u001b[0mconv2\u001b[0m\u001b[0;34m)\u001b[0m\u001b[0;34m)\u001b[0m\u001b[0;34m\u001b[0m\u001b[0;34m\u001b[0m\u001b[0m\n",
      "\u001b[0;32m/usr/project/xtmp/vs196/mammoproj/Env/trainenv/lib/python3.6/site-packages/torch/nn/modules/module.py\u001b[0m in \u001b[0;36m_call_impl\u001b[0;34m(self, *input, **kwargs)\u001b[0m\n\u001b[1;32m   1049\u001b[0m         if not (self._backward_hooks or self._forward_hooks or self._forward_pre_hooks or _global_backward_hooks\n\u001b[1;32m   1050\u001b[0m                 or _global_forward_hooks or _global_forward_pre_hooks):\n\u001b[0;32m-> 1051\u001b[0;31m             \u001b[0;32mreturn\u001b[0m \u001b[0mforward_call\u001b[0m\u001b[0;34m(\u001b[0m\u001b[0;34m*\u001b[0m\u001b[0minput\u001b[0m\u001b[0;34m,\u001b[0m \u001b[0;34m**\u001b[0m\u001b[0mkwargs\u001b[0m\u001b[0;34m)\u001b[0m\u001b[0;34m\u001b[0m\u001b[0;34m\u001b[0m\u001b[0m\n\u001b[0m\u001b[1;32m   1052\u001b[0m         \u001b[0;31m# Do not call functions when jit is used\u001b[0m\u001b[0;34m\u001b[0m\u001b[0;34m\u001b[0m\u001b[0;34m\u001b[0m\u001b[0m\n\u001b[1;32m   1053\u001b[0m         \u001b[0mfull_backward_hooks\u001b[0m\u001b[0;34m,\u001b[0m \u001b[0mnon_full_backward_hooks\u001b[0m \u001b[0;34m=\u001b[0m \u001b[0;34m[\u001b[0m\u001b[0;34m]\u001b[0m\u001b[0;34m,\u001b[0m \u001b[0;34m[\u001b[0m\u001b[0;34m]\u001b[0m\u001b[0;34m\u001b[0m\u001b[0;34m\u001b[0m\u001b[0m\n",
      "\u001b[0;32m/usr/project/xtmp/vs196/mammoproj/Env/trainenv/lib/python3.6/site-packages/torch/nn/modules/container.py\u001b[0m in \u001b[0;36mforward\u001b[0;34m(self, input)\u001b[0m\n\u001b[1;32m    137\u001b[0m     \u001b[0;32mdef\u001b[0m \u001b[0mforward\u001b[0m\u001b[0;34m(\u001b[0m\u001b[0mself\u001b[0m\u001b[0;34m,\u001b[0m \u001b[0minput\u001b[0m\u001b[0;34m)\u001b[0m\u001b[0;34m:\u001b[0m\u001b[0;34m\u001b[0m\u001b[0;34m\u001b[0m\u001b[0m\n\u001b[1;32m    138\u001b[0m         \u001b[0;32mfor\u001b[0m \u001b[0mmodule\u001b[0m \u001b[0;32min\u001b[0m \u001b[0mself\u001b[0m\u001b[0;34m:\u001b[0m\u001b[0;34m\u001b[0m\u001b[0;34m\u001b[0m\u001b[0m\n\u001b[0;32m--> 139\u001b[0;31m             \u001b[0minput\u001b[0m \u001b[0;34m=\u001b[0m \u001b[0mmodule\u001b[0m\u001b[0;34m(\u001b[0m\u001b[0minput\u001b[0m\u001b[0;34m)\u001b[0m\u001b[0;34m\u001b[0m\u001b[0;34m\u001b[0m\u001b[0m\n\u001b[0m\u001b[1;32m    140\u001b[0m         \u001b[0;32mreturn\u001b[0m \u001b[0minput\u001b[0m\u001b[0;34m\u001b[0m\u001b[0;34m\u001b[0m\u001b[0m\n\u001b[1;32m    141\u001b[0m \u001b[0;34m\u001b[0m\u001b[0m\n",
      "\u001b[0;32m/usr/project/xtmp/vs196/mammoproj/Env/trainenv/lib/python3.6/site-packages/torch/nn/modules/module.py\u001b[0m in \u001b[0;36m_call_impl\u001b[0;34m(self, *input, **kwargs)\u001b[0m\n\u001b[1;32m   1049\u001b[0m         if not (self._backward_hooks or self._forward_hooks or self._forward_pre_hooks or _global_backward_hooks\n\u001b[1;32m   1050\u001b[0m                 or _global_forward_hooks or _global_forward_pre_hooks):\n\u001b[0;32m-> 1051\u001b[0;31m             \u001b[0;32mreturn\u001b[0m \u001b[0mforward_call\u001b[0m\u001b[0;34m(\u001b[0m\u001b[0;34m*\u001b[0m\u001b[0minput\u001b[0m\u001b[0;34m,\u001b[0m \u001b[0;34m**\u001b[0m\u001b[0mkwargs\u001b[0m\u001b[0;34m)\u001b[0m\u001b[0;34m\u001b[0m\u001b[0;34m\u001b[0m\u001b[0m\n\u001b[0m\u001b[1;32m   1052\u001b[0m         \u001b[0;31m# Do not call functions when jit is used\u001b[0m\u001b[0;34m\u001b[0m\u001b[0;34m\u001b[0m\u001b[0;34m\u001b[0m\u001b[0m\n\u001b[1;32m   1053\u001b[0m         \u001b[0mfull_backward_hooks\u001b[0m\u001b[0;34m,\u001b[0m \u001b[0mnon_full_backward_hooks\u001b[0m \u001b[0;34m=\u001b[0m \u001b[0;34m[\u001b[0m\u001b[0;34m]\u001b[0m\u001b[0;34m,\u001b[0m \u001b[0;34m[\u001b[0m\u001b[0;34m]\u001b[0m\u001b[0;34m\u001b[0m\u001b[0;34m\u001b[0m\u001b[0m\n",
      "\u001b[0;32m/usr/project/xtmp/vs196/mammoproj/Env/trainenv/lib/python3.6/site-packages/torch/nn/modules/conv.py\u001b[0m in \u001b[0;36mforward\u001b[0;34m(self, input)\u001b[0m\n\u001b[1;32m    441\u001b[0m \u001b[0;34m\u001b[0m\u001b[0m\n\u001b[1;32m    442\u001b[0m     \u001b[0;32mdef\u001b[0m \u001b[0mforward\u001b[0m\u001b[0;34m(\u001b[0m\u001b[0mself\u001b[0m\u001b[0;34m,\u001b[0m \u001b[0minput\u001b[0m\u001b[0;34m:\u001b[0m \u001b[0mTensor\u001b[0m\u001b[0;34m)\u001b[0m \u001b[0;34m->\u001b[0m \u001b[0mTensor\u001b[0m\u001b[0;34m:\u001b[0m\u001b[0;34m\u001b[0m\u001b[0;34m\u001b[0m\u001b[0m\n\u001b[0;32m--> 443\u001b[0;31m         \u001b[0;32mreturn\u001b[0m \u001b[0mself\u001b[0m\u001b[0;34m.\u001b[0m\u001b[0m_conv_forward\u001b[0m\u001b[0;34m(\u001b[0m\u001b[0minput\u001b[0m\u001b[0;34m,\u001b[0m \u001b[0mself\u001b[0m\u001b[0;34m.\u001b[0m\u001b[0mweight\u001b[0m\u001b[0;34m,\u001b[0m \u001b[0mself\u001b[0m\u001b[0;34m.\u001b[0m\u001b[0mbias\u001b[0m\u001b[0;34m)\u001b[0m\u001b[0;34m\u001b[0m\u001b[0;34m\u001b[0m\u001b[0m\n\u001b[0m\u001b[1;32m    444\u001b[0m \u001b[0;34m\u001b[0m\u001b[0m\n\u001b[1;32m    445\u001b[0m \u001b[0;32mclass\u001b[0m \u001b[0mConv3d\u001b[0m\u001b[0;34m(\u001b[0m\u001b[0m_ConvNd\u001b[0m\u001b[0;34m)\u001b[0m\u001b[0;34m:\u001b[0m\u001b[0;34m\u001b[0m\u001b[0;34m\u001b[0m\u001b[0m\n",
      "\u001b[0;32m/usr/project/xtmp/vs196/mammoproj/Env/trainenv/lib/python3.6/site-packages/torch/nn/modules/conv.py\u001b[0m in \u001b[0;36m_conv_forward\u001b[0;34m(self, input, weight, bias)\u001b[0m\n\u001b[1;32m    438\u001b[0m                             _pair(0), self.dilation, self.groups)\n\u001b[1;32m    439\u001b[0m         return F.conv2d(input, weight, bias, self.stride,\n\u001b[0;32m--> 440\u001b[0;31m                         self.padding, self.dilation, self.groups)\n\u001b[0m\u001b[1;32m    441\u001b[0m \u001b[0;34m\u001b[0m\u001b[0m\n\u001b[1;32m    442\u001b[0m     \u001b[0;32mdef\u001b[0m \u001b[0mforward\u001b[0m\u001b[0;34m(\u001b[0m\u001b[0mself\u001b[0m\u001b[0;34m,\u001b[0m \u001b[0minput\u001b[0m\u001b[0;34m:\u001b[0m \u001b[0mTensor\u001b[0m\u001b[0;34m)\u001b[0m \u001b[0;34m->\u001b[0m \u001b[0mTensor\u001b[0m\u001b[0;34m:\u001b[0m\u001b[0;34m\u001b[0m\u001b[0;34m\u001b[0m\u001b[0m\n",
      "\u001b[0;31mRuntimeError\u001b[0m: CUDA out of memory. Tried to allocate 352.00 MiB (GPU 0; 11.91 GiB total capacity; 10.77 GiB already allocated; 53.25 MiB free; 10.95 GiB reserved in total by PyTorch)"
     ]
    }
   ],
   "source": [
    "#Retrain UNet with training data taken from OracleImages/Iter\n",
    "new_unet_dataloader = unet_dataloader(saved_oracle_filepaths,16,2)\n",
    "cbis_trainloader,_ = CBIS_DDSM_get_DataLoader(16,2)\n",
    "\n",
    "#unet_model,loss_tracker,metric_tracker = unet_update_model(unet_model,new_unet_dataloader,num_epochs=5)\n",
    "unet_model,loss_tracker,metric_tracker = unet_update_model_multi_dataloader(unet_model,new_unet_dataloader,cbis_trainloader,num_epochs=5)\n",
    "total_loss_tracker.extend(loss_tracker)\n",
    "total_metric_tracker.extend(metric_tracker)"
   ]
  },
  {
   "cell_type": "code",
   "execution_count": null,
   "id": "7d75650c",
   "metadata": {},
   "outputs": [],
   "source": [
    "#plt.plot(total_loss_tracker)\n",
    "plt.plot(total_metric_tracker)"
   ]
  },
  {
   "cell_type": "code",
   "execution_count": null,
   "id": "506f155b",
   "metadata": {},
   "outputs": [],
   "source": [
    "#evaluate new segmentations for ALL images \n",
    "#Save SAVED_ORACLE_FILEPATH NEW segmentations to SEPARATE FOLDER for VIEWING ONLY\n",
    "#Save this iteration saved_oracle_filepaths along with new segmentations for all other patients\n",
    "segmentation_folder = im_dir\n",
    "correct_save_dir = \"/usr/xtmp/vs196/mammoproj/Code/ActiveLearning/AllOracleRuns/Run_\" + run_id + \"/Iter\" + str(iter_num) + \"/UNetSegmentations_C/\"\n",
    "save_dir = \"/usr/xtmp/vs196/mammoproj/Code/ActiveLearning/AllOracleRuns/Run_\" + run_id + \"/Iter\" + str(iter_num) + \"/UNetSegmentations/\"\n",
    "#Method creates new segmentations using updated model. \n",
    "#Saves new segmentations for images labelled correctly by the oracle to correct_save_dir\n",
    "#Saves all segmentations (preserved for images labelled correctly by the oracle, new for all others) to save_dir\n",
    "#Have different subfolders for different iterations of unet update\n",
    "evaluate_model_on_new_segmentations_and_save(unet_model,segmentation_folder,saved_oracle_filepaths,correct_save_dir,save_dir,iter_num)\n",
    "\n",
    "#save the model\n",
    "model_save_path = \"/usr/xtmp/vs196/mammoproj/Code/ActiveLearning/AllOracleRuns/Run_\" + run_id + \"/Iter\" + str(iter_num) + \"/unetmodel.pth\"\n",
    "torch.save(unet_model,model_save_path)\n",
    "\n",
    "#save_dir is what we convert to floodfill two cells down.\n",
    "#TODO: ADD TQDM TO EVALUATE_MODEL..."
   ]
  },
  {
   "cell_type": "code",
   "execution_count": null,
   "id": "39ca29ca",
   "metadata": {},
   "outputs": [],
   "source": [
    "#Convert initial UNet Segmentations to flood-filled and resave\n",
    "#raw_segmentation_folder = \"/usr/xtmp/mammo/image_datasets/data_split_july2021/square_ROI_by_shape_segmentations/train/\"\n",
    "raw_segmentation_folder = save_dir #remove for rerun\n",
    "im_dir = convert_directory_to_floodfill(raw_segmentation_folder,iter0=False)"
   ]
  },
  {
   "cell_type": "code",
   "execution_count": null,
   "id": "fd7cf395",
   "metadata": {},
   "outputs": [],
   "source": [
    "iter_num+=1"
   ]
  },
  {
   "cell_type": "code",
   "execution_count": null,
   "id": "72bd7931",
   "metadata": {},
   "outputs": [],
   "source": [
    "#reloading iter 1 purposes\n",
    "iter_num = 2\n",
    "im_dir = \"/usr/xtmp/vs196/mammoproj/Code/ActiveLearning/AllOracleRuns/Run_11_23_a/Iter1/UNetSegmentations_ff/\"\n",
    "dataloader = get_DataLoader(im_dir,32,2)"
   ]
  }
 ],
 "metadata": {
  "kernelspec": {
   "display_name": "Python 3",
   "language": "python",
   "name": "python3"
  },
  "language_info": {
   "codemirror_mode": {
    "name": "ipython",
    "version": 3
   },
   "file_extension": ".py",
   "mimetype": "text/x-python",
   "name": "python",
   "nbconvert_exporter": "python",
   "pygments_lexer": "ipython3",
   "version": "3.6.9"
  }
 },
 "nbformat": 4,
 "nbformat_minor": 5
}
