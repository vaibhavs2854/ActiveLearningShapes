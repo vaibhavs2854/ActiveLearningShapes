{
 "cells": [
  {
   "cell_type": "markdown",
   "id": "a7649d85",
   "metadata": {},
   "source": [
    "# Active Learning Experiment Notebook"
   ]
  },
  {
   "cell_type": "markdown",
   "id": "89b8615a",
   "metadata": {},
   "source": [
    "##### Things we need to be able to access here\n",
    "\n",
    "inputs: im_dir\n",
    "\n",
    "\n",
    "discriminator (want to see disc_model.model.plot_distribution(img_dir) sorted image_id along x axis and y axis is disc score, disc_model.model.show_disc(filepaths), disc_model.model.verts = dict(where vertical bars should go each time we call update_model)) \n",
    "segmenter (want to have a seg_model.segmenter.show_segmentations(filepaths), seg_model.segmenter.verts = dict(where vertical bars should go) ) \n",
    "if using autooracle, want visualization of what the oracle is seeing/saying\n",
    "oracle_results, oracle_thresholds\n",
    "training curves (make sure to maintain a history from initial training)\n",
    "TODO: convergence criterion? "
   ]
  },
  {
   "cell_type": "markdown",
   "id": "ec19bb0a",
   "metadata": {},
   "source": [
    "### Import Statements"
   ]
  },
  {
   "cell_type": "code",
   "execution_count": 1,
   "id": "14439226",
   "metadata": {},
   "outputs": [],
   "source": [
    "#Python Library imports\n",
    "\n",
    "#Backend py file imports\n",
    "import floodfill\n",
    "import disc_model\n",
    "import oracle\n",
    "import gen_model"
   ]
  },
  {
   "cell_type": "markdown",
   "id": "5edeaaa9",
   "metadata": {},
   "source": [
    "### Seed all Random Generators"
   ]
  },
  {
   "cell_type": "code",
   "execution_count": null,
   "id": "c26f78e5",
   "metadata": {},
   "outputs": [],
   "source": [
    "random_seed_number = 44\n"
   ]
  },
  {
   "cell_type": "code",
   "execution_count": null,
   "id": "84bead1f",
   "metadata": {},
   "outputs": [],
   "source": [
    "## TODO: Where to put these\n",
    "torch.manual_seed(random_seed_number)\n",
    "torch.cuda.manual_seed(random_seed_number)\n",
    "np.random.seed(random_seed_number)\n",
    "random.seed(random_seed_number)\n",
    "\n",
    "torch.backends.cudnn.enabled = False\n",
    "torch.backends.cudnn.deterministic = True"
   ]
  },
  {
   "cell_type": "markdown",
   "id": "17e1fa99",
   "metadata": {},
   "source": [
    "### Run ID Setup"
   ]
  },
  {
   "cell_type": "code",
   "execution_count": null,
   "id": "a3fc7b7b",
   "metadata": {},
   "outputs": [],
   "source": [
    "#run_id has format of \"yy_mm_dd_count\", where count is the current run on the day (a,b,etc)\n",
    "run_id = \"23_03_30_a\" "
   ]
  },
  {
   "cell_type": "code",
   "execution_count": null,
   "id": "6743f5a5",
   "metadata": {},
   "outputs": [],
   "source": [
    "#users_name tells us who is working on the notebook (vaibhav/alina/julia)\n",
    "users_name = input(\"what is your name: \")\n",
    "print(f\"Your name is: {users_name}.\")"
   ]
  },
  {
   "cell_type": "markdown",
   "id": "4c5d096d",
   "metadata": {},
   "source": [
    "## Active Learning Stage"
   ]
  },
  {
   "cell_type": "markdown",
   "id": "db8c5273",
   "metadata": {},
   "source": [
    "### Load Segmenter"
   ]
  },
  {
   "cell_type": "code",
   "execution_count": null,
   "id": "72256e63",
   "metadata": {},
   "outputs": [],
   "source": []
  },
  {
   "cell_type": "markdown",
   "id": "0e76fdfa",
   "metadata": {},
   "source": [
    "### Initialize Segmenter"
   ]
  },
  {
   "cell_type": "markdown",
   "id": "1d7d0540",
   "metadata": {},
   "source": [
    "### Set Image Directories"
   ]
  },
  {
   "cell_type": "code",
   "execution_count": null,
   "id": "6e62cf9e",
   "metadata": {},
   "outputs": [],
   "source": [
    "Segmenter initial training train/valid images\n",
    "Discriminator initial training images\n",
    "\n",
    "Images to be segmented by AL system \n",
    "\n",
    "duke_valid\n",
    "duke_testA\n",
    "duke_testB\n",
    "\n",
    "\n",
    "\n"
   ]
  },
  {
   "cell_type": "code",
   "execution_count": null,
   "id": "b6b6df69",
   "metadata": {},
   "outputs": [],
   "source": [
    "im_dir = \"\" #im_dir is the directory where oracle pulls images"
   ]
  },
  {
   "cell_type": "code",
   "execution_count": null,
   "id": "8b3bf868",
   "metadata": {},
   "outputs": [],
   "source": [
    "dataloader = get_DataLoader(im_dir,32,2) #Generates dataloader from im_dir. Takes in batch_size and num_workers\n",
    "\n",
    "#Initializes oracle results dict and thresholds dict\n",
    "oracle_results = {}\n",
    "oracle_results_thresholds = {}"
   ]
  },
  {
   "cell_type": "markdown",
   "id": "a1b3f859",
   "metadata": {},
   "source": [
    "### Initial Discriminator Training"
   ]
  },
  {
   "cell_type": "code",
   "execution_count": null,
   "id": "48536177",
   "metadata": {},
   "outputs": [],
   "source": [
    "model,loss_tracker,criterion,optimizer = initialize_and_train_model(dataloader, epochs=5) #default batch_size and epochs\n",
    "plt.plot(loss_tracker) #plot graph"
   ]
  },
  {
   "cell_type": "code",
   "execution_count": null,
   "id": "d7e24d60",
   "metadata": {},
   "outputs": [],
   "source": [
    "#Gets the patient scores based on initial trained model. Patient scores is how \"good\" the model thinks the segmentation is\n",
    "all_patient_scores = []\n",
    "\n",
    "patient_scores = get_patient_scores(model,dataloader)  #patient_scores is a dictionary of patient->score\n",
    "all_patient_scores.append(patient_scores)"
   ]
  },
  {
   "cell_type": "markdown",
   "id": "22dd0986",
   "metadata": {},
   "source": [
    "### Oracle Querying"
   ]
  },
  {
   "cell_type": "code",
   "execution_count": null,
   "id": "9bfc1f7c",
   "metadata": {},
   "outputs": [],
   "source": [
    "#Queries the oracle. Relevant arguments: query_method and query_number\n",
    "#Query methods: best, worst, percentile=0.x, uniform.\n",
    "#Put 1 if correct, 0 if impossible, new threshold if new threshold will help.\n",
    "\n",
    "new_oracle_results, new_oracle_results_thresholds = query_oracle(oracle_results,oracle_results_thresholds,\n",
    "                                                                 patient_scores,im_dir,query_method=\"best\",\n",
    "                                                                 query_number=13)\n",
    "oracle_results, oracle_results_thresholds = new_oracle_results, new_oracle_results_thresholds"
   ]
  },
  {
   "cell_type": "markdown",
   "id": "50d8ef85",
   "metadata": {},
   "source": [
    "### Updating the Discriminator"
   ]
  },
  {
   "cell_type": "code",
   "execution_count": null,
   "id": "b590c71d",
   "metadata": {},
   "outputs": [],
   "source": [
    "#Update patient scores and add to all_patient_scores array\n",
    "patient_scores = get_patient_scores(model,dataloader)\n",
    "all_patient_scores.append(patient_scores)"
   ]
  },
  {
   "cell_type": "code",
   "execution_count": null,
   "id": "d854584f",
   "metadata": {},
   "outputs": [],
   "source": [
    "#Update the active learning classifier with learned data\n",
    "#TODO: track model loss somehow along with patient_scores (KEEP TODO AND ADDRESS)\n",
    "for i in range(3):\n",
    "    model = model_update(model,dataloader,oracle_results,criterion,optimizer,num_epochs=1)\n",
    "\n",
    "    patient_scores = get_patient_scores(model,dataloader)\n",
    "    all_patient_scores.append(patient_scores)"
   ]
  },
  {
   "cell_type": "markdown",
   "id": "2d7d44e7",
   "metadata": {},
   "source": [
    "**Go Back to Oracle Querying Heading if you want to keep querying images**"
   ]
  },
  {
   "cell_type": "markdown",
   "id": "12924f02",
   "metadata": {},
   "source": [
    "### Update Segmenter"
   ]
  },
  {
   "cell_type": "code",
   "execution_count": 1,
   "id": "fad187bd",
   "metadata": {},
   "outputs": [],
   "source": [
    "## Code"
   ]
  },
  {
   "cell_type": "markdown",
   "id": "18937330",
   "metadata": {},
   "source": [
    "### Plotting Active Learning Metrics"
   ]
  },
  {
   "cell_type": "code",
   "execution_count": null,
   "id": "44c92b2e",
   "metadata": {},
   "outputs": [],
   "source": [
    "#Prints out metrics for all the patient scores from each update.\n",
    "for i in all_patient_scores:\n",
    "    print(oracle.calculate_dispersion_metric(i,oracle_results))"
   ]
  },
  {
   "cell_type": "code",
   "execution_count": null,
   "id": "3dd22e2a",
   "metadata": {},
   "outputs": [],
   "source": [
    "#Plot the disperson metric\n",
    "j = []\n",
    "for i in all_patient_scores:\n",
    "    j.append(oracle.calculate_dispersion_metric(i,oracle_results))\n",
    "    \n",
    "plt.plot(j)"
   ]
  },
  {
   "cell_type": "code",
   "execution_count": null,
   "id": "60d10b93",
   "metadata": {},
   "outputs": [],
   "source": [
    "print(\"Length of patient scores: \" + str(len(patient_scores)))\n",
    "print(\"Length of oracle results: \" + str(len(oracle_results)))\n",
    "\n",
    "scores = []\n",
    "for key in patient_scores.keys():\n",
    "    scores.append(patient_scores[key])\n",
    "plt.plot(scores)\n",
    "\n",
    "ones = 0\n",
    "for i in oracle_results.keys():\n",
    "    if oracle_results[i]==1:\n",
    "        ones+=1\n",
    "print(\"Number of ones in oracle results: \", ones)"
   ]
  },
  {
   "cell_type": "code",
   "execution_count": 58,
   "id": "8fd67f17",
   "metadata": {},
   "outputs": [],
   "source": [
    "im_dir = \"/usr/xtmp/vs196/mammoproj/Data/manualfa/train/\" #manually labelled training segmentations\n",
    "manual_fa_train_dir = \"/usr/xtmp/vs196/mammoproj/Data/manualfa/train/\"\n",
    "model_save_dir = \"/usr/xtmp/vs196/mammoproj/Code/SavedModels/ControlALUNet/0726/\"\n",
    "\n",
    "if not os.path.exists(model_save_dir):\n",
    "    os.makedirs(model_save_dir)"
   ]
  },
  {
   "cell_type": "code",
   "execution_count": null,
   "id": "1238b0aa",
   "metadata": {},
   "outputs": [],
   "source": []
  }
 ],
 "metadata": {
  "kernelspec": {
   "display_name": "Python 3",
   "language": "python",
   "name": "python3"
  },
  "language_info": {
   "codemirror_mode": {
    "name": "ipython",
    "version": 3
   },
   "file_extension": ".py",
   "mimetype": "text/x-python",
   "name": "python",
   "nbconvert_exporter": "python",
   "pygments_lexer": "ipython3",
   "version": "3.6.9"
  },
  "vscode": {
   "interpreter": {
    "hash": "31f2aee4e71d21fbe5cf8b01ff0e069b9275f58929596ceb00d14d90e3e16cd6"
   }
  }
 },
 "nbformat": 4,
 "nbformat_minor": 5
}
