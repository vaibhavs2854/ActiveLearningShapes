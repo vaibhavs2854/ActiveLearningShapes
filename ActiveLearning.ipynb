{
 "cells": [
  {
   "cell_type": "markdown",
   "id": "a7649d85",
   "metadata": {},
   "source": [
    "# Active Learning Experiment Notebook"
   ]
  },
  {
   "cell_type": "markdown",
   "id": "ec19bb0a",
   "metadata": {},
   "source": [
    "### Import Statements"
   ]
  },
  {
   "cell_type": "code",
   "execution_count": null,
   "id": "14439226",
   "metadata": {},
   "outputs": [],
   "source": [
    "#Python Library imports\n",
    "import numpy as np\n",
    "import torch\n",
    "import torchvision\n",
    "from time import time\n",
    "import random\n",
    "\n",
    "from torch.utils.data import Dataset, DataLoader\n",
    "from torchvision import datasets, transforms\n",
    "from torch import nn, optim\n",
    "from torch.utils.data.sampler import SubsetRandomSampler\n",
    "import torchvision.transforms.functional as TF\n",
    "import torch.nn.functional as F\n",
    "from torch.autograd import Variable\n",
    "import os\n",
    "import glob\n",
    "import cv2\n",
    "from tqdm import tqdm\n",
    "\n",
    "from matplotlib.pyplot import imsave, imread\n",
    "import matplotlib.pyplot as plt\n",
    "import sys\n",
    "import matplotlib.gridspec as gridspec\n",
    "\n",
    "import copy\n",
    "import pickle\n",
    "\n",
    "#Backend py file imports\n",
    "from floodfill import *\n",
    "from dataloader import *\n",
    "from model import *\n",
    "from oracle import *\n",
    "from unet import *\n",
    "import ternausnet.models"
   ]
  },
  {
   "cell_type": "markdown",
   "id": "17e1fa99",
   "metadata": {},
   "source": [
    "### Run ID Setup"
   ]
  },
  {
   "cell_type": "markdown",
   "id": "81c8ee9d",
   "metadata": {},
   "source": [
    "#run_id has format of \"mm_dd_count\", where count is the current run on the day (a,b,etc)\n",
    "run_id = \"07_19_a\" "
   ]
  },
  {
   "cell_type": "code",
   "execution_count": null,
   "id": "6743f5a5",
   "metadata": {},
   "outputs": [],
   "source": [
    "#users_name tells us who is working on the notebook (vaibhav/alina)\n",
    "users_name = input(\"what is your name: \")\n",
    "print(f\"Your name is: {users_name}.\")"
   ]
  },
  {
   "cell_type": "markdown",
   "id": "4c5d096d",
   "metadata": {},
   "source": [
    "## Active Learning Stage"
   ]
  },
  {
   "cell_type": "markdown",
   "id": "0e76fdfa",
   "metadata": {},
   "source": [
    "### Initialization"
   ]
  },
  {
   "cell_type": "code",
   "execution_count": null,
   "id": "b6b6df69",
   "metadata": {},
   "outputs": [],
   "source": [
    "im_dir = \"\" #im_dir is the directory where oracle pulls images"
   ]
  },
  {
   "cell_type": "code",
   "execution_count": null,
   "id": "8b3bf868",
   "metadata": {},
   "outputs": [],
   "source": [
    "dataloader = get_DataLoader(im_dir,32,2) #Generates dataloader from im_dir. Takes in batch_size and num_workers\n",
    "\n",
    "#Initializes oracle results dict and thresholds dict\n",
    "oracle_results = {}\n",
    "oracle_results_thresholds = {}"
   ]
  },
  {
   "cell_type": "markdown",
   "id": "a1b3f859",
   "metadata": {},
   "source": [
    "### Initial Training"
   ]
  },
  {
   "cell_type": "code",
   "execution_count": null,
   "id": "48536177",
   "metadata": {},
   "outputs": [],
   "source": [
    "model,loss_tracker,criterion,optimizer = initialize_and_train_model(dataloader, epochs=5) #default batch_size and epochs\n",
    "plt.plot(loss_tracker) #plot graph"
   ]
  },
  {
   "cell_type": "code",
   "execution_count": null,
   "id": "d7e24d60",
   "metadata": {},
   "outputs": [],
   "source": [
    "#Gets the patient scores based on initial trained model. Patient scores is how \"good\" the model thinks the segmentation is\n",
    "all_patient_scores = []\n",
    "\n",
    "patient_scores = get_patient_scores(model,dataloader)  #patient_scores is a dictionary of patient->score\n",
    "all_patient_scores.append(patient_scores)"
   ]
  },
  {
   "cell_type": "markdown",
   "id": "22dd0986",
   "metadata": {},
   "source": [
    "### Oracle Querying"
   ]
  },
  {
   "cell_type": "code",
   "execution_count": null,
   "id": "9bfc1f7c",
   "metadata": {},
   "outputs": [],
   "source": [
    "#Queries the oracle. Relevant arguments: query_method and query_number\n",
    "#Query methods: best, worst, percentile=0.x, uniform.\n",
    "#Put 1 if correct, 0 if impossible, new threshold if new threshold will help.\n",
    "\n",
    "new_oracle_results, new_oracle_results_thresholds = query_oracle(oracle_results,oracle_results_thresholds,\n",
    "                                                                 patient_scores,im_dir,query_method=\"best\",\n",
    "                                                                 query_number=13)\n",
    "oracle_results, oracle_results_thresholds = new_oracle_results, new_oracle_results_thresholds"
   ]
  },
  {
   "cell_type": "markdown",
   "id": "50d8ef85",
   "metadata": {},
   "source": [
    "### Updating"
   ]
  },
  {
   "cell_type": "code",
   "execution_count": null,
   "id": "b590c71d",
   "metadata": {},
   "outputs": [],
   "source": [
    "#Update patient scores and add to all_patient_scores array\n",
    "patient_scores = get_patient_scores(model,dataloader)\n",
    "all_patient_scores.append(patient_scores)"
   ]
  },
  {
   "cell_type": "code",
   "execution_count": null,
   "id": "d854584f",
   "metadata": {},
   "outputs": [],
   "source": [
    "#Update the active learning classifier with learned data\n",
    "#TODO: track model loss somehow along with patient_scores (KEEP TODO AND ADDRESS)\n",
    "for i in range(3):\n",
    "    model = model_update(model,dataloader,oracle_results,criterion,optimizer,num_epochs=1)\n",
    "\n",
    "    patient_scores = get_patient_scores(model,dataloader)\n",
    "    all_patient_scores.append(patient_scores)"
   ]
  },
  {
   "cell_type": "markdown",
   "id": "2d7d44e7",
   "metadata": {},
   "source": [
    "**Go Back to Oracle Querying Heading if you want to keep querying images**"
   ]
  },
  {
   "cell_type": "markdown",
   "id": "18937330",
   "metadata": {},
   "source": [
    "### Plotting Active Learning Metrics"
   ]
  },
  {
   "cell_type": "code",
   "execution_count": null,
   "id": "44c92b2e",
   "metadata": {},
   "outputs": [],
   "source": [
    "#Prints out metrics for all the patient scores from each update.\n",
    "for i in all_patient_scores:\n",
    "    print(calculate_dispersion_metric(i,oracle_results))"
   ]
  },
  {
   "cell_type": "code",
   "execution_count": null,
   "id": "3dd22e2a",
   "metadata": {},
   "outputs": [],
   "source": [
    "#Plot the disperson metric\n",
    "j = []\n",
    "for i in all_patient_scores:\n",
    "    j.append(calculate_dispersion_metric(i,oracle_results))\n",
    "    \n",
    "plt.plot(j)"
   ]
  },
  {
   "cell_type": "code",
   "execution_count": null,
   "id": "60d10b93",
   "metadata": {},
   "outputs": [],
   "source": [
    "print(\"Length of patient scores: \" + str(len(patient_scores)))\n",
    "print(\"Length of oracle results: \" + str(len(oracle_results)))\n",
    "\n",
    "scores = []\n",
    "for key in patient_scores.keys():\n",
    "    scores.append(patient_scores[key])\n",
    "plt.plot(scores)\n",
    "\n",
    "ones = 0\n",
    "for i in oracle_results.keys():\n",
    "    if oracle_results[i]==1:\n",
    "        ones+=1\n",
    "print(\"Number of ones in oracle results: \", ones)"
   ]
  }
 ],
 "metadata": {
  "kernelspec": {
   "display_name": "Python 3",
   "language": "python",
   "name": "python3"
  },
  "language_info": {
   "codemirror_mode": {
    "name": "ipython",
    "version": 3
   },
   "file_extension": ".py",
   "mimetype": "text/x-python",
   "name": "python",
   "nbconvert_exporter": "python",
   "pygments_lexer": "ipython3",
   "version": "3.6.9"
  }
 },
 "nbformat": 4,
 "nbformat_minor": 5
}
