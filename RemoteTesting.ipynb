{
 "cells": [
  {
   "cell_type": "code",
   "execution_count": 1,
   "id": "native-uncle",
   "metadata": {},
   "outputs": [
    {
     "name": "stdout",
     "output_type": "stream",
     "text": [
      "manually leveling\n"
     ]
    }
   ],
   "source": [
    "print('manually leveling')"
   ]
  },
  {
   "cell_type": "markdown",
   "id": "da77abad",
   "metadata": {},
   "source": [
    "## Import Section"
   ]
  },
  {
   "cell_type": "code",
   "execution_count": 2,
   "id": "b601e346",
   "metadata": {},
   "outputs": [],
   "source": [
    "import numpy as np\n",
    "import torch\n",
    "import torchvision\n",
    "from time import time\n",
    "import random\n",
    "\n",
    "from torch.utils.data import Dataset, DataLoader\n",
    "from torchvision import datasets, transforms\n",
    "from torch import nn, optim\n",
    "from torch.utils.data.sampler import SubsetRandomSampler\n",
    "import torchvision.transforms.functional as TF\n",
    "import torch.nn.functional as F\n",
    "from torch.autograd import Variable\n",
    "import os\n",
    "import glob\n",
    "import cv2\n",
    "from tqdm import tqdm\n",
    "\n",
    "from matplotlib.pyplot import imsave, imread\n",
    "import matplotlib.pyplot as plt\n",
    "import sys\n",
    "import matplotlib.gridspec as gridspec\n",
    "\n",
    "import copy\n",
    "import pickle"
   ]
  },
  {
   "cell_type": "code",
   "execution_count": 3,
   "id": "78ad1510",
   "metadata": {},
   "outputs": [],
   "source": [
    "from floodfill import *\n",
    "from dataloader import *\n",
    "from model import *\n",
    "from oracle import *\n",
    "from unet import *\n",
    "import ternausnet.models"
   ]
  },
  {
   "cell_type": "code",
   "execution_count": 4,
   "id": "2bf5c44d",
   "metadata": {},
   "outputs": [],
   "source": [
    "from vivek.model import *"
   ]
  },
  {
   "cell_type": "markdown",
   "id": "b81907ee",
   "metadata": {},
   "source": [
    "## Testing Jupyter Notebook Section"
   ]
  },
  {
   "cell_type": "code",
   "execution_count": 5,
   "id": "0fc3727a",
   "metadata": {},
   "outputs": [
    {
     "name": "stdout",
     "output_type": "stream",
     "text": [
      "what is your name: vaibhav\n",
      "Your name is: vaibhav.\n"
     ]
    }
   ],
   "source": [
    "#Testing live input from user\n",
    "users_name = input(\"what is your name: \")\n",
    "print(f\"Your name is: {users_name}.\")"
   ]
  },
  {
   "cell_type": "code",
   "execution_count": null,
   "id": "acfdec25",
   "metadata": {},
   "outputs": [],
   "source": [
    "#Tests loading an image from a directory - train\n",
    "#im_dir = \"/usr/xtmp/mammo/image_datasets/data_split_july2021/square_ROI_by_shape_segmentations_unbin/train/\"\n",
    "#im_dir = \"/usr/xtmp/vs196/mammoproj/Code/ActiveLearning/AllOracleRuns/Run_03_10_a/Iter1/UNetSegmentations_ff/\"\n",
    "#im_dir = \"/usr/xtmp/vs196/mammoproj/Code/ActiveLearning/AllOracleRuns/Run_03_31_a/Iter1/UNetSegmentations_ff/\"\n",
    "#im_dir = \"/usr/xtmp/vs196/mammoproj/Code/ActiveLearning/UNetSegmentations/Iter0_ff/Oval/\"\n",
    "#im_dir = \"/usr/xtmp/vs196/mammoproj/Code/ActiveLearning/AllOracleRuns/Run_11_29_a/Iter2/UNetSegmentations_C/Oval/\"\n",
    "#im_dir = \"/usr/xtmp/vs196/mammoproj/Code/ActiveLearning/AllOracleRuns/Run_11_29_a/Iter2/UNetSegmentations_C/Round/\"\n",
    "# im_dir = \"/usr/xtmp/vs196/mammoproj/Code/ActiveLearning/AllOracleRuns/Run_11_24_b/Iter1/UNetSegmentations_C/Oval/\"\n",
    "#im_dir = \"/usr/xtmp/vs196/mammoproj/Code/ActiveLearning/UNetSegmentations/Iter0_ff/Round/\"\n",
    "#ims = [\"DP_ACRF_18645_1.npy\"]\n",
    "#im_dir = \"/usr/xtmp/vs196/mammoproj/Code/ActiveLearning/AllOracleRuns/Run_02_10_a/Iter1/OracleThresholdedImages_ff/Irregular/\"\n",
    "ims = [\"Oval/DP_AGYG_113509_1.npy\"]\n",
    "\n",
    "for im in ims:\n",
    "    path = im_dir + im;\n",
    "    arr = np.load(path)\n",
    "    #arr = np.where(arr > 0.2,1,0)\n",
    "    print(arr.shape)\n",
    "    \n",
    "plt.imshow(arr[0],cmap='jet')\n",
    "#plt.show()\n",
    "im_dir = save_dir"
   ]
  },
  {
   "cell_type": "markdown",
   "id": "c894ee31",
   "metadata": {},
   "source": [
    "## Active Learning: Setup - Run once per run id"
   ]
  },
  {
   "cell_type": "code",
   "execution_count": 6,
   "id": "3bb5d434",
   "metadata": {},
   "outputs": [],
   "source": [
    "run_id = \"07_12_a\" #Run of visualizing unet valid segs\n",
    "#run_id = \"06_14_a\" #Run of converting finished segs into unet segmentations.\n",
    "#run_id = \"06_10_a\" #Validation Run 1\n",
    "#run_id = \"04_28_a\"\n",
    "#run_id = \"03_31_a\" #Format: Month_Day_(Run # that day by letter)\n",
    "#run_id = \"02_10_a\"\n",
    "#run_id = \"02_28_a\"\n",
    "#original \n",
    "#01_01_b is where we load from alina's oracle results\n",
    "#02_28_a is where we load trained model\n",
    "#03_24_a is where we load vaibhav's oracle results (also includes the 1_01_b oracle results) \n",
    "#03_31_a is where we load vaibhav's second oracle results (also includes 3_24_a) oracle results"
   ]
  },
  {
   "cell_type": "code",
   "execution_count": 7,
   "id": "70ab0d27",
   "metadata": {},
   "outputs": [],
   "source": [
    "iter_num=1"
   ]
  },
  {
   "cell_type": "code",
   "execution_count": 8,
   "id": "e4f60f2b",
   "metadata": {},
   "outputs": [],
   "source": [
    "#im_dir = \"/usr/xtmp/mammo/image_datasets/data_split_july2021/square_ROI_by_shape_segmentations_unbin/validation/\" #validation im_dir\n",
    "#im_dir = \"/usr/xtmp/vs196/mammoproj/Code/ActiveLearning/AllOracleRuns/Run_03_31_a/Iter1/UNetSegmentations_ff/\"\n",
    "im_dir = \"/usr/xtmp/vs196/mammoproj/Data/manualfa/validation_ff/\""
   ]
  },
  {
   "cell_type": "code",
   "execution_count": 9,
   "id": "f7c91059",
   "metadata": {},
   "outputs": [
    {
     "name": "stdout",
     "output_type": "stream",
     "text": [
      "07_12_a\n"
     ]
    }
   ],
   "source": [
    "print(run_id)"
   ]
  },
  {
   "cell_type": "code",
   "execution_count": 10,
   "id": "487ea26c",
   "metadata": {},
   "outputs": [
    {
     "name": "stderr",
     "output_type": "stream",
     "text": [
      "\r",
      "  0%|          | 0/5 [00:00<?, ?it/s]"
     ]
    },
    {
     "name": "stdout",
     "output_type": "stream",
     "text": [
      "torch.Size([32, 1, 256, 256])\n"
     ]
    },
    {
     "name": "stderr",
     "output_type": "stream",
     "text": [
      "  0%|          | 0/5 [00:04<?, ?it/s]\n"
     ]
    }
   ],
   "source": [
    "#Gets the dataloader. Passes in directory of ALL images\n",
    "#im_dir = \"/usr/xtmp/mammo/image_datasets/data_split_july2021/square_ROI_by_shape_segmentations/train/\"\n",
    "#GET THE NEW IM_DIR FOR SUBSEQUENT ITERATIONS\n",
    "#im_dir = \"/usr/xtmp/mammo/image_datasets/data_split_july2021/square_ROI_by_shape_segmentations_unbin/train/\"\n",
    "dataloader = get_DataLoader(im_dir,32,2)\n",
    "\n",
    "#Tests the dataloader\n",
    "for i in tqdm(dataloader):\n",
    "#     print(max(i[1]))\n",
    "    print(i[1].shape)\n",
    "    break"
   ]
  },
  {
   "cell_type": "code",
   "execution_count": 11,
   "id": "765929c2",
   "metadata": {},
   "outputs": [],
   "source": [
    "#Initializing info arrays for active learning. oracle_results maps patientIDs to 0,1 labels\n",
    "oracle_results = {}\n",
    "oracle_results_thresholds = {}"
   ]
  },
  {
   "cell_type": "markdown",
   "id": "30e48a9b",
   "metadata": {},
   "source": [
    "## Active Learning: Querying"
   ]
  },
  {
   "cell_type": "code",
   "execution_count": 72,
   "id": "b8b9568e",
   "metadata": {
    "scrolled": false
   },
   "outputs": [
    {
     "name": "stderr",
     "output_type": "stream",
     "text": [
      "Using cache found in /home/users/vs196/.cache/torch/hub/pytorch_vision_v0.10.0\n",
      "100%|██████████| 5/5 [00:01<00:00,  3.91it/s]\n",
      "100%|██████████| 5/5 [00:01<00:00,  4.09it/s]\n",
      "100%|██████████| 5/5 [00:01<00:00,  4.02it/s]\n",
      "100%|██████████| 5/5 [00:01<00:00,  3.55it/s]\n",
      "100%|██████████| 5/5 [00:01<00:00,  3.89it/s]\n"
     ]
    },
    {
     "data": {
      "text/plain": [
       "[<matplotlib.lines.Line2D at 0x7f6243b34e48>]"
      ]
     },
     "execution_count": 72,
     "metadata": {},
     "output_type": "execute_result"
    },
    {
     "data": {
      "image/png": "[encoded data removed]",
      "text/plain": [
       "<Figure size 432x288 with 1 Axes>"
      ]
     },
     "metadata": {
      "needs_background": "light"
     },
     "output_type": "display_data"
    }
   ],
   "source": [
    "#Initializes and trains the model. Plots a loss function of the initial training\n",
    "model,loss_tracker,criterion,optimizer = initialize_and_train_model(dataloader, epochs=5) #default batch_size and epochs\n",
    "plt.plot(loss_tracker) #plot graph"
   ]
  },
  {
   "cell_type": "code",
   "execution_count": 73,
   "id": "249b7b53",
   "metadata": {},
   "outputs": [
    {
     "name": "stderr",
     "output_type": "stream",
     "text": [
      "100%|██████████| 5/5 [00:01<00:00,  4.21it/s]\n"
     ]
    }
   ],
   "source": [
    "all_patient_scores = []\n",
    "\n",
    "#right now patient_scores is initial scores for each patient (without active learning training)\n",
    "patient_scores = get_patient_scores(model,dataloader) \n",
    "all_patient_scores.append(patient_scores)"
   ]
  },
  {
   "cell_type": "code",
   "execution_count": 74,
   "id": "ac088f10",
   "metadata": {},
   "outputs": [
    {
     "name": "stdout",
     "output_type": "stream",
     "text": [
      "Patient: Irregular/DP_AJNO_195729_1. 0.4916985034942627\n",
      "Patient: Irregular/DP_ALRI_40247_1. 0.49251434206962585\n",
      "Patient: Irregular/DP_AGMV_104120_1. 0.4925626218318939\n",
      "Patient: Round/DP_AIMN_147951_1. 0.4925653338432312\n",
      "Patient: Irregular/DP_AGMV_104119_1. 0.49288812279701233\n",
      "Patient: Round/DP_AKZR_22705_1. 0.493513822555542\n",
      "Patient: Oval/DP_AKXF_20408_1. 0.4938749074935913\n",
      "Patient: Oval/DP_AEDI_37577_1. 0.49393486976623535\n",
      "Patient: Oval/DP_AHVF_131875_1. 0.49412932991981506\n",
      "Patient: Oval/DP_AHOP_126448_1. 0.49429699778556824\n",
      "Patient: Irregular/DP_AFFK_59722_1. 0.4943042993545532\n",
      "Patient: Oval/DP_AEDI_37576_1. 0.4943634271621704\n",
      "Patient: Oval/DP_ADWF_33709_1. 0.49436771869659424\n",
      "Patient: Irregular/DP_AHGU_120736_1. 0.49441349506378174\n",
      "Patient: Oval/DP_AFGV_61210_1. 0.49443352222442627\n",
      "Patient: Irregular/DP_AGID_99567_1. 0.49452635645866394\n",
      "Patient: Irregular/DP_AIUL_155472_1. 0.49479690194129944\n",
      "Patient: Round/DP_AFKQ_65026_1. 0.49492934346199036\n",
      "Patient: Oval/DP_ALBZ_24810_1. 0.4950181841850281\n",
      "Patient: Round/DP_ADTU_32538_1. 0.4951499104499817\n",
      "Patient: Irregular/DP_ACIY_15275_1. 0.49516046047210693\n",
      "Patient: Irregular/DP_ACHS_14814_2. 0.4951672852039337\n",
      "Patient: Irregular/DP_ALSI_41503_1. 0.49517083168029785\n",
      "Patient: Oval/DP_ACHI_14657_1. 0.49519023299217224\n",
      "Patient: Round/DP_AFQA_69893_2. 0.49526509642601013\n",
      "Patient: Irregular/DP_AKXN_20682_1. 0.49534159898757935\n",
      "Patient: Oval/DP_AGZJ_114095_1. 0.4954078197479248\n",
      "Patient: Oval/DP_AKII_6002_1. 0.49547460675239563\n",
      "Patient: Irregular/DP_ALRI_40245_1. 0.49566465616226196\n",
      "Patient: Oval/DP_ABNB_174666_1. 0.4957200288772583\n",
      "Patient: Irregular/DP_AKWG_19219_1. 0.49584344029426575\n",
      "Patient: Round/DP_AGDB_95338_1. 0.4958639442920685\n",
      "Patient: Round/DP_AIDV_139676_1. 0.49590760469436646\n",
      "Patient: Irregular/DP_AGWG_111814_1. 0.49604684114456177\n",
      "Patient: Irregular/DP_ALMD_34548_1. 0.4960610270500183\n",
      "Patient: Oval/DP_ACZA_22795_1. 0.49606749415397644\n",
      "Patient: Oval/DP_AHGB_120102_1. 0.49613186717033386\n",
      "Patient: Oval/DP_AIZC_181039_1. 0.49628615379333496\n",
      "Patient: Oval/DP_AGZJ_114095_2. 0.49638137221336365\n",
      "Patient: Round/DP_AIHC_143249_1. 0.496381551027298\n",
      "Patient: Irregular/DP_ALQX_39966_1. 0.4964049756526947\n",
      "Patient: Irregular/DP_AFWX_78516_1. 0.49644526839256287\n",
      "Patient: Oval/DP_AFPZ_69872_1. 0.49646201729774475\n",
      "Patient: Oval/DP_ABIF_169240_1. 0.4965718984603882\n",
      "Patient: Oval/DP_ALHB_29688_1. 0.4967108964920044\n",
      "Patient: Oval/DP_ADZI_35378_1. 0.4967411160469055\n",
      "Patient: Irregular/DP_AIIJ_144328_1. 0.4967758059501648\n",
      "Patient: Irregular/DP_AAWK_9397_1. 0.4967874586582184\n",
      "Patient: Oval/DP_AFGT_61166_1. 0.4968160092830658\n",
      "Patient: Oval/DP_ACAR_12429_1. 0.4968177080154419\n",
      "Patient: Oval/DP_ACZA_22793_1. 0.49687644839286804\n",
      "Patient: Irregular/DP_AADT_2223_1. 0.49696505069732666\n",
      "Patient: Irregular/DP_AFJE_63459_1. 0.4969949424266815\n",
      "Patient: Irregular/DP_AEQI_46728_1. 0.4971008896827698\n",
      "Patient: Oval/DP_AGJH_100752_1. 0.4971202611923218\n",
      "Patient: Oval/DP_AITA_154077_1. 0.4971960783004761\n",
      "Patient: Round/DP_ADRF_31277_1. 0.49720555543899536\n",
      "Patient: Oval/DP_AFLC_65548_1. 0.49722346663475037\n",
      "Patient: Irregular/DP_AFJE_63456_1. 0.4972594678401947\n",
      "Patient: Irregular/DP_ALYI_48127_1. 0.4973193407058716\n",
      "Patient: Irregular/DP_AIDZ_140010_1. 0.497389554977417\n",
      "Patient: Oval/DP_ADRV_31565_1. 0.4974091053009033\n",
      "Patient: Round/DP_ADTU_32536_1. 0.49743443727493286\n",
      "Patient: Round/DP_ACUM_20052_1. 0.4974564015865326\n",
      "Patient: Oval/DP_AEFE_38502_1. 0.4974743127822876\n",
      "Patient: Round/DP_AFQA_69892_2. 0.4974905252456665\n",
      "Patient: Irregular/DP_ADIC_26895_2. 0.49754098057746887\n",
      "Patient: Irregular/DP_AEOU_44995_1. 0.49764227867126465\n",
      "Patient: Oval/DP_AGLN_102934_1. 0.49765363335609436\n",
      "Patient: Irregular/DP_AJLL_193671_1. 0.49767056107521057\n",
      "Patient: Oval/DP_AHGL_120384_1. 0.49770230054855347\n",
      "Patient: Irregular/DP_AINE_148601_1. 0.4977037310600281\n",
      "Patient: Oval/DP_AFGT_61168_1. 0.497729629278183\n",
      "Patient: Oval/DP_AMAM_51885_1. 0.4977300465106964\n",
      "Patient: Oval/DP_ACIC_14922_1. 0.4977388083934784\n",
      "Patient: Irregular/DP_AACA_162_1. 0.49783042073249817\n",
      "Patient: Irregular/DP_AHIQ_122199_1. 0.49796876311302185\n",
      "Patient: Oval/DP_AHNY_126003_1. 0.4979896545410156\n",
      "Patient: Oval/DP_ABEI_165796_1. 0.4980003833770752\n",
      "Patient: Irregular/DP_AEGA_38991_1. 0.49802663922309875\n",
      "Patient: Oval/DP_AKLT_8724_1. 0.4980885684490204\n",
      "Patient: Oval/DP_AGYG_113508_1. 0.49823999404907227\n",
      "Patient: Oval/DP_AEFG_38519_1. 0.4982476234436035\n",
      "Patient: Irregular/DP_AJXO_86240_1. 0.4983144700527191\n",
      "Patient: Oval/DP_AHES_118933_1. 0.49833086133003235\n",
      "Patient: Oval/DP_AGEM_97000_1. 0.49834421277046204\n",
      "Patient: Oval/DP_ACQC_18181_1. 0.4985991418361664\n",
      "Patient: Round/DP_ALUT_44530_1. 0.49863216280937195\n",
      "Patient: Oval/DP_AFPZ_69873_1. 0.498643159866333\n",
      "Patient: Oval/DP_AGAD_91984_1. 0.49866190552711487\n",
      "Patient: Irregular/DP_AIIJ_144327_1. 0.4986902177333832\n",
      "Patient: Oval/DP_AHVF_131875_2. 0.4987226128578186\n",
      "Patient: Round/DP_AJKR_192929_1. 0.49875372648239136\n",
      "Patient: Oval/DP_ACXI_21350_1. 0.4989003539085388\n",
      "Patient: Oval/DP_AEVQ_50806_1. 0.49891602993011475\n",
      "Patient: Oval/DP_AEKJ_41410_1. 0.49905920028686523\n",
      "Patient: Irregular/DP_ALHZ_30381_1. 0.49908891320228577\n",
      "Patient: Oval/DP_AGAU_93008_1. 0.49919819831848145\n",
      "Patient: Oval/DP_AFYI_90057_1. 0.4993003010749817\n",
      "Patient: Oval/DP_AJLO_193720_1. 0.49953389167785645\n",
      "Patient: Round/DP_AAZA_161134_1. 0.4995793402194977\n",
      "Patient: Oval/DP_AFGL_60806_1. 0.49960824847221375\n",
      "Patient: Irregular/DP_AAWK_9396_1. 0.4996219575405121\n",
      "Patient: Irregular/DP_AJRF_80612_1. 0.49965742230415344\n",
      "Patient: Oval/DP_AASB_7172_1. 0.4996727705001831\n",
      "Patient: Irregular/DP_AINT_149192_1. 0.49969372153282166\n",
      "Patient: Oval/DP_AJKG_192266_1. 0.4997958838939667\n",
      "Patient: Round/DP_AGDB_95339_1. 0.49979615211486816\n",
      "Patient: Oval/DP_ABJK_171167_1. 0.499951034784317\n",
      "Patient: Oval/DP_AIUW_156042_1. 0.5000120997428894\n",
      "Patient: Irregular/DP_AJRB_80543_1. 0.500066339969635\n",
      "Patient: Oval/DP_ADLL_28508_1. 0.5000971555709839\n",
      "Patient: Oval/DP_AFWY_78536_1. 0.5002097487449646\n",
      "Patient: Oval/DP_ALRN_40644_1. 0.5002529621124268\n",
      "Patient: Round/DP_ACXV_21601_1. 0.5003332495689392\n",
      "Patient: Round/DP_ADHR_26798_1. 0.5003563165664673\n",
      "Patient: Oval/DP_ABMJ_14949_1. 0.5004022121429443\n",
      "Patient: Oval/DP_ACLK_16241_1. 0.5004583597183228\n",
      "Patient: Oval/DP_ALRN_40645_1. 0.5005105137825012\n",
      "Patient: Oval/DP_AGNZ_104911_1. 0.5005228519439697\n",
      "Patient: Oval/DP_ABMJ_14948_1. 0.5007603764533997\n",
      "Patient: Oval/DP_ALBW_24691_1. 0.5009457468986511\n",
      "Patient: Round/DP_AFQA_69892_1. 0.500989556312561\n",
      "Patient: Oval/DP_AABJ_136_1. 0.5010406374931335\n",
      "Patient: Oval/DP_AFQG_70245_1. 0.5011136531829834\n",
      "Patient: Irregular/DP_AFVH_74432_1. 0.5011796951293945\n",
      "Patient: Oval/DP_AJJT_191912_1. 0.501262366771698\n",
      "Patient: Oval/DP_AGYP_113679_1. 0.5013954639434814\n",
      "Patient: Oval/DP_AFQG_70243_1. 0.5014227628707886\n",
      "Patient: Irregular/DP_AAYT_160710_1. 0.5015446543693542\n",
      "Patient: Oval/DP_ALAR_23837_1. 0.5017257332801819\n",
      "Patient: Irregular/DP_AGCR_94837_1. 0.5019380450248718\n",
      "Patient: Irregular/DP_AFKT_65174_1. 0.5021123886108398\n",
      "Patient: Round/DP_AKWY_20109_1. 0.5026240944862366\n",
      "Patient: Oval/DP_AFEA_58448_1. 0.5029093623161316\n",
      "Patient: Irregular/DP_ACLK_16237_1. 0.5030809640884399\n",
      "Patient: Oval/DP_AFEI_58847_1. 0.5031985640525818\n",
      "Patient: Irregular/DP_AGJO_101007_1. 0.5033931732177734\n",
      "Patient: Irregular/DP_AIPV_151182_1. 0.5035249590873718\n",
      "Patient: Oval/DP_AEME_42690_1. 0.5037981867790222\n",
      "Patient: Oval/DP_AKNP_11055_1. 0.5038850903511047\n",
      "Patient: Oval/DP_AJLE_193266_1. 0.5044348239898682\n",
      "Patient: Oval/DP_ABCT_164330_1. 0.5046603679656982\n"
     ]
    }
   ],
   "source": [
    "for patient_id_valid in patient_scores.keys():\n",
    "    print(f\"Patient: {patient_id_valid}. {patient_scores[patient_id_valid]}\")"
   ]
  },
  {
   "cell_type": "code",
   "execution_count": 124,
   "id": "0006f471",
   "metadata": {
    "scrolled": true
   },
   "outputs": [
    {
     "data": {
      "image/png": "[encoded data removed]",
      "text/plain": [
       "<Figure size 864x288 with 4 Axes>"
      ]
     },
     "metadata": {
      "needs_background": "light"
     },
     "output_type": "display_data"
    },
    {
     "name": "stdout",
     "output_type": "stream",
     "text": [
      "If any part of an image segmentation is incorrect, label the entire image as incorrect.\n",
      "Enter labels for images separated by comma. 1 is a good label; 0 is a bad label; float is a threshold; 2 is skip: 0.01\n"
     ]
    },
    {
     "data": {
      "image/png": "[encoded data removed]",
      "text/plain": [
       "<Figure size 864x288 with 4 Axes>"
      ]
     },
     "metadata": {
      "needs_background": "light"
     },
     "output_type": "display_data"
    },
    {
     "name": "stdout",
     "output_type": "stream",
     "text": [
      "If any part of an image segmentation is incorrect, label the entire image as incorrect.\n",
      "Enter labels for images separated by comma. 1 is a good label; 0 is a bad label; float is a threshold; 2 is skip: 0.001\n"
     ]
    },
    {
     "data": {
      "image/png": "[encoded data removed]",
      "text/plain": [
       "<Figure size 864x288 with 4 Axes>"
      ]
     },
     "metadata": {
      "needs_background": "light"
     },
     "output_type": "display_data"
    },
    {
     "name": "stdout",
     "output_type": "stream",
     "text": [
      "If any part of an image segmentation is incorrect, label the entire image as incorrect.\n",
      "Enter labels for images separated by comma. 1 is a good label; 0 is a bad label; float is a threshold; 2 is skip: 0\n"
     ]
    }
   ],
   "source": [
    "new_oracle_results, new_oracle_results_thresholds = query_oracle(oracle_results,oracle_results_thresholds,\n",
    "                                                                 patient_scores,im_dir,query_method=\"percentile=0.5\",\n",
    "                                                                 query_number=10)\n",
    "oracle_results, oracle_results_thresholds = new_oracle_results, new_oracle_results_thresholds"
   ]
  },
  {
   "cell_type": "markdown",
   "id": "f0aec784",
   "metadata": {},
   "source": [
    "##### #query_num+=2"
   ]
  },
  {
   "cell_type": "code",
   "execution_count": 125,
   "id": "aa40fd2d",
   "metadata": {},
   "outputs": [
    {
     "name": "stderr",
     "output_type": "stream",
     "text": [
      "100%|██████████| 5/5 [00:01<00:00,  3.94it/s]\n"
     ]
    }
   ],
   "source": [
    "patient_scores = get_patient_scores(model,dataloader)\n",
    "all_patient_scores.append(patient_scores)"
   ]
  },
  {
   "cell_type": "code",
   "execution_count": 126,
   "id": "02ff0ecf",
   "metadata": {
    "scrolled": true
   },
   "outputs": [
    {
     "name": "stderr",
     "output_type": "stream",
     "text": [
      "100%|██████████| 5/5 [00:01<00:00,  4.24it/s]\n",
      "100%|██████████| 5/5 [00:01<00:00,  4.46it/s]\n",
      "100%|██████████| 5/5 [00:01<00:00,  4.21it/s]\n",
      "100%|██████████| 5/5 [00:01<00:00,  4.15it/s]\n",
      "100%|██████████| 5/5 [00:01<00:00,  4.39it/s]\n",
      "100%|██████████| 5/5 [00:01<00:00,  4.06it/s]\n"
     ]
    }
   ],
   "source": [
    "#TODO: track model loss somehow along with patient_scores\n",
    "for i in range(3):\n",
    "    model = model_update(model,dataloader,oracle_results,criterion,optimizer,num_epochs=1)\n",
    "\n",
    "    patient_scores = get_patient_scores(model,dataloader)\n",
    "    all_patient_scores.append(patient_scores)"
   ]
  },
  {
   "cell_type": "markdown",
   "id": "44bded4f",
   "metadata": {},
   "source": [
    "## Metrics and plotting"
   ]
  },
  {
   "cell_type": "code",
   "execution_count": 127,
   "id": "35f48fcf",
   "metadata": {},
   "outputs": [
    {
     "name": "stdout",
     "output_type": "stream",
     "text": [
      "0.6843033509700176\n",
      "0.6843033509700176\n",
      "0.5820105820105821\n",
      "0.5714285714285714\n",
      "0.5820105820105821\n",
      "0.5943562610229277\n",
      "0.6102292768959436\n",
      "0.63668430335097\n",
      "0.63668430335097\n",
      "0.6278659611992945\n",
      "0.6419753086419753\n",
      "0.6384479717813052\n"
     ]
    }
   ],
   "source": [
    "#Prints out all patient scores.\n",
    "for i in all_patient_scores:\n",
    "    print(calculate_dispersion_metric(i,oracle_results))"
   ]
  },
  {
   "cell_type": "code",
   "execution_count": 128,
   "id": "f6cc8711",
   "metadata": {},
   "outputs": [
    {
     "data": {
      "text/plain": [
       "[<matplotlib.lines.Line2D at 0x7f624198a160>]"
      ]
     },
     "execution_count": 128,
     "metadata": {},
     "output_type": "execute_result"
    },
    {
     "data": {
      "image/png": "[encoded data removed]",
      "text/plain": [
       "<Figure size 432x288 with 1 Axes>"
      ]
     },
     "metadata": {
      "needs_background": "light"
     },
     "output_type": "display_data"
    }
   ],
   "source": [
    "#Plot the disperson metric\n",
    "j = []\n",
    "for i in all_patient_scores:\n",
    "    j.append(calculate_dispersion_metric(i,oracle_results))\n",
    "    \n",
    "plt.plot(j)"
   ]
  },
  {
   "cell_type": "code",
   "execution_count": 129,
   "id": "b52692eb",
   "metadata": {},
   "outputs": [
    {
     "name": "stdout",
     "output_type": "stream",
     "text": [
      "Length of patient scores: 143\n",
      "Length of oracle results: 48\n",
      "Number of ones in oracle results:  27\n"
     ]
    },
    {
     "data": {
      "image/png": "[encoded data removed]",
      "text/plain": [
       "<Figure size 432x288 with 1 Axes>"
      ]
     },
     "metadata": {
      "needs_background": "light"
     },
     "output_type": "display_data"
    }
   ],
   "source": [
    "print(\"Length of patient scores: \" + str(len(patient_scores)))\n",
    "print(\"Length of oracle results: \" + str(len(oracle_results)))\n",
    "\n",
    "scores = []\n",
    "for key in patient_scores.keys():\n",
    "    scores.append(patient_scores[key])\n",
    "plt.plot(scores)\n",
    "\n",
    "ones = 0\n",
    "for i in oracle_results.keys():\n",
    "    if oracle_results[i]==1:\n",
    "        ones+=1\n",
    "print(\"Number of ones in oracle results: \", ones)"
   ]
  },
  {
   "cell_type": "code",
   "execution_count": 130,
   "id": "ba948cf5",
   "metadata": {
    "scrolled": true
   },
   "outputs": [
    {
     "data": {
      "text/plain": [
       "2"
      ]
     },
     "execution_count": 130,
     "metadata": {},
     "output_type": "execute_result"
    }
   ],
   "source": [
    "iter_num"
   ]
  },
  {
   "cell_type": "markdown",
   "id": "12e8917f",
   "metadata": {},
   "source": [
    "Jump back to oracle query if you want to query more. Move on to retrain segmenter"
   ]
  },
  {
   "cell_type": "markdown",
   "id": "27cfb1f5",
   "metadata": {},
   "source": [
    "## Saving or Loading Oracle Results"
   ]
  },
  {
   "cell_type": "code",
   "execution_count": 131,
   "id": "e70b7ba0",
   "metadata": {},
   "outputs": [
    {
     "name": "stdout",
     "output_type": "stream",
     "text": [
      "Done with saving this iteration of oracle results\n"
     ]
    }
   ],
   "source": [
    "if True:\n",
    "    #SAVE ORACLE\n",
    "\n",
    "    #make filepath\n",
    "    if users_name == 'alina':\n",
    "        save_dir = \"/usr/xtmp/mammo/alina_code/shapesAL/data/AllOracleRuns/Run_\" + run_id + \"/Iter\" + str(iter_num) + \"/CorrectSegmentations/\"\n",
    "    elif users_name == 'vaibhav':\n",
    "        save_dir = \"/usr/xtmp/vs196/mammoproj/Code/ActiveLearning/AllOracleRuns/Run_\" + run_id + \"/Iter\" + str(iter_num) + \"/CorrectSegmentations/\"\n",
    "\n",
    "    saved_oracle_filepaths = save_oracle_results(oracle_results,oracle_results_thresholds,im_dir,save_dir)\n",
    "    fpath = save_dir + \"saved_data_struct/\"\n",
    "    if not os.path.exists(fpath):\n",
    "        os.makedirs(fpath)\n",
    "    saved_oracle_filepaths_filepath = save_dir + \"saved_data_struct/Oracle_Filepaths.pickle\"\n",
    "    pickle.dump(saved_oracle_filepaths,open(saved_oracle_filepaths_filepath,\"wb\"))\n",
    "    pickle.dump(oracle_results,open(save_dir + \"saved_data_struct/Oracle_Results.pickle\",\"wb\"))\n",
    "    pickle.dump(oracle_results_thresholds,open(save_dir + \"saved_data_struct/Oracle_Results_Thresholds.pickle\",\"wb\"))\n",
    "    #TODO: Move border/weight creation to this method and out of convert_directory_to_floodfill"
   ]
  },
  {
   "cell_type": "code",
   "execution_count": 132,
   "id": "34c9d8c8",
   "metadata": {},
   "outputs": [
    {
     "data": {
      "text/plain": [
       "27"
      ]
     },
     "execution_count": 132,
     "metadata": {},
     "output_type": "execute_result"
    }
   ],
   "source": [
    "len(saved_oracle_filepaths)"
   ]
  },
  {
   "cell_type": "code",
   "execution_count": 12,
   "id": "fce7e33e",
   "metadata": {},
   "outputs": [],
   "source": [
    "if True: #done running if False\n",
    "    #LOAD oracle_results and save_oracle_filepaths\n",
    "    if users_name == 'alina':\n",
    "        save_dir = \"/usr/xtmp/mammo/alina_code/shapesAL/data/AllOracleRuns/Run_\" + run_id + \"/Iter\" + str(iter_num) + \"/CorrectSegmentations/\"\n",
    "    elif users_name == 'vaibhav':\n",
    "        save_dir = \"/usr/xtmp/vs196/mammoproj/Code/ActiveLearning/AllOracleRuns/Run_\" + run_id + \"/Iter\" + str(iter_num) + \"/CorrectSegmentations/\"\n",
    "    saved_oracle_filepaths_filepath = save_dir + \"saved_data_struct/Oracle_Filepaths.pickle\"\n",
    "    #Reload from previous iteration\n",
    "    oracle_results = pickle.load(open(save_dir + \"saved_data_struct/Oracle_Results.pickle\",\"rb\"))\n",
    "    oracle_results_thresholds = pickle.load(open(save_dir + \"saved_data_struct/Oracle_Results_Thresholds.pickle\",\"rb\"))\n",
    "    saved_oracle_filepaths = pickle.load(open(saved_oracle_filepaths_filepath,\"rb\"))"
   ]
  },
  {
   "cell_type": "code",
   "execution_count": null,
   "id": "df2eb140",
   "metadata": {},
   "outputs": [],
   "source": [
    "if False:\n",
    "    # RECOVER an accidentally delted oracle (recovers correct segmentations only)\n",
    "    oracle_results = {}\n",
    "    if users_name == 'alina':\n",
    "        recover_from_dir = \"/usr/xtmp/mammo/alina_code/shapesAL/data/AllOracleRuns/Run_\" + run_id + \"/Iter\" + str(iter_num) + \"/CorrectSegmentations/\"\n",
    "    for root, dirs, files in os.walk(recover_from_dir):\n",
    "        for file in files:\n",
    "            if file.endswith(\".npy\"):\n",
    "                filepath = os.path.join(root, file)\n",
    "                print(filepath.split('/')[])\n",
    "                break\n",
    "                oracle_results[file[:-4]] = 1\n",
    "\n",
    "    # pickle.dump(oracle_results,open(recover_from_dir + \"saved_data_struct/Oracle_Results.pickle\",\"wb\"))"
   ]
  },
  {
   "cell_type": "code",
   "execution_count": 134,
   "id": "b2aa7a8e",
   "metadata": {},
   "outputs": [],
   "source": [
    "#Remove all 0's from oracle_results.\n",
    "oracle_results = remove_bad_oracle_results(oracle_results)\n",
    "#NOTE: Don't FULLY reset oracle_results EVER during a run, only do above"
   ]
  },
  {
   "cell_type": "code",
   "execution_count": 137,
   "id": "8905a8b9",
   "metadata": {},
   "outputs": [
    {
     "name": "stdout",
     "output_type": "stream",
     "text": [
      "27\n",
      "{'Irregular/DP_AGMV_104120_1': 1, 'Round/DP_AFQA_69893_2': 1, 'Round/DP_AIMN_147951_1': 1, 'Oval/DP_AEDI_37576_1': 1, 'Oval/DP_AGZJ_114095_1': 1, 'Round/DP_ADTU_32538_1': 1, 'Irregular/DP_AGMV_104119_1': 1, 'Round/DP_ADRF_31277_1': 1, 'Oval/DP_AKNP_11055_1': 1, 'Irregular/DP_AFKT_65174_1': 1, 'Oval/DP_AFEI_58847_1': 1, 'Oval/DP_AFQG_70245_1': 1, 'Oval/DP_ABCT_164330_1': 1, 'Oval/DP_AFEA_58448_1': 1, 'Round/DP_ALUT_44530_1': 1, 'Irregular/DP_AAYT_160710_1': 1, 'Irregular/DP_AHGU_120736_1': 1, 'Irregular/DP_AHIQ_122199_1': 1, 'Oval/DP_AJKG_192266_1': 1, 'Oval/DP_ABJK_171167_1': 1, 'Oval/DP_AMAM_51885_1': 1, 'Irregular/DP_AEGA_38991_1': 1, 'Irregular/DP_AEOU_44995_1': 1, 'Irregular/DP_AINE_148601_1': 1, 'Irregular/DP_AFJE_63459_1': 1, 'Oval/DP_AKXF_20408_1': 1, 'Oval/DP_AHOP_126448_1': 1}\n"
     ]
    }
   ],
   "source": [
    "print(len(oracle_results))\n",
    "print(oracle_results)"
   ]
  },
  {
   "cell_type": "code",
   "execution_count": null,
   "id": "ee83d52c",
   "metadata": {},
   "outputs": [],
   "source": [
    "# #Convert oracle_results to oracle filepaths\n",
    "# all_oracle_filepaths = []\n",
    "    \n",
    "# filestem = '/'.join(saved_oracle_filepaths[0].split(\"/\")[:-2]) +\"/\"\n",
    "# print(filestem)\n",
    "\n",
    "# for key in oracle_results.keys():\n",
    "#     all_oracle_filepaths.append(filestem + key + \".npy\")\n",
    "\n",
    "# print(len(oracle_all_filepaths))"
   ]
  },
  {
   "cell_type": "markdown",
   "id": "10d52ed2",
   "metadata": {},
   "source": [
    "## Retrain UNet and Save New Segmentations"
   ]
  },
  {
   "cell_type": "code",
   "execution_count": null,
   "id": "9bf75808",
   "metadata": {},
   "outputs": [],
   "source": [
    "#Retoggle run id if we want to save today's set instead of loading in an old set.\n",
    "if True:\n",
    "    run_id = \"06_30_a\"\n",
    "    #run_id = \"06_28_a\"  #50 epoch run\n",
    "    #run_id = \"06_17_a\" #25 epoch run\n",
    "    \n",
    "#Retoggle user to Vaibhav if I want to save \n",
    "if True:\n",
    "    users_name = \"vaibhav\""
   ]
  },
  {
   "cell_type": "markdown",
   "id": "32996ba7",
   "metadata": {},
   "source": [
    "Notes for 6/14 Unet Conversion\n",
    "1 cell down: Not necessary to run. Segmentations are already binarized, so no need to threshold.\n",
    "2 cell down: Defines various UNet structures. Run this cell.\n",
    "3 cell down: Loads a UNet model. Either pretrained or from scratch. Run from scratch to start.\n",
    "4 cell down: Changes the directory of saved_oracle_filepaths to the new threshold directory. Since we're not thresholding, no need to run this cell.\n",
    "5 cell down: Confirms run_id iter_num. Run if you want just to confirmm\n",
    "6 cell down: Gets the dataloader and runs. Rewrite this cell to get new dataloader that uses already segmented images. Convert fa pngs to numpys. Resave in another directory (maybe in my folder). Then run as usual.\n",
    "7 cell down: just prints out loss. Run after training and save plot.\n",
    "8 cell down: Evaluates on training images and saves new segmentations as stack. Rewrite to evaluate on validation images, and save ALL stacks regardless of oracle status. Make sure to also stamp saved validation segmentation folder by date (run_id), model type, number epochs, and the fact it's raw output from unet. Note that this method also saves the unbinarized version for use in thresholding in the active learning, so keep that feature in as well.\n",
    "9 cell down: Saves model. Save to same directory, and mark it's name with same info as above (num epochs, run id)\n",
    "10 cell down: Run flood-fill on all images. Don't need to rewrite, as we want it to show the biggest one. \n",
    "\n",
    "command for touching: find . -exec touch {} \\;"
   ]
  },
  {
   "cell_type": "code",
   "execution_count": null,
   "id": "05d8ae9d",
   "metadata": {},
   "outputs": [],
   "source": [
    "#Methods for manual segmentation UNet training\n",
    "\n",
    "\"\"\"\n",
    "Converts the directory with manually segmented batches as pngs \n",
    "into a new directory separated by shape class with numpy stacks of image and segmentation\n",
    "\n",
    "Preconditions: \n",
    "Save_dir already has Irregular/Round/Oval Folders (as I'm not doing os.path.exists)\n",
    "Save_dir ends with \"/\"\n",
    "\n",
    "Parameters:\n",
    "im_dir: Directory containing training batches.\n",
    "\"\"\"\n",
    "#PLACEHOLDER\n",
    "    \n",
    "\"\"\"\n",
    "Use the same unet dataloader as before. Ask Alina about the specifics of inhouse dataset class. \n",
    "Otherwise keep the same setup as before but replace directory with the numpy directories generated earlier.\n",
    "\"\"\"\n",
    "def from_manual_segmentation_dataloader(manual_seg_dir,batch_size,num_workers):\n",
    "    filepaths = []\n",
    "    for root,dirs,files in os.walk(manual_seg_dir):\n",
    "        for file in files:\n",
    "            if file.endswith(\".npy\"):\n",
    "                filepaths.append(os.path.join(root,file))\n",
    "        \n",
    "    new_unet_dataloader = unet_dataloader(filepaths,batch_size,num_workers)\n",
    "    return new_unet_dataloader\n",
    "\n",
    "#Currently on saves unbinarized segs to save_dir. Add functionality to also save binarized with threshold=0.2\n",
    "#(Just use unet_seg)\n",
    "def evaluate_model_on_validation_and_save(model,segmentation_dir,save_dir):\n",
    "    #Define transform for input into model\n",
    "    transforms_arr = [transforms.ToTensor(),transforms.Resize((256,256))]\n",
    "    image_transform = transforms.Compose(transforms_arr)\n",
    "    \n",
    "    #Find all files in segmentation_folder\n",
    "    segmentation_filepaths = []\n",
    "    for root, dirs, files in os.walk(segmentation_dir):\n",
    "        for file in files:\n",
    "            if file.endswith(\".npy\"):\n",
    "                segmentation_filepaths.append(os.path.join(root,file))\n",
    "                \n",
    "    for filepath in tqdm(segmentation_filepaths):\n",
    "        #redo stuff in dataloader - load in stack and apply tensor transform for model input\n",
    "        arr_and_unbin_output = np.load(filepath)\n",
    "        arr = arr_and_unbin_output[0,:,:].copy()\n",
    "        unbin_output = arr_and_unbin_output[1,:,:].copy()\n",
    "\n",
    "        unbin_output = image_transform(unbin_output)[0,:,:]\n",
    "        image = image_transform(arr)\n",
    "        \n",
    "        \n",
    "        image = image.float()\n",
    "        detach_image = image.detach().cpu().numpy()[0,:,:]\n",
    "        image = convert_to_3channel(image).cuda()\n",
    "        image = transforms.Normalize(mean=(0.485, 0.456, 0.406), std=(0.229, 0.224, 0.225)) (image)\n",
    "\n",
    "\n",
    "        unet_seg = model(image)\n",
    "        unbinarized_unet_seg = F.softmax(unet_seg[0],dim=0)[1,:,:]\n",
    "        #unet_seg here is unbinarized.\n",
    "        unet_seg = get_binary_mask(unbinarized_unet_seg)\n",
    "        unbinarized_unet_seg = unbinarized_unet_seg.detach().cpu().numpy()\n",
    "        #grab filename and make sure save directories are defined\n",
    "        #filename = \"/\".join(filepath.split(\"/\")[-2:])\n",
    "        class_subfolder = save_dir + filepath.split(\"/\")[-2] + \"/\"\n",
    "        if not os.path.exists(class_subfolder):\n",
    "            os.makedirs(class_subfolder)\n",
    "        save_path = class_subfolder + filepath.split(\"/\")[-1]\n",
    "        np.save(save_path,np.stack([detach_image,unbinarized_unet_seg]))\n",
    "        \n",
    "        \n",
    "def convert_pngs_to_numpy(im_dir,save_dir):\n",
    "    fa_filepaths = dict()\n",
    "    image_filepaths = dict()\n",
    "    for root, dirs, files in os.walk(im_dir):\n",
    "        for file in files:\n",
    "            filepath = os.path.join(root,file)\n",
    "            if \"Test\" in filepath:\n",
    "                continue\n",
    "            if \"Fides\" in filepath:\n",
    "                continue\n",
    "            if file.endswith(\".png\"):\n",
    "                if(file.endswith(\"_fa.png\")):\n",
    "                    #filepath = os.path.join(root, file)\n",
    "                    filename = '/'.join(filepath.split(\"/\")[-2:])[:-7] #Shape/patientID_fa.png\n",
    "                    fa_filepaths[filename] = filepath;\n",
    "                else:\n",
    "                    #filepath = os.path.join(root, file)\n",
    "                    filename = '/'.join(filepath.split(\"/\")[-2:])[:-4] #Shape/patientID.png\n",
    "                    image_filepaths[filename] = filepath;\n",
    "    print(f\"Found {len(fa_filepaths.keys())} different files for use\")\n",
    "    count = 0\n",
    "    for filename in tqdm(fa_filepaths.keys()):\n",
    "        image = cv2.imread(image_filepaths[filename])/255\n",
    "        mask = (255 - cv2.imread(fa_filepaths[filename]))/255 #Ask if we need to do 255 - like in fides stuff. I think yes because we want black to be 1\n",
    "        image = image[:,:,0]\n",
    "        mask = mask[:,:,0]\n",
    "        #find border (weight as 3rd channel)\n",
    "        border_mask = find_border(mask.copy())\n",
    "        for j in range(5):\n",
    "            border_mask = expand_border(border_mask)\n",
    "        output = np.stack([image,mask,border_mask])\n",
    "        save_path = save_dir + filename + \".npy\"\n",
    "        #print(save_path) #Check to make sure save_path is correct\n",
    "        count+=1\n",
    "        np.save(save_path,output)\n",
    "    print(f\"Done with converting {count} pngs to numpy stacks\")"
   ]
  },
  {
   "cell_type": "code",
   "execution_count": null,
   "id": "bc572d3b",
   "metadata": {},
   "outputs": [],
   "source": [
    "#Code to convert manual pngs into correct numpys.\n",
    "#Code to create dataloader\n",
    "#Code to create model and loss/metric trackers for training.\n",
    "\n",
    "#run first method (DONE)\n",
    "manual_fa_dir = \"/usr/xtmp/mammo/image_datasets/MedStudentSegmentations_dst/\"\n",
    "manual_fa_save_dir = \"/usr/xtmp/vs196/mammoproj/Data/manualfa/train/\"\n",
    "#convert_pngs_to_numpy(manual_fa_dir,manual_fa_save_dir)\n",
    "\n",
    "#run second method\n",
    "manual_fa_dataloader = from_manual_segmentation_dataloader(manual_fa_save_dir,8,2)\n",
    "\n",
    "# #run third method - train model\n",
    "unet_model = getattr(ternausnet.models, \"UNet16\")(num_classes=2,pretrained=True).cuda()\n",
    "total_loss_tracker = []\n",
    "total_metric_tracker = []"
   ]
  },
  {
   "cell_type": "code",
   "execution_count": null,
   "id": "6210ec1d",
   "metadata": {},
   "outputs": [],
   "source": [
    "unet_model,loss_tracker,metric_tracker = unet_update_model(unet_model,manual_fa_dataloader,num_epochs=50)\n",
    "#unet_model,loss_tracker,metric_tracker = unet_update_model_multi_dataloader(unet_model,new_unet_dataloader,cbis_trainloader,num_epochs=5)\n",
    "total_loss_tracker.extend(loss_tracker)\n",
    "total_metric_tracker.extend(metric_tracker)"
   ]
  },
  {
   "cell_type": "code",
   "execution_count": null,
   "id": "dfca8727",
   "metadata": {},
   "outputs": [],
   "source": [
    "#plt.plot(total_loss_tracker)\n",
    "plt.plot(total_metric_tracker)\n",
    "plt.show()"
   ]
  },
  {
   "cell_type": "code",
   "execution_count": null,
   "id": "1a998c17",
   "metadata": {},
   "outputs": [],
   "source": [
    "model_save_path = f\"/usr/xtmp/vs196/mammoproj/Code/ActiveLearning/manufa_model/06_28/unetmodel_{run_id}_epoch50.pth\"\n",
    "torch.save(unet_model,model_save_path)"
   ]
  },
  {
   "cell_type": "code",
   "execution_count": null,
   "id": "83ec247e",
   "metadata": {},
   "outputs": [],
   "source": [
    "#Load a model if necessary from model_load_path (if you want to skip training process)\n",
    "model_load_path = \"/usr/xtmp/vs196/mammoproj/Code/ActiveLearning/manufa_model/06_28/unetmodel_06_28_a_epoch50.pth\"\n",
    "load_model = True\n",
    "if load_model:\n",
    "    model = torch.load(model_load_path)"
   ]
  },
  {
   "cell_type": "code",
   "execution_count": null,
   "id": "1dbbb228",
   "metadata": {
    "scrolled": true
   },
   "outputs": [],
   "source": [
    "#Evaluates on training images and saves new segmentations as stack. Rewrite to evaluate on validation images, and save ALL stacks regardless of oracle status. Make sure to also stamp saved validation segmentation folder by date (run_id), model type, number epochs, and the fact it's raw output from unet. Note that this method also saves the unbinarized version for use in thresholding in the active learning, so keep that feature in as well.\n",
    "#9 cell down: Saves model. Save to same directory, and mark it's name with same info as above (num epochs, run id)\n",
    "#10 cell down: Run flood-fill on all images. Don't need to rewrite, as we want it to show the biggest one. \n",
    "\n",
    "#Code:\n",
    "validation_data_dir = \"/usr/xtmp/mammo/image_datasets/data_split_july2021/square_ROI_by_shape_segmentations_unbin/validation/\"\n",
    "validation_segs_save_dir = \"/usr/xtmp/vs196/mammoproj/Data/manualfa/validation/\"\n",
    "#evaluate_model_on_validation_and_save(model,validation_data_dir,validation_segs_save_dir)\n",
    "validation_segs_save_dir_ff = convert_directory_to_floodfill(validation_segs_save_dir,iter0=False)\n",
    "print(\"done\")"
   ]
  },
  {
   "cell_type": "code",
   "execution_count": null,
   "id": "b51f5b0a",
   "metadata": {},
   "outputs": [],
   "source": [
    "print(validation_segs_save_dir_ff)"
   ]
  },
  {
   "cell_type": "code",
   "execution_count": 138,
   "id": "522aec19",
   "metadata": {},
   "outputs": [
    {
     "name": "stdout",
     "output_type": "stream",
     "text": [
      "/usr/xtmp/vs196/mammoproj/Code/ActiveLearning/AllOracleRuns/Run_07_12_a/Iter1/UNetSegmentations_ff/\n",
      "2\n"
     ]
    }
   ],
   "source": [
    "print(im_dir)\n",
    "print(iter_num)"
   ]
  },
  {
   "cell_type": "markdown",
   "id": "5ff0c466",
   "metadata": {},
   "source": [
    "## UNet Training with Initial UNet Segs (not manual labelled)"
   ]
  },
  {
   "cell_type": "code",
   "execution_count": 139,
   "id": "f3807b3f",
   "metadata": {},
   "outputs": [
    {
     "name": "stderr",
     "output_type": "stream",
     "text": [
      "100%|██████████| 143/143 [00:02<00:00, 67.91it/s]\n",
      "100%|██████████| 143/143 [00:52<00:00,  2.75it/s]"
     ]
    },
    {
     "name": "stdout",
     "output_type": "stream",
     "text": [
      "Saved in /usr/xtmp/vs196/mammoproj/Code/ActiveLearning/AllOracleRuns/Run_07_12_a/Iter2/OracleThresholdedImages_ff/\n"
     ]
    },
    {
     "name": "stderr",
     "output_type": "stream",
     "text": [
      "\n"
     ]
    }
   ],
   "source": [
    "#Threshold masks based on oracle and save if needed.\n",
    "#If already done, then skip\n",
    "threshold_and_save_flag = True\n",
    "if threshold_and_save_flag:\n",
    "    #Save thresholded\n",
    "    if users_name == 'alina':\n",
    "        save_dir = \"/usr/xtmp/mammo/alina_code/shapesAL/data/AllOracleRuns/Run_\" + run_id + \"/Iter\" + str(iter_num) + \"/OracleThresholdedImages/\"\n",
    "    elif users_name == 'vaibhav':\n",
    "        save_dir = \"/usr/xtmp/vs196/mammoproj/Code/ActiveLearning/AllOracleRuns/Run_\" + run_id + \"/Iter\" + str(iter_num) + \"/OracleThresholdedImages/\"\n",
    "    else:\n",
    "        print(\"wrong username\")\n",
    "        \n",
    "    if not os.path.exists(save_dir):\n",
    "        os.makedirs(save_dir)\n",
    "    else:\n",
    "        user_input = input(\"Do you want to overwrite this directory? Type y or yes to continue\")\n",
    "        if not (user_input==\"y\" or user_input==\"yes\"):\n",
    "            assert(False)\n",
    "    #find all filepaths in im_dir\n",
    "    all_filepaths = []\n",
    "    for root, dirs, files in os.walk(im_dir):\n",
    "        for file in files:\n",
    "            if file.endswith(\".npy\"):\n",
    "                all_filepaths.append(os.path.join(root, file))\n",
    "    threshold_and_save_images(all_filepaths, oracle_results_thresholds, save_dir)\n",
    "    save_dir = convert_directory_to_floodfill(save_dir,iter0=False)\n",
    "    print(f\"Saved in {save_dir}\")\n",
    "    unbin_im_dir = im_dir\n",
    "    im_dir = save_dir #im_dir is now replaced with the new directory\n",
    "    #save_dir is defunct"
   ]
  },
  {
   "cell_type": "code",
   "execution_count": 140,
   "id": "82bb3513",
   "metadata": {},
   "outputs": [],
   "source": [
    "def unet_dataloader(train_images_filepaths,batch_size,num_workers):\n",
    "    transforms_arr = [transforms.ToTensor(),transforms.Resize((256,256))]\n",
    "    transform = transforms.Compose(transforms_arr)\n",
    "    trainset = InhouseGetData(train_images_filepaths,transform,data_aug=True,has_weights=True)\n",
    "    trainloader = DataLoader(trainset,batch_size=batch_size,num_workers=num_workers)\n",
    "    return trainloader\n",
    "\n",
    "class InhouseGetData(Dataset):\n",
    "    def __init__(self,image_filepaths,image_transform,data_aug=True,has_weights=True):\n",
    "        super().__init__()\n",
    "        self.image_filepaths = image_filepaths\n",
    "        self.image_transform = image_transform\n",
    "        self.data_aug = data_aug\n",
    "        self.has_weights = has_weights\n",
    "\n",
    "    def __len__(self):\n",
    "        return len(self.image_filepaths)\n",
    "\n",
    "    def __getitem__(self,idx):\n",
    "        filepath = self.image_filepaths[idx]\n",
    "        #print(\"Filepath: \" + filepath)\n",
    "        arr_and_mask = np.load(filepath)\n",
    "        copy_arr_mask = arr_and_mask.copy()\n",
    "        if self.data_aug:\n",
    "            copy_arr_mask = random_flip(copy_arr_mask, 0, True)\n",
    "            copy_arr_mask = random_flip(copy_arr_mask, 1, True)\n",
    "            copy_arr_mask = random_rotate_90(copy_arr_mask, True)\n",
    "            copy_arr_mask = random_rotate_90(copy_arr_mask, True)\n",
    "            copy_arr_mask = random_rotate_90(copy_arr_mask, True)\n",
    "        arr = copy_arr_mask[0,:,:].copy()\n",
    "        mask = copy_arr_mask[1,:,:].copy()\n",
    "        if self.has_weights:\n",
    "            weights = copy_arr_mask[2,:,:].copy()\n",
    "        arr = exposure.equalize_hist(arr) #histogram equalization, remove if u want\n",
    "        #arr = np.stack([arr,arr,arr])\n",
    "        #mask = np.stack([mask,mask,mask])\n",
    "        #no need to preprocess\n",
    "        #print(\"INSIDE\")\n",
    "        #print(arr.shape)\n",
    "        \n",
    "        image = self.image_transform(arr)\n",
    "        #image = our_transform(image)\n",
    "        #print(image.shape)\n",
    "        #print(\"OUTSIDE\")\n",
    "        mask_label = self.image_transform(mask)\n",
    "        #mask_label = our_transform(mask_label)\n",
    "        if self.has_weights:\n",
    "            weights_label = self.image_transform(weights)\n",
    "            #weights_label = our_transform(weights_label)\n",
    "        #a transform\n",
    "        # print(arr.shape)\n",
    "        # print(mask.shape)\n",
    "        \n",
    "        # transformed = self.a_transform(image=arr, mask=mask)\n",
    "        # a_image = transformed[\"image\"]\n",
    "        # a_mask = transformed[\"mask\"]\n",
    "        if self.has_weights:\n",
    "            return image,mask_label,weights_label\n",
    "        return image,mask_label\n",
    "\n",
    "\n",
    "def get_binary_mask(mask,threshold):\n",
    "    return np.where(mask > threshold, 1, 0)\n",
    "    \n",
    "class InhouseGetData_v2(InhouseGetData):\n",
    "    def __init__(self,image_filepaths,oracle_results_thresholds,image_transform,data_aug=True,has_weights=True):\n",
    "        InhouseGetData.__init__(self,image_filepaths,image_transform,data_aug,has_weights)\n",
    "        self.oracle_results_thresholds = oracle_results_thresholds\n",
    "    def __getitem__(self,idx):\n",
    "        filepath = self.image_filepaths[idx]\n",
    "        #print(\"Filepath: \" + filepath)\n",
    "        arr_and_mask = np.load(filepath)\n",
    "        copy_arr_mask = arr_and_mask.copy()\n",
    "        if self.data_aug:\n",
    "            copy_arr_mask = random_flip(copy_arr_mask, 0, True)\n",
    "            copy_arr_mask = random_flip(copy_arr_mask, 1, True)\n",
    "            copy_arr_mask = random_rotate_90(copy_arr_mask, True)\n",
    "            copy_arr_mask = random_rotate_90(copy_arr_mask, True)\n",
    "            copy_arr_mask = random_rotate_90(copy_arr_mask, True)\n",
    "        arr = copy_arr_mask[0,:,:].copy()\n",
    "        mask = copy_arr_mask[1,:,:].copy()\n",
    "        #apply threshold to mask\n",
    "        threshold = self.oracle_results_thresholds[(\"/\".join(filepath.split(\"/\")[-2:]))[:-4]]\n",
    "        mask = get_binary_mask(mask,threshold)\n",
    "        if self.has_weights:\n",
    "            weights = copy_arr_mask[2,:,:].copy()\n",
    "        arr = exposure.equalize_hist(arr) #histogram equalization, remove if u want\n",
    "        \n",
    "        image = self.image_transform(arr)\n",
    "        mask_label = self.image_transform(mask)\n",
    "        if self.has_weights:\n",
    "            weights_label = self.image_transform(weights)\n",
    "        if self.has_weights:\n",
    "            return image,mask_label,weights_label\n",
    "        return image,mask_label\n",
    "        \n",
    "    \n",
    "def unet_dataloader_v2(saved_oracle_filepaths,oracle_results_thresholds,batch_size=8,num_workers=2):\n",
    "    transforms_arr = [transforms.ToTensor(),transforms.Resize((256,256))]\n",
    "    transform = transforms.Compose(transforms_arr)\n",
    "    trainset = InhouseGetData_v2(saved_oracle_filepaths,oracle_results_thresholds,transform,data_aug=True,has_weights=True)\n",
    "    trainloader = DataLoader(trainset,batch_size=batch_size,num_workers=num_workers)\n",
    "    return trainloader\n",
    "    "
   ]
  },
  {
   "cell_type": "code",
   "execution_count": 141,
   "id": "4a7e9c58",
   "metadata": {},
   "outputs": [],
   "source": [
    "custom_model_path = \"/usr/xtmp/vs196/mammoproj/Code/ActiveLearning/AllOracleRuns/Run_03_31_a/Iter1/unetmodel.pth\"\n",
    "manual_train_label_model_path = \"/usr/xtmp/vs196/mammoproj/Code/ActiveLearning/manufa_model/06_28/unetmodel_06_28_a_epoch50.pth\"\n",
    "custom_model_path = manual_train_label_model_path\n",
    "custom_load = True\n",
    "if custom_load:\n",
    "    model_path = custom_model_path\n",
    "    unet_model = torch.load(model_path)\n",
    "    \n",
    "else:\n",
    "    #Load in/Initialize a UNet model for retraining\n",
    "\n",
    "    from_scratch = True\n",
    "    #Define the initial UNet model (iter0)\n",
    "    if iter_num==1:\n",
    "        model_path = \"/usr/xtmp/vs196/mammoproj/SavedModels/HyperparameterUNet_nobuffer/unet_5_0.5/Model/unetmodel_FINAL.pth\"\n",
    "    else:\n",
    "        model_path = model_save_path\n",
    "\n",
    "    if not from_scratch:\n",
    "        unet_model = torch.load(model_path)\n",
    "    else:\n",
    "        unet_model = getattr(ternausnet.models, \"UNet16\")(num_classes=2,pretrained=True).cuda()\n",
    "\n",
    "total_loss_tracker = []\n",
    "total_metric_tracker = []"
   ]
  },
  {
   "cell_type": "code",
   "execution_count": 142,
   "id": "8f70c6e7",
   "metadata": {},
   "outputs": [],
   "source": [
    "#Handles three channels: [data,floodfilled binary mask,border]\n",
    "def redirect_saved_oracle_filepaths_to_thresheld_directory(saved_oracle_filepaths,im_dir):\n",
    "    new_filepaths = [(im_dir + \"/\".join(filepath.split(\"/\")[-2:])) for filepath in saved_oracle_filepaths]\n",
    "    return new_filepaths\n",
    "\n",
    "new_saved_oracle_filepaths = redirect_saved_oracle_filepaths_to_thresheld_directory(saved_oracle_filepaths, im_dir)"
   ]
  },
  {
   "cell_type": "code",
   "execution_count": 143,
   "id": "bcf181ab",
   "metadata": {},
   "outputs": [
    {
     "name": "stdout",
     "output_type": "stream",
     "text": [
      "/usr/xtmp/vs196/mammoproj/Code/ActiveLearning/AllOracleRuns/Run_07_12_a/Iter2/CorrectSegmentations/Irregular/DP_AGMV_104120_1.npy\n",
      "/usr/xtmp/vs196/mammoproj/Code/ActiveLearning/AllOracleRuns/Run_07_12_a/Iter2/OracleThresholdedImages_ff/Irregular/DP_AGMV_104120_1.npy\n",
      "/usr/xtmp/vs196/mammoproj/Code/ActiveLearning/AllOracleRuns/Run_07_12_a/Iter2/OracleThresholdedImages_ff/\n",
      "07_12_a\n"
     ]
    }
   ],
   "source": [
    "print(saved_oracle_filepaths[0])\n",
    "print(new_saved_oracle_filepaths[0])\n",
    "print(im_dir)\n",
    "print(run_id)"
   ]
  },
  {
   "cell_type": "code",
   "execution_count": 144,
   "id": "55fa21ee",
   "metadata": {},
   "outputs": [
    {
     "name": "stderr",
     "output_type": "stream",
     "text": [
      "100%|██████████| 4/4 [00:01<00:00,  2.60it/s]\n",
      "100%|██████████| 4/4 [00:01<00:00,  2.75it/s]\n",
      "100%|██████████| 4/4 [00:01<00:00,  2.76it/s]\n",
      "100%|██████████| 4/4 [00:01<00:00,  2.74it/s]\n",
      "100%|██████████| 4/4 [00:01<00:00,  2.76it/s]\n"
     ]
    }
   ],
   "source": [
    "#Retrain UNet with training data taken from OracleImages/Iter\n",
    "#new_unet_dataloader = unet_dataloader(saved_oracle_filepaths,8,2)\n",
    "new_unet_dataloader = unet_dataloader(new_saved_oracle_filepaths,8,2)\n",
    "cbis_trainloader,_ = CBIS_DDSM_get_DataLoader(8,2)\n",
    "\n",
    "unet_model,loss_tracker,metric_tracker = unet_update_model(unet_model,new_unet_dataloader,num_epochs=5)\n",
    "#unet_model,loss_tracker,metric_tracker = unet_update_model_multi_dataloader(unet_model,new_unet_dataloader,cbis_trainloader,num_epochs=5)\n",
    "total_loss_tracker.extend(loss_tracker)\n",
    "total_metric_tracker.extend(metric_tracker)"
   ]
  },
  {
   "cell_type": "code",
   "execution_count": 145,
   "id": "7d75650c",
   "metadata": {},
   "outputs": [
    {
     "data": {
      "text/plain": [
       "[<matplotlib.lines.Line2D at 0x7f6240310828>]"
      ]
     },
     "execution_count": 145,
     "metadata": {},
     "output_type": "execute_result"
    },
    {
     "data": {
      "image/png": "[encoded data removed]",
      "text/plain": [
       "<Figure size 432x288 with 1 Axes>"
      ]
     },
     "metadata": {
      "needs_background": "light"
     },
     "output_type": "display_data"
    }
   ],
   "source": [
    "#plt.plot(total_loss_tracker)\n",
    "plt.plot(total_metric_tracker)"
   ]
  },
  {
   "cell_type": "code",
   "execution_count": 146,
   "id": "506f155b",
   "metadata": {},
   "outputs": [
    {
     "name": "stderr",
     "output_type": "stream",
     "text": [
      "100%|██████████| 143/143 [00:03<00:00, 39.22it/s]\n"
     ]
    }
   ],
   "source": [
    "#evaluate new segmentations for ALL images \n",
    "#Save SAVED_ORACLE_FILEPATH NEW segmentations to SEPARATE FOLDER for VIEWING ONLY\n",
    "#Save this iteration saved_oracle_filepaths along with new segmentations for all other patients\n",
    "segmentation_folder = unbin_im_dir\n",
    "correct_save_dir = \"/usr/xtmp/vs196/mammoproj/Code/ActiveLearning/AllOracleRuns/Run_\" + run_id + \"/Iter\" + str(iter_num) + \"/UNetSegmentations_C/\"\n",
    "save_dir = \"/usr/xtmp/vs196/mammoproj/Code/ActiveLearning/AllOracleRuns/Run_\" + run_id + \"/Iter\" + str(iter_num) + \"/UNetSegmentations/\"\n",
    "#Method creates new segmentations using updated model. \n",
    "#Saves new segmentations for images labelled correctly by the oracle to correct_save_dir\n",
    "#Saves all segmentations (preserved for images labelled correctly by the oracle, new for all others) to save_dir\n",
    "#Have different subfolders for different iterations of unet update\n",
    "evaluate_model_on_new_segmentations_and_save(unet_model,segmentation_folder,saved_oracle_filepaths,correct_save_dir,save_dir,iter_num)\n",
    "\n",
    "#save_dir is what we convert to floodfill two cells down.\n",
    "#TODO: ADD TQDM TO EVALUATE_MODEL...\n",
    "#TODO: Add flexibility for alina saving (add alina paths)\n",
    "#TODO: Update evaluate model to output two channels where the first is the same as now and the second is a continuous version of the mask.\n",
    "#Look at bad oracles and see if those got better."
   ]
  },
  {
   "cell_type": "code",
   "execution_count": 147,
   "id": "0b6123fd",
   "metadata": {},
   "outputs": [],
   "source": [
    "#save the model\n",
    "model_save_path = \"/usr/xtmp/vs196/mammoproj/Code/ActiveLearning/AllOracleRuns/Run_\" + run_id + \"/Iter\" + str(iter_num) + \"/unetmodel.pth\"\n",
    "torch.save(unet_model,model_save_path)"
   ]
  },
  {
   "cell_type": "code",
   "execution_count": 149,
   "id": "eb739f53",
   "metadata": {},
   "outputs": [
    {
     "name": "stdout",
     "output_type": "stream",
     "text": [
      "2\n"
     ]
    },
    {
     "data": {
      "text/plain": [
       "'/usr/xtmp/vs196/mammoproj/Code/ActiveLearning/AllOracleRuns/Run_07_12_a/Iter2/UNetSegmentations/'"
      ]
     },
     "execution_count": 149,
     "metadata": {},
     "output_type": "execute_result"
    }
   ],
   "source": [
    "#save_dir = \"/usr/xtmp/vs196/mammoproj/Code/ActiveLearning/AllOracleRuns/Run_02_28_a/Iter1/UNetSegmentations\"\n",
    "print(iter_num)\n",
    "save_dir"
   ]
  },
  {
   "cell_type": "code",
   "execution_count": 150,
   "id": "39ca29ca",
   "metadata": {},
   "outputs": [
    {
     "name": "stderr",
     "output_type": "stream",
     "text": [
      "100%|██████████| 143/143 [00:48<00:00,  2.94it/s]\n"
     ]
    }
   ],
   "source": [
    "#Convert initial UNet Segmentations to flood-filled and resave\n",
    "#raw_segmentation_folder = \"/usr/xtmp/mammo/image_datasets/data_split_july2021/square_ROI_by_shape_segmentations/train/\"\n",
    "raw_segmentation_folder = save_dir #remove for rerun\n",
    "im_dir = convert_directory_to_floodfill(raw_segmentation_folder,iter0=False)"
   ]
  },
  {
   "cell_type": "code",
   "execution_count": 151,
   "id": "fd7cf395",
   "metadata": {},
   "outputs": [],
   "source": [
    "iter_num+=1"
   ]
  },
  {
   "cell_type": "code",
   "execution_count": null,
   "id": "0eed93d2",
   "metadata": {},
   "outputs": [],
   "source": [
    "# im_dir = \"/usr/xtmp/vs196/mammoproj/Code/ActiveLearning/AllOracleRuns/Run_11_29_a/Iter1/UNetSegmentations_ff/\"\n",
    "# im_dir = \"/usr/xtmp/vs196/mammoproj/Code/ActiveLearning/AllOracleRuns/Run_02_28_a/Iter1/UNetSegmentations\""
   ]
  },
  {
   "cell_type": "code",
   "execution_count": null,
   "id": "72bd7931",
   "metadata": {},
   "outputs": [],
   "source": [
    "# #reloading iter 1 purposes\n",
    "# iter_num = 2\n",
    "# im_dir = \"/usr/xtmp/vs196/mammoproj/Code/ActiveLearning/AllOracleRuns/Run_11_23_a/Iter1/UNetSegmentations_ff/\"\n",
    "# dataloader = get_DataLoader(im_dir,32,2)"
   ]
  },
  {
   "cell_type": "code",
   "execution_count": 152,
   "id": "03e566dd",
   "metadata": {},
   "outputs": [
    {
     "name": "stdout",
     "output_type": "stream",
     "text": [
      "3\n"
     ]
    }
   ],
   "source": [
    "print(iter_num)"
   ]
  },
  {
   "cell_type": "code",
   "execution_count": 153,
   "id": "f94a622b",
   "metadata": {},
   "outputs": [
    {
     "name": "stdout",
     "output_type": "stream",
     "text": [
      "/usr/xtmp/vs196/mammoproj/Code/ActiveLearning/AllOracleRuns/Run_07_12_a/Iter2/UNetSegmentations_ff/\n"
     ]
    }
   ],
   "source": [
    "print(im_dir)"
   ]
  },
  {
   "cell_type": "code",
   "execution_count": 154,
   "id": "6ad91ab9",
   "metadata": {},
   "outputs": [],
   "source": [
    "dataloader = get_DataLoader(im_dir,32,2)\n",
    "oracle_results = remove_bad_oracle_results(oracle_results)"
   ]
  },
  {
   "cell_type": "markdown",
   "id": "dd452695",
   "metadata": {},
   "source": [
    "Return to the active learning portion of the notebook (Active Learning: Querying)"
   ]
  },
  {
   "cell_type": "markdown",
   "id": "85f4ce2a",
   "metadata": {},
   "source": [
    "# Saving Images for Fides"
   ]
  },
  {
   "cell_type": "code",
   "execution_count": 156,
   "id": "b22714a5",
   "metadata": {},
   "outputs": [
    {
     "name": "stdout",
     "output_type": "stream",
     "text": [
      "07_12_a\n",
      "2\n"
     ]
    }
   ],
   "source": [
    "if True:\n",
    "    iter_num = 2\n",
    "    \n",
    "print(run_id)\n",
    "print(iter_num)"
   ]
  },
  {
   "cell_type": "code",
   "execution_count": 155,
   "id": "41d54096",
   "metadata": {},
   "outputs": [],
   "source": [
    "from PIL import Image\n",
    "\n",
    "def display_image_annotation(filepath,annotations,png=False):\n",
    "    ncols, nrows = 3, len(filepath)\n",
    "    fig = plt.figure(constrained_layout=False)\n",
    "    fig.set_size_inches(9, 3*len(filepath)+1)\n",
    "    fig.tight_layout()\n",
    "    spec = gridspec.GridSpec(ncols=ncols, nrows=nrows, figure=fig,hspace=0,wspace=0)\n",
    "    \n",
    "    anno_opts = dict(xy=(0.05, 0.05), xycoords='axes fraction', va='bottom', ha='left',color='cyan',fontweight='extra bold',fontsize='8')\n",
    "\n",
    "    f_axes = []\n",
    "    for row in range(nrows):\n",
    "        f_axes.append([])\n",
    "        for col in range(ncols):\n",
    "            f_axes[-1].append(fig.add_subplot(spec[row, col]))\n",
    "\n",
    "    for ax_num, ax in enumerate(f_axes[0]):\n",
    "            if ax_num == 0:\n",
    "                ax.set_title(\"Image\", fontdict=None, loc='left', color = \"k\")\n",
    "            elif ax_num == 1:\n",
    "                ax.set_title(\"Segmentation\", fontdict=None, loc='left', color = \"k\")\n",
    "            elif ax_num == 2:\n",
    "                ax.set_title(\"Overlay\", fontdict=None, loc='left', color = \"k\")\n",
    "\n",
    "    for row in range(nrows):\n",
    "        if png:\n",
    "            #image = np.array(Image.open(filepath[row][0]))\n",
    "            #mask = np.array(Image.open(filepath[row][1]))\n",
    "            image = (cv2.imread(filepath[row][0]))/255\n",
    "            mask = (255 - cv2.imread(filepath[row][1]))/255\n",
    "            image_and_mask = np.stack([image,mask])\n",
    "        else:\n",
    "            image_and_mask = np.load(filepath[row])\n",
    "        f_axes[row][0].imshow(image_and_mask[0],cmap='gray')\n",
    "        f_axes[row][0].set_axis_off()\n",
    "        \n",
    "        f_axes[row][1].imshow(image_and_mask[1],cmap='gray')\n",
    "        f_axes[row][1].set_axis_off()\n",
    "\n",
    "        heatmap = cv2.applyColorMap(np.uint8(255*(1-image_and_mask[1])), cv2.COLORMAP_AUTUMN)\n",
    "        heatmap = np.float32(heatmap) / 255\n",
    "        heatmap = heatmap[...,::-1]\n",
    "        if png:\n",
    "            img = 0.6 * image_and_mask[0] + 0.3*heatmap\n",
    "        else:\n",
    "            img = 0.6 * np.stack([image_and_mask[0],image_and_mask[0],image_and_mask[0]],axis=-1) + 0.3*heatmap\n",
    "        f_axes[row][2].imshow(img)\n",
    "        f_axes[row][2].set_axis_off()\n",
    "        \n",
    "        f_axes[row][0].annotate(annotations[row],**anno_opts)\n",
    "\n",
    "    #plt.show()"
   ]
  },
  {
   "cell_type": "code",
   "execution_count": 157,
   "id": "b5ff67a9",
   "metadata": {},
   "outputs": [
    {
     "name": "stdout",
     "output_type": "stream",
     "text": [
      "238\n",
      "270\n"
     ]
    }
   ],
   "source": [
    "if users_name == 'alina':\n",
    "    tobechecked_save_dir = \"/usr/xtmp/mammo/alina_code/shapesAL/data/AllOracleRuns/Run_\" + run_id + \"/Iter\" + str(iter_num) + \"/ToBeChecked_neworder/\"\n",
    "elif users_name == 'vaibhav':\n",
    "    tobechecked_save_dir = \"/usr/xtmp/vs196/mammoproj/Code/ActiveLearning/AllOracleRuns/Run_\" + run_id + \"/Iter\" + str(iter_num) + \"/ToBeChecked_neworder/\"\n",
    "\n",
    "exclude_data_from_dirs = [\"/usr/xtmp/mammo/alina_code/shapesAL/data/AllOracleRuns/Run_01_01_b/Iter1/CorrectSegmentations/\",\n",
    "                          \"/usr/xtmp/vs196/mammoproj/Code/ActiveLearning/AllOracleRuns/Run_03_31_a/Iter2/CorrectSegmentations/\"\n",
    "                         ]\n",
    "\n",
    "exclude_patientIDs = set()\n",
    "for exclude_data_from_dir in exclude_data_from_dirs:\n",
    "    already_sent_oracle_filepaths = pickle.load(open(exclude_data_from_dir + \"saved_data_struct/\" + \"Oracle_Filepaths.pickle\",'rb'))\n",
    "    print(len(already_sent_oracle_filepaths))\n",
    "    for already_sent_oracle_filepath in already_sent_oracle_filepaths:\n",
    "        pat_ID = already_sent_oracle_filepath.split('/')[-1][:-4]\n",
    "        exclude_patientIDs.add(pat_ID)"
   ]
  },
  {
   "cell_type": "code",
   "execution_count": 158,
   "id": "1da6d4b0",
   "metadata": {},
   "outputs": [
    {
     "name": "stdout",
     "output_type": "stream",
     "text": [
      "270\n",
      "27\n",
      "27\n"
     ]
    }
   ],
   "source": [
    "print(len(exclude_patientIDs))\n",
    "print(len(saved_oracle_filepaths))\n",
    "print(len(oracle_results))"
   ]
  },
  {
   "cell_type": "code",
   "execution_count": 159,
   "id": "e2e6f4d1",
   "metadata": {
    "scrolled": true
   },
   "outputs": [
    {
     "name": "stdout",
     "output_type": "stream",
     "text": [
      "0 collisions\n"
     ]
    }
   ],
   "source": [
    "collision_cnt = 0\n",
    "for save_filepath in saved_oracle_filepaths:\n",
    "    #plot the 3 part image as in oracle query\n",
    "    annotation = '/'.join((save_filepath.split('/'))[-2:])\n",
    "    pat_ID = save_filepath.split('/')[-1][:-4]\n",
    "    if pat_ID in exclude_patientIDs:\n",
    "        #print(f'collision for {pat_ID}')\n",
    "        collision_cnt += 1\n",
    "    else:\n",
    "        display_image_annotation([save_filepath],[annotation])\n",
    "\n",
    "        #put an annotation on that image with the patient ID and the class\n",
    "        #save the image in tobechecked_save_dir\n",
    "        tobechecked_save_subfolder = os.path.join(tobechecked_save_dir ,save_filepath.split('/')[-2]) + \"/\"\n",
    "        if not os.path.exists(tobechecked_save_subfolder):\n",
    "            os.makedirs(tobechecked_save_subfolder)\n",
    "        save_path = os.path.join(tobechecked_save_dir, annotation)[:-4]+\".png\"\n",
    "        plt.savefig(save_path)\n",
    "        plt.close()\n",
    "\n",
    "print(f\"{collision_cnt} collisions\")"
   ]
  },
  {
   "cell_type": "code",
   "execution_count": 160,
   "id": "ed4c206e",
   "metadata": {},
   "outputs": [
    {
     "name": "stdout",
     "output_type": "stream",
     "text": [
      "/usr/xtmp/vs196/mammoproj/Code/ActiveLearning/AllOracleRuns/Run_07_12_a/Iter2/ToBeChecked_neworder/\n",
      "270\n",
      "{'DP_ADQQ_30947_1', 'DP_ADPO_30492_1', 'DP_ADLQ_28579_2', 'DP_AEGA_38993_1', 'DP_ADLQ_28577_3', 'DP_AHIQ_122202_1', 'DP_AAIG_4056_1', 'DP_ABTG_179154_1', 'DP_ADNG_29364_1', 'DP_AEUO_49672_1', 'DP_AJQW_80310_1', 'DP_AAGX_3496_1', 'DP_AIAX_136595_1', 'DP_AKAI_88577_1', 'DP_ALDK_25783_1', 'DP_AEPF_45559_1', 'DP_AAYT_160711_1', 'DP_AKOO_11845_1', 'DP_AIVZ_157928_1', 'DP_AHCR_117065_1', 'DP_ACWJ_20831_1', 'DP_AFZU_91700_1', 'DP_AJUZ_84243_1', 'DP_AFPO_69421_1', 'DP_AFPO_69422_1', 'DP_ACXW_21606_1', 'DP_ADLQ_28577_2', 'DP_ALDY_26335_1', 'DP_AAQU_6780_1', 'DP_ADIC_26894_1', 'DP_AHPW_127514_1', 'DP_ALFQ_28104_1', 'DP_AFJT_64146_1', 'DP_AHFX_119984_1', 'DP_AKNP_11054_1', 'DP_AITJ_154346_1', 'DP_ACRF_18647_1', 'DP_AHXS_134034_1', 'DP_AHTV_130725_1', 'DP_AHIT_122303_1', 'DP_AHCE_116483_1', 'DP_AFJP_63920_1', 'DP_ACDW_13428_1', 'DP_ACBW_12762_1', 'DP_AAHN_3820_1', 'DP_AIWM_158483_1', 'DP_AGLB_102567_1', 'DP_ACJY_15689_1', 'DP_AETA_48608_1', 'DP_AIUT_156012_1', 'DP_ABTG_179151_1', 'DP_AJRA_80525_1', 'DP_AKXN_20679_1', 'DP_AKKN_7731_1', 'DP_AIMT_148096_1', 'DP_AHZI_135596_1', 'DP_AAZA_161129_1', 'DP_ADWF_33714_1', 'DP_AHWL_132694_1', 'DP_ADWF_33711_1', 'DP_AIDV_139677_1', 'DP_AKSE_14976_1', 'DP_AEAI_35810_1', 'DP_AGUO_110368_1', 'DP_AGZJ_114093_2', 'DP_AGXT_113034_1', 'DP_AGOD_104981_1', 'DP_AGKC_101349_1', 'DP_AACA_163_1', 'DP_AHPW_127511_1', 'DP_ABOZ_176218_2', 'DP_ACZY_23113_1', 'DP_AFEP_59124_1', 'DP_AHYB_134331_1', 'DP_AIMT_148094_1', 'DP_ACIY_15278_1', 'DP_ACXI_21351_1', 'DP_AAUO_8709_1', 'DP_AAWQ_9468_1', 'DP_ACYY_22760_1', 'DP_AAOS_6116_1', 'DP_ALHB_29690_1', 'DP_ACTC_19453_1', 'DP_AAQU_6779_1', 'DP_AFGL_60809_1', 'DP_AAEL_2453_1', 'DP_ABOZ_176218_3', 'DP_AEKJ_41409_1', 'DP_AJTT_82939_1', 'DP_AHYT_134899_1', 'DP_ALBZ_24811_1', 'DP_ACJY_15684_1', 'DP_ACYT_22717_1', 'DP_AKPG_12724_1', 'DP_ADVC_33157_1', 'DP_AGEM_97001_1', 'DP_AEAY_36284_1', 'DP_ADLQ_28579_1', 'DP_AKAY_89028_1', 'DP_ADIC_26895_3', 'DP_ALAR_23841_2', 'DP_AERR_47680_1', 'DP_AEUS_49969_1', 'DP_ADGC_26118_1', 'DP_AFZU_91703_1', 'DP_ACHS_14815_2', 'DP_ALRI_40246_1', 'DP_AAOS_6117_1', 'DP_AFJP_63921_1', 'DP_AEWN_51567_1', 'DP_AKEP_3124_1', 'DP_AEPB_45464_1', 'DP_AJUE_83297_1', 'DP_AFXA_78611_1', 'DP_ADIC_26894_2', 'DP_ACHS_14816_1', 'DP_ADGQ_26328_1', 'DP_AJYD_86654_1', 'DP_AKDY_2515_1', 'DP_ADFM_25878_1', 'DP_AEON_44832_1', 'DP_AAOR_6110_1', 'DP_AIUL_155475_1', 'DP_AACA_167_1', 'DP_AFJU_64182_1', 'DP_ADLR_28610_1', 'DP_AHPO_127420_1', 'DP_ACLE_16146_1', 'DP_AFNO_67725_1', 'DP_AFSR_72215_1', 'DP_AKVX_18673_1', 'DP_AEUG_49389_1', 'DP_AANM_5810_1', 'DP_ABOZ_176220_4', 'DP_AHZI_135591_1', 'DP_AKDY_2517_1', 'DP_AFEM_58986_1', 'DP_AJKR_192930_1', 'DP_AGOY_105489_1', 'DP_AFEE_58552_1', 'DP_AETA_48606_1', 'DP_AICA_137800_1', 'DP_AHXN_133910_1', 'DP_AAQU_6780_2', 'DP_AGFV_98144_1', 'DP_AGJJ_100840_1', 'DP_AFJT_64147_1', 'DP_AFJP_63922_1', 'DP_AFNO_67722_1', 'DP_AGOY_105492_1', 'DP_AJHY_189730_1', 'DP_AEUZ_50187_1', 'DP_ACHI_14654_1', 'DP_AGSO_108513_2', 'DP_ACPD_17747_1', 'DP_AERR_47679_1', 'DP_ACHA_14534_1', 'DP_AJTT_82942_1', 'DP_AAGX_3497_1', 'DP_AHYC_134388_1', 'DP_AKXF_20410_1', 'DP_AIVA_156381_1', 'DP_AGUF_110009_1', 'DP_AAWK_9395_1', 'DP_ADXC_34098_1', 'DP_ACCG_12873_1', 'DP_AFRZ_71799_1', 'DP_AAWK_9394_1', 'DP_AGXT_113033_1', 'DP_AIPU_151147_1', 'DP_AHUJ_131052_1', 'DP_ADRF_31279_1', 'DP_AGXV_113192_1', 'DP_AIUL_155471_1', 'DP_ADYL_99130_1', 'DP_ACPP_17913_1', 'DP_AEAF_35762_1', 'DP_AANM_5811_1', 'DP_ABTP_179481_1', 'DP_AGFV_98140_1', 'DP_AJUE_83297_2', 'DP_AHHL_121166_1', 'DP_ABTP_179482_1', 'DP_AKAI_88574_1', 'DP_ADLP_28570_1', 'DP_ALDY_26334_2', 'DP_AEPF_45557_1', 'DP_AGGY_98820_1', 'DP_AGYV_113800_1', 'DP_AGGY_98823_1', 'DP_AFEP_59122_1', 'DP_ALDB_25587_1', 'DP_ACPD_17746_1', 'DP_ACRG_18653_1', 'DP_ACRF_18645_1', 'DP_AADN_2148_1', 'DP_AEIF_40165_1', 'DP_AISN_153459_1', 'DP_ABTP_179484_1', 'DP_AEBF_36373_1', 'DP_AIBS_137447_1', 'DP_AGAU_93007_1', 'DP_AJHY_189729_1', 'DP_ADWF_33713_1', 'DP_ALAR_23843_1', 'DP_ADNG_29366_1', 'DP_ALBO_24409_1', 'DP_AIUL_155476_1', 'DP_ADQD_27965_1', 'DP_ABOX_101145_1', 'DP_ALAR_23841_1', 'DP_AJNO_195728_1', 'DP_AKGK_4563_1', 'DP_AADN_2149_1', 'DP_ADIC_26894_4', 'DP_ACJY_15690_1', 'DP_ACLU_16346_1', 'DP_ACNW_17344_1', 'DP_AIDZ_140011_1', 'DP_ALRA_40033_1', 'DP_AKOO_11843_1', 'DP_AAGG_3178_1', 'DP_ALHN_30120_1', 'DP_ADLQ_28577_1', 'DP_AEWN_51571_1', 'DP_AHOP_126451_1', 'DP_ACYE_21697_1', 'DP_AHGL_120383_1', 'DP_AGOT_105361_1', 'DP_AGJJ_100841_1', 'DP_AAQU_6779_2', 'DP_ABMC_173639_1', 'DP_ALDY_26335_2', 'DP_ADLY_28737_1', 'DP_AAEU_173631_1', 'DP_ACDW_13427_1', 'DP_AGYP_113684_1', 'DP_ABOZ_176220_1', 'DP_AEUS_49967_1', 'DP_AEFG_38522_1', 'DP_AEKJ_41411_1', 'DP_ACXI_21348_1', 'DP_AIAX_136594_1', 'DP_AKSX_15667_1', 'DP_ADQQ_30942_1', 'DP_AAMJ_5545_1', 'DP_AHGB_120103_1', 'DP_AHSU_130159_1', 'DP_AFWX_78519_1', 'DP_AKVP_18401_1', 'DP_AADU_2248_1', 'DP_AAMJ_5544_1', 'DP_AAOT_6127_1', 'DP_AGKC_101351_1', 'DP_ACQD_18190_1', 'DP_AAFX_3048_1', 'DP_ABHR_168796_1', 'DP_ACCG_12875_1', 'DP_ADBZ_24030_1', 'DP_AEQW_47117_1', 'DP_ADQO_30922_1', 'DP_ABIF_169242_1', 'DP_AIAF_136233_1', 'DP_AKSX_15668_1', 'DP_AIBS_137446_1', 'DP_ADGQ_26325_1', 'DP_AAKK_4745_1', 'DP_ABYY_11777_1', 'DP_ADCL_24198_1', 'DP_ADLQ_28578_1'}\n"
     ]
    }
   ],
   "source": [
    "print(tobechecked_save_dir)\n",
    "print(len(exclude_patientIDs))\n",
    "print(exclude_patientIDs)"
   ]
  },
  {
   "cell_type": "code",
   "execution_count": null,
   "id": "53ef34f9",
   "metadata": {},
   "outputs": [],
   "source": [
    "def display_comparison(image1,image2):\n",
    "    display_image_annotation([image1,image2],[image1,image2])\n",
    "    plt.show()"
   ]
  },
  {
   "cell_type": "code",
   "execution_count": null,
   "id": "3c330590",
   "metadata": {},
   "outputs": [],
   "source": [
    "#Grab everything in directory excluding those in exclusion list\n",
    "def grab_filenames_with_exclusion(im_dir,exclude_list):\n",
    "    #im_dir =\"/usr/xtmp/mammo/image_datasets/data_split_july2021/square_ROI_by_shape_segmentations_unbin/train/\"\n",
    "    all_files = set()\n",
    "    for root, dirs, files in os.walk(im_dir):\n",
    "        for file in files:\n",
    "            if file.endswith(\".npy\"):\n",
    "                #filepath = os.path.join(root, file)\n",
    "                all_files.add(file[:-4])\n",
    "    return all_files - exclude_list\n",
    "\n",
    "segmented_filenames_no_labels = grab_filenames_with_exclusion(\"/usr/xtmp/mammo/image_datasets/data_split_july2021/square_ROI_by_shape_segmentations_unbin/train/\",exclude_patientIDs)    "
   ]
  },
  {
   "cell_type": "code",
   "execution_count": null,
   "id": "7bf9ed9b",
   "metadata": {},
   "outputs": [],
   "source": [
    "print(len(segmented_filenames_no_labels))"
   ]
  },
  {
   "cell_type": "code",
   "execution_count": 161,
   "id": "212ca86a",
   "metadata": {},
   "outputs": [
    {
     "name": "stdout",
     "output_type": "stream",
     "text": [
      "27\n"
     ]
    }
   ],
   "source": [
    "exclude_data_from_dirs = [\n",
    "                            \"/usr/xtmp/vs196/mammoproj/Code/ActiveLearning/AllOracleRuns/Run_07_12_a/Iter2/CorrectSegmentations/\"\n",
    "                         ]\n",
    "\n",
    "exclude_patientIDs = set()\n",
    "for exclude_data_from_dir in exclude_data_from_dirs:\n",
    "    already_sent_oracle_filepaths = pickle.load(open(exclude_data_from_dir + \"saved_data_struct/\" + \"Oracle_Filepaths.pickle\",'rb'))\n",
    "    print(len(already_sent_oracle_filepaths))\n",
    "    for already_sent_oracle_filepath in already_sent_oracle_filepaths:\n",
    "        pat_ID = already_sent_oracle_filepath.split('/')[-1][:-4]\n",
    "        exclude_patientIDs.add(pat_ID)"
   ]
  },
  {
   "cell_type": "code",
   "execution_count": 163,
   "id": "3b5e33e1",
   "metadata": {},
   "outputs": [
    {
     "name": "stdout",
     "output_type": "stream",
     "text": [
      "27\n",
      "{'DP_AHOP_126448_1', 'DP_AGZJ_114095_1', 'DP_ADTU_32538_1', 'DP_AFEI_58847_1', 'DP_AGMV_104120_1', 'DP_AFQA_69893_2', 'DP_ABCT_164330_1', 'DP_AAYT_160710_1', 'DP_AFKT_65174_1', 'DP_AMAM_51885_1', 'DP_AFEA_58448_1', 'DP_ABJK_171167_1', 'DP_AFQG_70245_1', 'DP_AEOU_44995_1', 'DP_AINE_148601_1', 'DP_ADRF_31277_1', 'DP_AKXF_20408_1', 'DP_AFJE_63459_1', 'DP_ALUT_44530_1', 'DP_AGMV_104119_1', 'DP_AKNP_11055_1', 'DP_AEGA_38991_1', 'DP_AIMN_147951_1', 'DP_AEDI_37576_1', 'DP_AJKG_192266_1', 'DP_AHIQ_122199_1', 'DP_AHGU_120736_1'}\n"
     ]
    }
   ],
   "source": [
    "print(len(exclude_patientIDs))\n",
    "print(exclude_patientIDs)"
   ]
  },
  {
   "cell_type": "markdown",
   "id": "f884e0a5",
   "metadata": {},
   "source": [
    "# Med students setup"
   ]
  },
  {
   "cell_type": "code",
   "execution_count": 164,
   "id": "e7d8cbea",
   "metadata": {},
   "outputs": [
    {
     "name": "stdout",
     "output_type": "stream",
     "text": [
      "done with above\n"
     ]
    },
    {
     "name": "stderr",
     "output_type": "stream",
     "text": [
      "100%|██████████| 116/116 [00:02<00:00, 48.69it/s]"
     ]
    },
    {
     "name": "stdout",
     "output_type": "stream",
     "text": [
      "Done. Saved 116 images to 10 different folders in directory /usr/xtmp/mammo/image_datasets/MedStudentSegmentations/.\n"
     ]
    },
    {
     "name": "stderr",
     "output_type": "stream",
     "text": [
      "\n"
     ]
    }
   ],
   "source": [
    "#Code for med student setup\n",
    "#exclude_list = already classified images\n",
    "def grab_filenames_with_exclusion_with_shapeclass(im_dir,exclude_list):\n",
    "    #im_dir =\"/usr/xtmp/mammo/image_datasets/data_split_july2021/square_ROI_by_shape_segmentations_unbin/train/\"\n",
    "    all_files = []\n",
    "    for root, dirs, files in os.walk(im_dir):\n",
    "        for file in files:\n",
    "            if file.endswith(\".npy\"):\n",
    "                filepath = os.path.join(root, file)\n",
    "                if(file[:-4] in exclude_list):\n",
    "                    continue\n",
    "                all_files.append(('/'.join(filepath.split(\"/\")[-2:]),np.load(filepath)[0])) #Just grab the image)\n",
    "    return all_files\n",
    "\n",
    "def batch_images_in_folders(image_filenames,save_dir,batch_sizes,test_flag=False):\n",
    "    folder_id = 1\n",
    "    counter = 0\n",
    "    for filename,image in tqdm(image_filenames):\n",
    "        folder_id = counter//batch_sizes + 1\n",
    "        shape = filename.split(\"/\")[0]\n",
    "        if not test_flag:\n",
    "            save_folder = f\"{save_dir}Batch_{folder_id}/{shape}/\"\n",
    "        else:\n",
    "            save_folder = f\"{save_dir}ValBatch_{folder_id}/{shape}/\"\n",
    "        #put os path exists here - make sure save_folder is cool\n",
    "        if not os.path.exists(save_folder):\n",
    "            os.makedirs(save_folder)\n",
    "        save_filepath = save_folder + filename.split(\"/\")[1][:-4] + \".png\" #MAKE SURE .npy ISN\"T ALREADY THERE\n",
    "        plt.imsave(save_filepath,image,cmap='gray')\n",
    "        counter+=1\n",
    "    print(f\"Done. Saved {counter} images to {folder_id} different folders in directory {save_dir}.\")\n",
    "    \n",
    "\n",
    "files_and_images = grab_filenames_with_exclusion_with_shapeclass(\"/usr/xtmp/mammo/image_datasets/data_split_july2021/square_ROI_by_shape_segmentations_unbin/validation/\",exclude_patientIDs)\n",
    "print(\"done with above\")\n",
    "random.seed(1)\n",
    "random.shuffle(files_and_images)\n",
    "save_dir = \"/usr/xtmp/mammo/image_datasets/MedStudentSegmentations/\"\n",
    "batch_images_in_folders(files_and_images,save_dir,12,test_flag=True)\n",
    "    "
   ]
  },
  {
   "cell_type": "code",
   "execution_count": null,
   "id": "9056c5f2",
   "metadata": {},
   "outputs": [],
   "source": [
    "#05/09/22: Convert Medstudent segmentations into viewable segs for Fides\n",
    "from PIL import Image\n",
    "\n",
    "medstudent_filepath = \"/usr/xtmp/mammo/image_datasets/MedStudentSegmentations_dst/\"\n",
    "batches = [1,2,3,4,5,6,7,8,9,10,11,12,13,14,15]\n",
    "\n",
    "for batch in batches: #loop through each batch\n",
    "    png_filepaths = []\n",
    "    full_filepath = medstudent_filepath + f\"TestBatch_{batch}b\" + \"/\"\n",
    "    #scan through each batch to find seg\n",
    "    for root, dirs, files in os.walk(full_filepath):\n",
    "        for file in files:\n",
    "            if file.endswith(\".png\"):\n",
    "                filepath = os.path.join(root, file)\n",
    "                tail_filepath = '/'.join(filepath.split(\"/\")[-2:])\n",
    "                png_filepaths.append(tail_filepath)   \n",
    "    #Find each pair of normal/fa and make numpy arrays using Image.open\n",
    "    for png_filepath in tqdm(png_filepaths):\n",
    "        if(png_filepath[-6:-4]=='fa'):\n",
    "            png_image_filepath = full_filepath + png_filepath[:-7] + png_filepath[-4:]\n",
    "            png_mask_filepath = full_filepath + png_filepath\n",
    "            display_annotation_filepath = [png_image_filepath,png_mask_filepath]\n",
    "            display_image_annotation([display_annotation_filepath],[png_filepath],png=True)\n",
    "            #make a subfolder under each batch at the level of irreg/oval that contains all images\n",
    "            save_folder = full_filepath + \"Fides/\"\n",
    "            if not os.path.exists(save_folder + png_filepath.split(\"/\")[0]):\n",
    "                os.makedirs(save_folder + png_filepath.split(\"/\")[0])\n",
    "            save_path = save_folder + png_filepath\n",
    "            plt.savefig(save_path)\n",
    "            plt.clf()\n",
    "            plt.close()"
   ]
  },
  {
   "cell_type": "markdown",
   "id": "c6b04f9d",
   "metadata": {},
   "source": [
    "# Vivek GAN stuff"
   ]
  },
  {
   "cell_type": "code",
   "execution_count": null,
   "id": "717513e5",
   "metadata": {},
   "outputs": [],
   "source": [
    "#Vivek GAN Playground\n",
    "#Imports\n",
    "import torch\n",
    "import torch.nn as nn\n",
    "import torch.optim as optim\n",
    "from torch.autograd import Variable\n",
    "from torch.utils.data import DataLoader\n",
    "#from models import G, D, weights_init (Already imported)\n",
    "#from data import get_training_set, get_test_set\n",
    "import torch.backends.cudnn as cudnn\n",
    "\n",
    "#Retrain UNet with training data taken from OracleImages/Iter\n",
    "new_unet_dataloader = unet_dataloader(saved_oracle_filepaths,8,2)\n",
    "#cbis_trainloader,_ = CBIS_DDSM_get_DataLoader(8,2)\n",
    "\n",
    "#Setup code\n",
    "def dice_loss(pred, target, smooth = 1.):\n",
    "    pred = pred.contiguous()\n",
    "    target = target.contiguous()\n",
    "    intersection = (pred * target).sum(dim=2).sum(dim=2)\n",
    "    loss = (1 - ((2. * intersection + smooth) / (pred.sum(dim=2).sum(dim=2) + target.sum(dim=2).sum(dim=2) + smooth)))\n",
    "    return loss.mean()\n",
    "\n",
    "cudnn.benchmark = True\n",
    "training_data_loader = new_unet_dataloader #replace with data loader from above (in UNET)\n",
    "\n",
    "#DEFINE BATCH_SIZE\n",
    "batch_size = 8\n",
    "\n",
    "#Initialize model and initialization values\n",
    "input_nc = 1\n",
    "output_nc = 1\n",
    "ngf = ndf = 32\n",
    "netG = G(input_nc, output_nc, ngf)\n",
    "netG.apply(weights_init)\n",
    "netD = D(input_nc, output_nc, ndf)\n",
    "netD.apply(weights_init)\n",
    "\n",
    "criterion = nn.BCELoss()\n",
    "criterion_l1 = nn.L1Loss()\n",
    "criterion_mse = nn.MSELoss()\n",
    "\n",
    "real_A = torch.FloatTensor(batch_size, input_nc, 256, 256)\n",
    "real_B = torch.FloatTensor(batch_size, output_nc, 256, 256)\n",
    "label = torch.FloatTensor(batch_size)\n",
    "real_label = 1\n",
    "fake_label = 0\n",
    "\n",
    "#Push everything onto CUDA\n",
    "netD = netD.cuda()\n",
    "netG = netG.cuda()\n",
    "criterion = criterion.cuda()\n",
    "criterion_l1 = criterion_l1.cuda()\n",
    "criterion_mse = criterion_mse.cuda()\n",
    "real_A = real_A.cuda()\n",
    "real_B = real_B.cuda()\n",
    "label = label.cuda()\n",
    "\n",
    "real_A = Variable(real_A)\n",
    "real_B = Variable(real_B)\n",
    "label = Variable(label)\n",
    "\n",
    "#Setup ADAM optimizer - REPLACE\n",
    "lr = 0.0002\n",
    "beta1 = 0.5\n",
    "optimizerD = torch.optim.Adam(netD.parameters(), lr=lr, betas=(beta1, 0.999))\n",
    "optimizerG = torch.optim.Adam(netG.parameters(), lr=lr, betas=(beta1, 0.999))\n",
    "\n",
    "lamb = 150"
   ]
  },
  {
   "cell_type": "code",
   "execution_count": null,
   "id": "d089b64e",
   "metadata": {},
   "outputs": [],
   "source": [
    "epoch = 0\n",
    "#Training Code\n",
    "for iteration, batch in enumerate(tqdm(training_data_loader), 1):\n",
    "    ############################\n",
    "    # (1) Update D network: maximize log(D(x,y)) + log(1 - D(x,G(x)))\n",
    "    ###########################\n",
    "    # train with real\n",
    "    netD.volatile = True\n",
    "    netD.zero_grad()\n",
    "    print(batch[0].shape)\n",
    "    with torch.no_grad():\n",
    "        real_a_cpu, real_b_cpu = batch[0], batch[1]\n",
    "        real_A.resize_(real_a_cpu.size()).copy_(real_a_cpu)\n",
    "        real_B.resize_(real_b_cpu.size()).copy_(real_b_cpu)\n",
    "\n",
    "    output = netD(torch.cat((real_A, real_B), 1))\n",
    "    with torch.no_grad():\n",
    "        label.resize_(output.size()).fill_(real_label)\n",
    "    err_d_real = criterion(output, label)\n",
    "    # print (err_d_real)\n",
    "    err_d_real.backward()\n",
    "    d_x_y = output.data.mean()\n",
    "\n",
    "    # train with fake\n",
    "    fake_b = netG(real_A)\n",
    "    output = netD(torch.cat((real_A, fake_b.detach()), 1))\n",
    "    with torch.no_grad():\n",
    "        label.resize_(output.size()).fill_(fake_label)\n",
    "    err_d_fake = criterion(output, label)\n",
    "    # print (err_d_fake)\n",
    "    err_d_fake.backward()\n",
    "    d_x_gx = output.data.mean()\n",
    "\n",
    "    err_d = (err_d_real + err_d_fake) / 2.0\n",
    "    optimizerD.step()\n",
    "\n",
    "    ############################\n",
    "    # (2) Update G network: maximize log(D(x,G(x))) + L1(y,G(x))\n",
    "    ###########################\n",
    "    netG.zero_grad()\n",
    "    netD.volatile = True\n",
    "    output = netD(torch.cat((real_A, fake_b), 1))\n",
    "    label.data.resize_(output.size()).fill_(real_label)\n",
    "    err_g = criterion(output, label) + lamb * dice_loss(fake_b, real_B)\n",
    "    err_g.backward()\n",
    "    d_x_gx_2 = output.data.mean()\n",
    "    optimizerG.step()\n",
    "    \n",
    "    #Print epoch info\n",
    "    print(\"===> Epoch[{}]({}/{}): Loss_D: {:.4f} Loss_G: {:.4f} D(x): {:.4f} D(G(z)): {:.4f}/{:.4f}\".format(\n",
    "            epoch, iteration, len(training_data_loader), err_d.data[0], err_g.data[0], d_x_y, d_x_gx, d_x_gx_2))\n",
    "\n",
    "\n",
    "#Eval Code\n",
    "\n",
    "#Run Code:\n",
    "#modelD, modelG, criterionD, criterionG, metric_trackerGD = vivek.model_update(modelD, modelG, criterionD, criterionG, dataloader,num_epochs=5)"
   ]
  },
  {
   "cell_type": "code",
   "execution_count": null,
   "id": "bd2f60c9",
   "metadata": {},
   "outputs": [],
   "source": [
    "#We want to save segmentations at correct thresholds for use in UNEt training on the same stage\n",
    "\n",
    "#Takes in correct oracle results and thresholds and save path\n",
    "#First threshold it to a binary mask\n",
    "\n",
    "def threshold_and_save_images(saved_oracle_filepaths, oracle_results_thresholds, save_dir):\n",
    "    for filepath in tqdm(saved_oracle_filepaths):\n",
    "        threshold = oracle_results_thresholds[(\"/\".join(filepath.split(\"/\")[-2:]))[:-4]]\n",
    "        arr_and_mask = np.load(filepath)\n",
    "        copy_arr_mask = arr_and_mask.copy()\n",
    "\n",
    "        arr = copy_arr_mask[0,:,:].copy()\n",
    "        mask = copy_arr_mask[1,:,:].copy()\n",
    "        #apply threshold to mask\n",
    "        mask = get_binary_mask(mask, threshold)\n",
    "        to_save = np.stack([arr, mask])\n",
    "        \n",
    "        save_save_dir = save_dir + \"/\".join(filepath.split(\"/\")[-2:])\n",
    "        if not os.path.exists(save_dir + filepath.split(\"/\")[-2]):\n",
    "            os.makedirs(save_dir + filepath.split(\"/\")[-2])\n",
    "        np.save(save_save_dir, to_save)"
   ]
  },
  {
   "cell_type": "code",
   "execution_count": null,
   "id": "bcb06a80",
   "metadata": {},
   "outputs": [],
   "source": [
    "#Save thresholded\n",
    "if True:\n",
    "    if users_name == 'alina':\n",
    "        save_dir = \"/usr/xtmp/mammo/alina_code/shapesAL/data/AllOracleRuns/Run_\" + run_id + \"/Iter\" + str(iter_num) + \"/OracleThresholdedImages/\"\n",
    "    elif users_name == 'vaibhav':\n",
    "        save_dir = \"/usr/xtmp/vs196/mammoproj/Code/ActiveLearning/AllOracleRuns/Run_\" + run_id + \"/Iter\" + str(iter_num) + \"/OracleThresholdedImages/\"\n",
    "    else:\n",
    "        print(\"wrong username\")\n",
    "        \n",
    "    if not os.path.exists(save_dir):\n",
    "        os.makedirs(save_dir)\n",
    "    else:\n",
    "        user_input = input(\"Do you want to overwrite this directory? Type y or yes to continue\")\n",
    "        if not (user_input==\"y\" or user_input==\"yes\"):\n",
    "            assert(False)\n",
    "            \n",
    "    threshold_and_save_images(saved_oracle_filepaths, oracle_results_thresholds, save_dir)\n",
    "    save_dir = convert_directory_to_floodfill(save_dir,iter0=False)\n",
    "    print(f\"Saved in {save_dir}\")        "
   ]
  },
  {
   "cell_type": "code",
   "execution_count": null,
   "id": "07f74ec1",
   "metadata": {},
   "outputs": [],
   "source": [
    "save_dir"
   ]
  }
 ],
 "metadata": {
  "kernelspec": {
   "display_name": "Python 3",
   "language": "python",
   "name": "python3"
  },
  "language_info": {
   "codemirror_mode": {
    "name": "ipython",
    "version": 3
   },
   "file_extension": ".py",
   "mimetype": "text/x-python",
   "name": "python",
   "nbconvert_exporter": "python",
   "pygments_lexer": "ipython3",
   "version": "3.6.9"
  }
 },
 "nbformat": 4,
 "nbformat_minor": 5
}
