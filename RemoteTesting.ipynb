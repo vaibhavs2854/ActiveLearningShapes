{
 "cells": [
  {
   "cell_type": "code",
   "execution_count": 1,
   "id": "native-uncle",
   "metadata": {},
   "outputs": [
    {
     "name": "stdout",
     "output_type": "stream",
     "text": [
      "manually leveling\n"
     ]
    }
   ],
   "source": [
    "print('manually leveling')"
   ]
  },
  {
   "cell_type": "markdown",
   "id": "da77abad",
   "metadata": {},
   "source": [
    "## Import Section"
   ]
  },
  {
   "cell_type": "code",
   "execution_count": 2,
   "id": "b601e346",
   "metadata": {},
   "outputs": [],
   "source": [
    "import numpy as np\n",
    "import torch\n",
    "import torchvision\n",
    "from time import time\n",
    "import random\n",
    "\n",
    "from torch.utils.data import Dataset, DataLoader\n",
    "from torchvision import datasets, transforms\n",
    "from torch import nn, optim\n",
    "from torch.utils.data.sampler import SubsetRandomSampler\n",
    "import torchvision.transforms.functional as TF\n",
    "import torch.nn.functional as F\n",
    "from torch.autograd import Variable\n",
    "import os\n",
    "import glob\n",
    "import cv2\n",
    "from tqdm import tqdm\n",
    "\n",
    "from matplotlib.pyplot import imsave, imread\n",
    "import matplotlib.pyplot as plt\n",
    "import sys\n",
    "import matplotlib.gridspec as gridspec\n",
    "\n",
    "import copy\n",
    "import pickle"
   ]
  },
  {
   "cell_type": "code",
   "execution_count": 3,
   "id": "78ad1510",
   "metadata": {},
   "outputs": [],
   "source": [
    "from floodfill import *\n",
    "from dataloader import *\n",
    "from model import *\n",
    "from oracle import *\n",
    "from unet import *\n",
    "import ternausnet.models"
   ]
  },
  {
   "cell_type": "code",
   "execution_count": 4,
   "id": "2bf5c44d",
   "metadata": {},
   "outputs": [],
   "source": [
    "from vivek.model import *"
   ]
  },
  {
   "cell_type": "markdown",
   "id": "b81907ee",
   "metadata": {},
   "source": [
    "## Testing Jupyter Notebook Section"
   ]
  },
  {
   "cell_type": "code",
   "execution_count": 5,
   "id": "0fc3727a",
   "metadata": {},
   "outputs": [
    {
     "name": "stdout",
     "output_type": "stream",
     "text": [
      "what is your name: alina\n",
      "Your name is: alina.\n"
     ]
    }
   ],
   "source": [
    "#Testing live input from user\n",
    "users_name = input(\"what is your name: \")\n",
    "print(f\"Your name is: {users_name}.\")"
   ]
  },
  {
   "cell_type": "code",
   "execution_count": 64,
   "id": "acfdec25",
   "metadata": {},
   "outputs": [
    {
     "name": "stdout",
     "output_type": "stream",
     "text": [
      "(3, 256, 256)\n"
     ]
    },
    {
     "data": {
      "image/png": "[encoded data removed]",
      "text/plain": [
       "<Figure size 432x288 with 1 Axes>"
      ]
     },
     "metadata": {
      "needs_background": "light"
     },
     "output_type": "display_data"
    }
   ],
   "source": [
    "#Tests loading an image from a directory\n",
    "im_dir = \"/usr/xtmp/mammo/image_datasets/data_split_july2021/square_ROI_by_shape_segmentations_unbin/train/\"\n",
    "im_dir = \"/usr/xtmp/vs196/mammoproj/Code/ActiveLearning/AllOracleRuns/Run_03_10_a/Iter1/UNetSegmentations_ff/\"\n",
    "#im_dir = \"/usr/xtmp/vs196/mammoproj/Code/ActiveLearning/UNetSegmentations/Iter0_ff/Oval/\"\n",
    "#im_dir = \"/usr/xtmp/vs196/mammoproj/Code/ActiveLearning/AllOracleRuns/Run_11_29_a/Iter2/UNetSegmentations_C/Oval/\"\n",
    "#im_dir = \"/usr/xtmp/vs196/mammoproj/Code/ActiveLearning/AllOracleRuns/Run_11_29_a/Iter2/UNetSegmentations_C/Round/\"\n",
    "# im_dir = \"/usr/xtmp/vs196/mammoproj/Code/ActiveLearning/AllOracleRuns/Run_11_24_b/Iter1/UNetSegmentations_C/Oval/\"\n",
    "#im_dir = \"/usr/xtmp/vs196/mammoproj/Code/ActiveLearning/UNetSegmentations/Iter0_ff/Round/\"\n",
    "#ims = [\"DP_ACRF_18645_1.npy\"]\n",
    "#im_dir = \"/usr/xtmp/vs196/mammoproj/Code/ActiveLearning/AllOracleRuns/Run_02_10_a/Iter1/OracleThresholdedImages_ff/Irregular/\"\n",
    "ims = [\"Oval/DP_AGYG_113509_1.npy\"]\n",
    "\n",
    "for im in ims:\n",
    "    path = im_dir + im;\n",
    "    arr = np.load(path)\n",
    "    #arr = np.where(arr > 0.2,1,0)\n",
    "    print(arr.shape)\n",
    "    \n",
    "plt.imshow(arr[1],cmap='jet')\n",
    "#plt.show()\n",
    "im_dir = save_dir"
   ]
  },
  {
   "cell_type": "markdown",
   "id": "c894ee31",
   "metadata": {},
   "source": [
    "## Active Learning: Setup - Run once per run id"
   ]
  },
  {
   "cell_type": "code",
   "execution_count": 6,
   "id": "3bb5d434",
   "metadata": {},
   "outputs": [],
   "source": [
    "run_id = \"01_01_b\" #Format: Month_Day_(Run # that day by letter)\n",
    "#run_id = \"02_10_a\"\n",
    "#run_id = \"02_28_a\"\n",
    "#original \n",
    "#01_01_b is where we load from alina's oracle results\n",
    "#02_28_a is where we load trained model"
   ]
  },
  {
   "cell_type": "code",
   "execution_count": 7,
   "id": "70ab0d27",
   "metadata": {},
   "outputs": [],
   "source": [
    "iter_num=1"
   ]
  },
  {
   "cell_type": "code",
   "execution_count": 8,
   "id": "e4f60f2b",
   "metadata": {},
   "outputs": [],
   "source": [
    "im_dir = \"/usr/xtmp/mammo/image_datasets/data_split_july2021/square_ROI_by_shape_segmentations_unbin/train/\"\n",
    "#im_dir = \"/usr/xtmp/vs196/mammoproj/Code/ActiveLearning/AllOracleRuns/Run_02_28_a/Iter1/OracleThresholdedImages_ff/\""
   ]
  },
  {
   "cell_type": "code",
   "execution_count": 9,
   "id": "487ea26c",
   "metadata": {},
   "outputs": [
    {
     "name": "stderr",
     "output_type": "stream",
     "text": [
      "  0%|          | 0/26 [00:00<?, ?it/s]"
     ]
    },
    {
     "name": "stdout",
     "output_type": "stream",
     "text": [
      "torch.Size([32, 1, 256, 256])\n"
     ]
    },
    {
     "name": "stderr",
     "output_type": "stream",
     "text": [
      "\n"
     ]
    }
   ],
   "source": [
    "#Gets the dataloader. Passes in directory of ALL images\n",
    "#im_dir = \"/usr/xtmp/mammo/image_datasets/data_split_july2021/square_ROI_by_shape_segmentations/train/\"\n",
    "#GET THE NEW IM_DIR FOR SUBSEQUENT ITERATIONS\n",
    "im_dir = \"/usr/xtmp/mammo/image_datasets/data_split_july2021/square_ROI_by_shape_segmentations_unbin/train/\"\n",
    "dataloader = get_DataLoader(im_dir,32,2)\n",
    "\n",
    "#Tests the dataloader\n",
    "for i in tqdm(dataloader):\n",
    "#     print(max(i[1]))\n",
    "    print(i[1].shape)\n",
    "    break"
   ]
  },
  {
   "cell_type": "code",
   "execution_count": 10,
   "id": "765929c2",
   "metadata": {},
   "outputs": [],
   "source": [
    "#Initializing info arrays for active learning. oracle_results maps patientIDs to 0,1 labels\n",
    "oracle_results = {}\n",
    "oracle_results_thresholds = {}"
   ]
  },
  {
   "cell_type": "markdown",
   "id": "30e48a9b",
   "metadata": {},
   "source": [
    "## Active Learning: Querying"
   ]
  },
  {
   "cell_type": "code",
   "execution_count": null,
   "id": "b8b9568e",
   "metadata": {
    "scrolled": false
   },
   "outputs": [],
   "source": [
    "#Initializes and trains the model. Plots a loss function of the initial training\n",
    "model,loss_tracker,criterion,optimizer = initialize_and_train_model(dataloader, epochs=5) #default batch_size and epochs\n",
    "plt.plot(loss_tracker) #plot graph"
   ]
  },
  {
   "cell_type": "code",
   "execution_count": null,
   "id": "249b7b53",
   "metadata": {},
   "outputs": [],
   "source": [
    "all_patient_scores = []\n",
    "\n",
    "#right now patient_scores is initial scores for each patient (without active learning training)\n",
    "patient_scores = get_patient_scores(model,dataloader) \n",
    "all_patient_scores.append(patient_scores)"
   ]
  },
  {
   "cell_type": "code",
   "execution_count": null,
   "id": "0006f471",
   "metadata": {
    "scrolled": true
   },
   "outputs": [],
   "source": [
    "new_oracle_results, new_oracle_results_thresholds = query_oracle(oracle_results,oracle_results_thresholds,\n",
    "                                                                 patient_scores,im_dir,query_method=\"percentile=0.8\",\n",
    "                                                                 query_number=20)\n",
    "oracle_results, oracle_results_thresholds = new_oracle_results, new_oracle_results_thresholds"
   ]
  },
  {
   "cell_type": "code",
   "execution_count": null,
   "id": "c23a2563",
   "metadata": {},
   "outputs": [],
   "source": [
    "\n",
    "query_num+=2"
   ]
  },
  {
   "cell_type": "code",
   "execution_count": null,
   "id": "aa40fd2d",
   "metadata": {},
   "outputs": [],
   "source": [
    "patient_scores = get_patient_scores(model,dataloader)\n",
    "all_patient_scores.append(patient_scores)"
   ]
  },
  {
   "cell_type": "code",
   "execution_count": null,
   "id": "02ff0ecf",
   "metadata": {
    "scrolled": true
   },
   "outputs": [],
   "source": [
    "#TODO: track model loss somehow along with patient_scores\n",
    "for i in range(1):\n",
    "    model = model_update(model,dataloader,oracle_results,criterion,optimizer,num_epochs=5)\n",
    "\n",
    "    patient_scores = get_patient_scores(model,dataloader)\n",
    "    all_patient_scores.append(patient_scores)"
   ]
  },
  {
   "cell_type": "markdown",
   "id": "44bded4f",
   "metadata": {},
   "source": [
    "## Metrics and plotting"
   ]
  },
  {
   "cell_type": "code",
   "execution_count": null,
   "id": "35f48fcf",
   "metadata": {},
   "outputs": [],
   "source": [
    "#Prints out all patient scores.\n",
    "for i in all_patient_scores:\n",
    "    print(calculate_dispersion_metric(i,oracle_results))"
   ]
  },
  {
   "cell_type": "code",
   "execution_count": null,
   "id": "f6cc8711",
   "metadata": {},
   "outputs": [],
   "source": [
    "#Plot the disperson metric\n",
    "j = []\n",
    "for i in all_patient_scores:\n",
    "    j.append(calculate_dispersion_metric(i,oracle_results))\n",
    "    \n",
    "plt.plot(j)"
   ]
  },
  {
   "cell_type": "code",
   "execution_count": null,
   "id": "b52692eb",
   "metadata": {},
   "outputs": [],
   "source": [
    "print(\"Length of patient scores: \" + str(len(patient_scores)))\n",
    "print(\"Length of oracle results: \" + str(len(oracle_results)))\n",
    "\n",
    "scores = []\n",
    "for key in patient_scores.keys():\n",
    "    scores.append(patient_scores[key])\n",
    "plt.plot(scores)\n",
    "\n",
    "ones = 0\n",
    "for i in oracle_results.keys():\n",
    "    if oracle_results[i]==1:\n",
    "        ones+=1\n",
    "print(\"Number of ones in oracle results: \", ones)"
   ]
  },
  {
   "cell_type": "code",
   "execution_count": null,
   "id": "ba948cf5",
   "metadata": {
    "scrolled": true
   },
   "outputs": [],
   "source": [
    "run_id"
   ]
  },
  {
   "cell_type": "markdown",
   "id": "12e8917f",
   "metadata": {},
   "source": [
    "Jump back to oracle query if you want to query more. Move on to retrain segmenter"
   ]
  },
  {
   "cell_type": "markdown",
   "id": "27cfb1f5",
   "metadata": {},
   "source": [
    "## Saving or Loading Oracle Results"
   ]
  },
  {
   "cell_type": "code",
   "execution_count": null,
   "id": "e70b7ba0",
   "metadata": {},
   "outputs": [],
   "source": [
    "if False:\n",
    "    #SAVE ORACLE\n",
    "\n",
    "    #make filepath\n",
    "    if users_name == 'alina':\n",
    "        save_dir = \"/usr/xtmp/mammo/alina_code/shapesAL/data/AllOracleRuns/Run_\" + run_id + \"/Iter\" + str(iter_num) + \"/CorrectSegmentations/\"\n",
    "    elif users_name == 'vaibhav':\n",
    "        save_dir = \"/usr/xtmp/vs196/mammoproj/Code/ActiveLearning/AllOracleRuns/Run_\" + run_id + \"/Iter\" + str(iter_num) + \"/CorrectSegmentations/\"\n",
    "\n",
    "    saved_oracle_filepaths = save_oracle_results(oracle_results,oracle_results_thresholds,im_dir,save_dir)\n",
    "    fpath = save_dir + \"saved_data_struct/\"\n",
    "    if not os.path.exists(fpath):\n",
    "        os.makedirs(fpath)\n",
    "    saved_oracle_filepaths_filepath = save_dir + \"saved_data_struct/Oracle_Filepaths.pickle\"\n",
    "    pickle.dump(saved_oracle_filepaths,open(saved_oracle_filepaths_filepath,\"wb\"))\n",
    "    pickle.dump(oracle_results,open(save_dir + \"saved_data_struct/Oracle_Results.pickle\",\"wb\"))\n",
    "    pickle.dump(oracle_results_thresholds,open(save_dir + \"saved_data_struct/Oracle_Results_Thresholds.pickle\",\"wb\"))\n",
    "    #TODO: Move border/weight creation to this method and out of convert_directory_to_floodfill"
   ]
  },
  {
   "cell_type": "code",
   "execution_count": 32,
   "id": "34c9d8c8",
   "metadata": {},
   "outputs": [
    {
     "data": {
      "text/plain": [
       "238"
      ]
     },
     "execution_count": 32,
     "metadata": {},
     "output_type": "execute_result"
    }
   ],
   "source": [
    "len(saved_oracle_filepaths)"
   ]
  },
  {
   "cell_type": "code",
   "execution_count": 11,
   "id": "fce7e33e",
   "metadata": {},
   "outputs": [],
   "source": [
    "if False: #done running if False\n",
    "    #LOAD oracle_results and save_oracle_filepaths\n",
    "    if users_name == 'alina':\n",
    "        save_dir = \"/usr/xtmp/mammo/alina_code/shapesAL/data/AllOracleRuns/Run_\" + run_id + \"/Iter\" + str(iter_num) + \"/CorrectSegmentations/\"\n",
    "    elif users_name == 'vaibhav':\n",
    "        save_dir = \"/usr/xtmp/vs196/mammoproj/Code/ActiveLearning/AllOracleRuns/Run_\" + run_id + \"/Iter\" + str(iter_num) + \"/CorrectSegmentations/\"\n",
    "    saved_oracle_filepaths_filepath = save_dir + \"saved_data_struct/Oracle_Filepaths.pickle\"\n",
    "    #Reload from previous iteration\n",
    "    oracle_results = pickle.load(open(save_dir + \"saved_data_struct/Oracle_Results.pickle\",\"rb\"))\n",
    "    oracle_results_thresholds = pickle.load(open(save_dir + \"saved_data_struct/Oracle_Results_Thresholds.pickle\",\"rb\"))\n",
    "    saved_oracle_filepaths = pickle.load(open(saved_oracle_filepaths_filepath,\"rb\"))"
   ]
  },
  {
   "cell_type": "code",
   "execution_count": null,
   "id": "df2eb140",
   "metadata": {},
   "outputs": [],
   "source": [
    "if False:\n",
    "    # RECOVER an accidentally delted oracle (recovers correct segmentations only)\n",
    "    oracle_results = {}\n",
    "    if users_name == 'alina':\n",
    "        recover_from_dir = \"/usr/xtmp/mammo/alina_code/shapesAL/data/AllOracleRuns/Run_\" + run_id + \"/Iter\" + str(iter_num) + \"/CorrectSegmentations/\"\n",
    "    for root, dirs, files in os.walk(recover_from_dir):\n",
    "        for file in files:\n",
    "            if file.endswith(\".npy\"):\n",
    "                filepath = os.path.join(root, file)\n",
    "                print(filepath.split('/')[])\n",
    "                break\n",
    "                oracle_results[file[:-4]] = 1\n",
    "\n",
    "    # pickle.dump(oracle_results,open(recover_from_dir + \"saved_data_struct/Oracle_Results.pickle\",\"wb\"))"
   ]
  },
  {
   "cell_type": "code",
   "execution_count": 12,
   "id": "b2aa7a8e",
   "metadata": {},
   "outputs": [],
   "source": [
    "#Remove all 0's from oracle_results.\n",
    "oracle_results = remove_bad_oracle_results(oracle_results)\n",
    "#NOTE: Don't FULLY reset oracle_results EVER during a run, only do above"
   ]
  },
  {
   "cell_type": "code",
   "execution_count": 12,
   "id": "8905a8b9",
   "metadata": {},
   "outputs": [
    {
     "name": "stdout",
     "output_type": "stream",
     "text": [
      "313\n"
     ]
    }
   ],
   "source": [
    "print(len(oracle_results))"
   ]
  },
  {
   "cell_type": "code",
   "execution_count": 35,
   "id": "ee83d52c",
   "metadata": {},
   "outputs": [
    {
     "name": "stdout",
     "output_type": "stream",
     "text": [
      "/usr/xtmp/mammo/alina_code/shapesAL/data/AllOracleRuns/Run_01_01_b/Iter1/CorrectSegmentations/\n",
      "313\n"
     ]
    }
   ],
   "source": [
    "# #Convert oracle_results to oracle filepaths\n",
    "# all_oracle_filepaths = []\n",
    "    \n",
    "# filestem = '/'.join(saved_oracle_filepaths[0].split(\"/\")[:-2]) +\"/\"\n",
    "# print(filestem)\n",
    "\n",
    "# for key in oracle_results.keys():\n",
    "#     all_oracle_filepaths.append(filestem + key + \".npy\")\n",
    "\n",
    "# print(len(oracle_all_filepaths))"
   ]
  },
  {
   "cell_type": "markdown",
   "id": "10d52ed2",
   "metadata": {},
   "source": [
    "## Retrain UNet and Save New Segmentations"
   ]
  },
  {
   "cell_type": "code",
   "execution_count": 13,
   "id": "9bf75808",
   "metadata": {},
   "outputs": [],
   "source": [
    "#Retoggle run id if we want to save today's set instead of loading in an old set.\n",
    "if True:\n",
    "    run_id = \"03_17_a\" \n",
    "    \n",
    "#Retoggle user to Vaibhav if I want to save \n",
    "if True:\n",
    "    users_name = \"vaibhav\""
   ]
  },
  {
   "cell_type": "code",
   "execution_count": 14,
   "id": "f3807b3f",
   "metadata": {},
   "outputs": [
    {
     "name": "stdout",
     "output_type": "stream",
     "text": [
      "Do you want to overwrite this directory? Type y or yes to continuey\n"
     ]
    },
    {
     "name": "stderr",
     "output_type": "stream",
     "text": [
      "100%|██████████| 824/824 [00:08<00:00, 102.70it/s]\n",
      "100%|██████████| 824/824 [05:18<00:00,  2.59it/s]"
     ]
    },
    {
     "name": "stdout",
     "output_type": "stream",
     "text": [
      "Saved in /usr/xtmp/vs196/mammoproj/Code/ActiveLearning/AllOracleRuns/Run_03_17_a/Iter1/OracleThresholdedImages_ff/\n"
     ]
    },
    {
     "name": "stderr",
     "output_type": "stream",
     "text": [
      "\n"
     ]
    }
   ],
   "source": [
    "#Threshold masks based on oracle and save if needed.\n",
    "#If already done, then skip\n",
    "threshold_and_save_flag = True\n",
    "if threshold_and_save_flag:\n",
    "    #Save thresholded\n",
    "    if users_name == 'alina':\n",
    "        save_dir = \"/usr/xtmp/mammo/alina_code/shapesAL/data/AllOracleRuns/Run_\" + run_id + \"/Iter\" + str(iter_num) + \"/OracleThresholdedImages/\"\n",
    "    elif users_name == 'vaibhav':\n",
    "        save_dir = \"/usr/xtmp/vs196/mammoproj/Code/ActiveLearning/AllOracleRuns/Run_\" + run_id + \"/Iter\" + str(iter_num) + \"/OracleThresholdedImages/\"\n",
    "    else:\n",
    "        print(\"wrong username\")\n",
    "        \n",
    "    if not os.path.exists(save_dir):\n",
    "        os.makedirs(save_dir)\n",
    "    else:\n",
    "        user_input = input(\"Do you want to overwrite this directory? Type y or yes to continue\")\n",
    "        if not (user_input==\"y\" or user_input==\"yes\"):\n",
    "            assert(False)\n",
    "    #find all filepaths in im_dir\n",
    "    all_filepaths = []\n",
    "    for root, dirs, files in os.walk(im_dir):\n",
    "        for file in files:\n",
    "            if file.endswith(\".npy\"):\n",
    "                all_filepaths.append(os.path.join(root, file))\n",
    "    threshold_and_save_images(all_filepaths, oracle_results_thresholds, save_dir)\n",
    "    save_dir = convert_directory_to_floodfill(save_dir,iter0=False)\n",
    "    print(f\"Saved in {save_dir}\")\n",
    "    unbin_im_dir = im_dir\n",
    "    im_dir = save_dir #im_dir is now replaced with the new directory\n",
    "    #save_dir is defunct"
   ]
  },
  {
   "cell_type": "code",
   "execution_count": 15,
   "id": "82bb3513",
   "metadata": {},
   "outputs": [],
   "source": [
    "def unet_dataloader(train_images_filepaths,batch_size,num_workers):\n",
    "    transforms_arr = [transforms.ToTensor(),transforms.Resize((256,256))]\n",
    "    transform = transforms.Compose(transforms_arr)\n",
    "    trainset = InhouseGetData(train_images_filepaths,transform,data_aug=True,has_weights=True)\n",
    "    trainloader = DataLoader(trainset,batch_size=batch_size,num_workers=num_workers)\n",
    "    return trainloader\n",
    "\n",
    "class InhouseGetData(Dataset):\n",
    "    def __init__(self,image_filepaths,image_transform,data_aug=True,has_weights=True):\n",
    "        super().__init__()\n",
    "        self.image_filepaths = image_filepaths\n",
    "        self.image_transform = image_transform\n",
    "        self.data_aug = data_aug\n",
    "        self.has_weights = has_weights\n",
    "\n",
    "    def __len__(self):\n",
    "        return len(self.image_filepaths)\n",
    "\n",
    "    def __getitem__(self,idx):\n",
    "        filepath = self.image_filepaths[idx]\n",
    "        #print(\"Filepath: \" + filepath)\n",
    "        arr_and_mask = np.load(filepath)\n",
    "        copy_arr_mask = arr_and_mask.copy()\n",
    "        if self.data_aug:\n",
    "            copy_arr_mask = random_flip(copy_arr_mask, 0, True)\n",
    "            copy_arr_mask = random_flip(copy_arr_mask, 1, True)\n",
    "            copy_arr_mask = random_rotate_90(copy_arr_mask, True)\n",
    "            copy_arr_mask = random_rotate_90(copy_arr_mask, True)\n",
    "            copy_arr_mask = random_rotate_90(copy_arr_mask, True)\n",
    "        arr = copy_arr_mask[0,:,:].copy()\n",
    "        mask = copy_arr_mask[1,:,:].copy()\n",
    "        if self.has_weights:\n",
    "            weights = copy_arr_mask[2,:,:].copy()\n",
    "        arr = exposure.equalize_hist(arr) #histogram equalization, remove if u want\n",
    "        #arr = np.stack([arr,arr,arr])\n",
    "        #mask = np.stack([mask,mask,mask])\n",
    "        #no need to preprocess\n",
    "        #print(\"INSIDE\")\n",
    "        #print(arr.shape)\n",
    "        \n",
    "        image = self.image_transform(arr)\n",
    "        #image = our_transform(image)\n",
    "        #print(image.shape)\n",
    "        #print(\"OUTSIDE\")\n",
    "        mask_label = self.image_transform(mask)\n",
    "        #mask_label = our_transform(mask_label)\n",
    "        if self.has_weights:\n",
    "            weights_label = self.image_transform(weights)\n",
    "            #weights_label = our_transform(weights_label)\n",
    "        #a transform\n",
    "        # print(arr.shape)\n",
    "        # print(mask.shape)\n",
    "        \n",
    "        # transformed = self.a_transform(image=arr, mask=mask)\n",
    "        # a_image = transformed[\"image\"]\n",
    "        # a_mask = transformed[\"mask\"]\n",
    "        if self.has_weights:\n",
    "            return image,mask_label,weights_label\n",
    "        return image,mask_label\n",
    "\n",
    "\n",
    "def get_binary_mask(mask,threshold):\n",
    "    return np.where(mask > threshold, 1, 0)\n",
    "    \n",
    "class InhouseGetData_v2(InhouseGetData):\n",
    "    def __init__(self,image_filepaths,oracle_results_thresholds,image_transform,data_aug=True,has_weights=True):\n",
    "        InhouseGetData.__init__(self,image_filepaths,image_transform,data_aug,has_weights)\n",
    "        self.oracle_results_thresholds = oracle_results_thresholds\n",
    "    def __getitem__(self,idx):\n",
    "        filepath = self.image_filepaths[idx]\n",
    "        #print(\"Filepath: \" + filepath)\n",
    "        arr_and_mask = np.load(filepath)\n",
    "        copy_arr_mask = arr_and_mask.copy()\n",
    "        if self.data_aug:\n",
    "            copy_arr_mask = random_flip(copy_arr_mask, 0, True)\n",
    "            copy_arr_mask = random_flip(copy_arr_mask, 1, True)\n",
    "            copy_arr_mask = random_rotate_90(copy_arr_mask, True)\n",
    "            copy_arr_mask = random_rotate_90(copy_arr_mask, True)\n",
    "            copy_arr_mask = random_rotate_90(copy_arr_mask, True)\n",
    "        arr = copy_arr_mask[0,:,:].copy()\n",
    "        mask = copy_arr_mask[1,:,:].copy()\n",
    "        #apply threshold to mask\n",
    "        threshold = self.oracle_results_thresholds[(\"/\".join(filepath.split(\"/\")[-2:]))[:-4]]\n",
    "        mask = get_binary_mask(mask,threshold)\n",
    "        if self.has_weights:\n",
    "            weights = copy_arr_mask[2,:,:].copy()\n",
    "        arr = exposure.equalize_hist(arr) #histogram equalization, remove if u want\n",
    "        \n",
    "        image = self.image_transform(arr)\n",
    "        mask_label = self.image_transform(mask)\n",
    "        if self.has_weights:\n",
    "            weights_label = self.image_transform(weights)\n",
    "        if self.has_weights:\n",
    "            return image,mask_label,weights_label\n",
    "        return image,mask_label\n",
    "        \n",
    "    \n",
    "def unet_dataloader_v2(saved_oracle_filepaths,oracle_results_thresholds,batch_size=8,num_workers=2):\n",
    "    transforms_arr = [transforms.ToTensor(),transforms.Resize((256,256))]\n",
    "    transform = transforms.Compose(transforms_arr)\n",
    "    trainset = InhouseGetData_v2(saved_oracle_filepaths,oracle_results_thresholds,transform,data_aug=True,has_weights=True)\n",
    "    trainloader = DataLoader(trainset,batch_size=batch_size,num_workers=num_workers)\n",
    "    return trainloader\n",
    "    "
   ]
  },
  {
   "cell_type": "code",
   "execution_count": 16,
   "id": "4a7e9c58",
   "metadata": {},
   "outputs": [],
   "source": [
    "custom_model_path = \"/usr/xtmp/vs196/mammoproj/Code/ActiveLearning/AllOracleRuns/Run_03_17_a/Iter1/unetmodel.pth\"\n",
    "custom_load = True\n",
    "if custom_load:\n",
    "    model_path = custom_model_path\n",
    "    unet_model = torch.load(model_path)\n",
    "    \n",
    "else:\n",
    "    #Load in/Initialize a UNet model for retraining\n",
    "\n",
    "    from_scratch = False\n",
    "    #Define the initial UNet model (iter0)\n",
    "    if iter_num==1:\n",
    "        model_path = \"/usr/xtmp/vs196/mammoproj/SavedModels/HyperparameterUNet_nobuffer/unet_5_0.5/Model/unetmodel_FINAL.pth\"\n",
    "    else:\n",
    "        model_path = model_save_path\n",
    "\n",
    "    if not from_scratch:\n",
    "        unet_model = torch.load(model_path)\n",
    "    else:\n",
    "        unet_model = getattr(ternausnet.models, \"UNet16\")(num_classes=2,pretrained=True).cuda()\n",
    "\n",
    "total_loss_tracker = []\n",
    "total_metric_tracker = []"
   ]
  },
  {
   "cell_type": "code",
   "execution_count": 17,
   "id": "8f70c6e7",
   "metadata": {},
   "outputs": [],
   "source": [
    "#Handles three channels: [data,floodfilled binary mask,border]\n",
    "def redirect_saved_oracle_filepaths_to_thresheld_directory(saved_oracle_filepaths,im_dir):\n",
    "    new_filepaths = [(im_dir + \"/\".join(filepath.split(\"/\")[-2:])) for filepath in saved_oracle_filepaths]\n",
    "    return new_filepaths\n",
    "\n",
    "new_saved_oracle_filepaths = redirect_saved_oracle_filepaths_to_thresheld_directory(saved_oracle_filepaths, im_dir)"
   ]
  },
  {
   "cell_type": "code",
   "execution_count": 43,
   "id": "bcf181ab",
   "metadata": {},
   "outputs": [
    {
     "name": "stdout",
     "output_type": "stream",
     "text": [
      "/usr/xtmp/vs196/mammoproj/Code/ActiveLearning/AllOracleRuns/Run_03_10_a/Iter1/OracleThresholdedImages_ff/\n",
      "03_10_a\n"
     ]
    }
   ],
   "source": [
    "# print(saved_oracle_filepaths[0])\n",
    "# print(new_saved_oracle_filepaths[0])\n",
    "print(im_dir)\n",
    "print(run_id)"
   ]
  },
  {
   "cell_type": "code",
   "execution_count": 19,
   "id": "55fa21ee",
   "metadata": {},
   "outputs": [
    {
     "name": "stderr",
     "output_type": "stream",
     "text": [
      "100%|██████████| 155/155 [02:01<00:00,  1.27it/s]\n",
      "100%|██████████| 155/155 [02:01<00:00,  1.27it/s]\n"
     ]
    }
   ],
   "source": [
    "#Retrain UNet with training data taken from OracleImages/Iter\n",
    "#new_unet_dataloader = unet_dataloader(saved_oracle_filepaths,8,2)\n",
    "new_unet_dataloader = unet_dataloader(new_saved_oracle_filepaths,8,2)\n",
    "cbis_trainloader,_ = CBIS_DDSM_get_DataLoader(8,2)\n",
    "\n",
    "#unet_model,loss_tracker,metric_tracker = unet_update_model(unet_model,cbis_trainloader,num_epochs=15)\n",
    "unet_model,loss_tracker,metric_tracker = unet_update_model_multi_dataloader(unet_model,new_unet_dataloader,cbis_trainloader,num_epochs=2)\n",
    "total_loss_tracker.extend(loss_tracker)\n",
    "total_metric_tracker.extend(metric_tracker)"
   ]
  },
  {
   "cell_type": "code",
   "execution_count": 20,
   "id": "7d75650c",
   "metadata": {},
   "outputs": [
    {
     "data": {
      "text/plain": [
       "[<matplotlib.lines.Line2D at 0x154c20188550>]"
      ]
     },
     "execution_count": 20,
     "metadata": {},
     "output_type": "execute_result"
    },
    {
     "data": {
      "image/png": "[encoded data removed]",
      "text/plain": [
       "<Figure size 432x288 with 1 Axes>"
      ]
     },
     "metadata": {
      "needs_background": "light"
     },
     "output_type": "display_data"
    }
   ],
   "source": [
    "#plt.plot(total_loss_tracker)\n",
    "plt.plot(total_metric_tracker)"
   ]
  },
  {
   "cell_type": "code",
   "execution_count": 18,
   "id": "506f155b",
   "metadata": {},
   "outputs": [
    {
     "name": "stderr",
     "output_type": "stream",
     "text": [
      "  0%|          | 2/824 [00:00<00:38, 21.20it/s]\n"
     ]
    },
    {
     "name": "stdout",
     "output_type": "stream",
     "text": [
      "Debugging. Data shape is: (256, 256), and unbinarized shape is: (256, 256), and unbin output shape is torch.Size([1, 256, 256])\n",
      "Debugging. Data shape is: (256, 256), and unbinarized shape is: (256, 256), and unbin output shape is torch.Size([1, 256, 256])\n",
      "Debugging. Data shape is: (256, 256), and unbinarized shape is: (256, 256), and unbin output shape is torch.Size([1, 256, 256])\n"
     ]
    },
    {
     "ename": "ValueError",
     "evalue": "all input arrays must have the same shape",
     "output_type": "error",
     "traceback": [
      "\u001b[0;31m---------------------------------------------------------------------------\u001b[0m",
      "\u001b[0;31mValueError\u001b[0m                                Traceback (most recent call last)",
      "\u001b[0;32m<ipython-input-18-c3bd7fae30ed>\u001b[0m in \u001b[0;36m<module>\u001b[0;34m\u001b[0m\n\u001b[1;32m      9\u001b[0m \u001b[0;31m#Saves all segmentations (preserved for images labelled correctly by the oracle, new for all others) to save_dir\u001b[0m\u001b[0;34m\u001b[0m\u001b[0;34m\u001b[0m\u001b[0;34m\u001b[0m\u001b[0m\n\u001b[1;32m     10\u001b[0m \u001b[0;31m#Have different subfolders for different iterations of unet update\u001b[0m\u001b[0;34m\u001b[0m\u001b[0;34m\u001b[0m\u001b[0;34m\u001b[0m\u001b[0m\n\u001b[0;32m---> 11\u001b[0;31m \u001b[0mevaluate_model_on_new_segmentations_and_save\u001b[0m\u001b[0;34m(\u001b[0m\u001b[0munet_model\u001b[0m\u001b[0;34m,\u001b[0m\u001b[0msegmentation_folder\u001b[0m\u001b[0;34m,\u001b[0m\u001b[0msaved_oracle_filepaths\u001b[0m\u001b[0;34m,\u001b[0m\u001b[0mcorrect_save_dir\u001b[0m\u001b[0;34m,\u001b[0m\u001b[0msave_dir\u001b[0m\u001b[0;34m,\u001b[0m\u001b[0miter_num\u001b[0m\u001b[0;34m)\u001b[0m\u001b[0;34m\u001b[0m\u001b[0;34m\u001b[0m\u001b[0m\n\u001b[0m\u001b[1;32m     12\u001b[0m \u001b[0;34m\u001b[0m\u001b[0m\n\u001b[1;32m     13\u001b[0m \u001b[0;31m#save_dir is what we convert to floodfill two cells down.\u001b[0m\u001b[0;34m\u001b[0m\u001b[0;34m\u001b[0m\u001b[0;34m\u001b[0m\u001b[0m\n",
      "\u001b[0;32m/usr/project/xtmp/vs196/mammoproj/Code/ActiveLearning/unet.py\u001b[0m in \u001b[0;36mevaluate_model_on_new_segmentations_and_save\u001b[0;34m(model, segmentation_folder, saved_oracle_filepaths, correct_save_dir, save_dir, iter_num)\u001b[0m\n\u001b[1;32m    425\u001b[0m         \u001b[0mprint\u001b[0m\u001b[0;34m(\u001b[0m\u001b[0;34mf\"Debugging. Data shape is: {detach_image.shape}, and unbinarized shape is: {unbinarized_unet_seg.shape}, and unbin output shape is {unbin_output.shape}\"\u001b[0m\u001b[0;34m)\u001b[0m\u001b[0;34m\u001b[0m\u001b[0;34m\u001b[0m\u001b[0m\n\u001b[1;32m    426\u001b[0m         \u001b[0;32mif\u001b[0m \u001b[0mfilepath\u001b[0m\u001b[0;34m.\u001b[0m\u001b[0msplit\u001b[0m\u001b[0;34m(\u001b[0m\u001b[0;34m\"/\"\u001b[0m\u001b[0;34m)\u001b[0m\u001b[0;34m[\u001b[0m\u001b[0;34m-\u001b[0m\u001b[0;36m1\u001b[0m\u001b[0;34m]\u001b[0m \u001b[0;32min\u001b[0m \u001b[0mpatient_ids\u001b[0m\u001b[0;34m:\u001b[0m\u001b[0;34m\u001b[0m\u001b[0;34m\u001b[0m\u001b[0m\n\u001b[0;32m--> 427\u001b[0;31m             \u001b[0mnp\u001b[0m\u001b[0;34m.\u001b[0m\u001b[0msave\u001b[0m\u001b[0;34m(\u001b[0m\u001b[0msave_path\u001b[0m\u001b[0;34m,\u001b[0m\u001b[0mnp\u001b[0m\u001b[0;34m.\u001b[0m\u001b[0mstack\u001b[0m\u001b[0;34m(\u001b[0m\u001b[0;34m[\u001b[0m\u001b[0mdetach_image\u001b[0m\u001b[0;34m,\u001b[0m\u001b[0munbin_output\u001b[0m\u001b[0;34m]\u001b[0m\u001b[0;34m)\u001b[0m\u001b[0;34m)\u001b[0m\u001b[0;34m\u001b[0m\u001b[0;34m\u001b[0m\u001b[0m\n\u001b[0m\u001b[1;32m    428\u001b[0m             \u001b[0mnp\u001b[0m\u001b[0;34m.\u001b[0m\u001b[0msave\u001b[0m\u001b[0;34m(\u001b[0m\u001b[0mcorrect_oracle_save_path\u001b[0m\u001b[0;34m,\u001b[0m\u001b[0mnp\u001b[0m\u001b[0;34m.\u001b[0m\u001b[0mstack\u001b[0m\u001b[0;34m(\u001b[0m\u001b[0;34m[\u001b[0m\u001b[0mdetach_image\u001b[0m\u001b[0;34m,\u001b[0m\u001b[0munbinarized_unet_seg\u001b[0m\u001b[0;34m]\u001b[0m\u001b[0;34m)\u001b[0m\u001b[0;34m)\u001b[0m\u001b[0;34m\u001b[0m\u001b[0;34m\u001b[0m\u001b[0m\n\u001b[1;32m    429\u001b[0m         \u001b[0;31m#if normal, save it to save_dir\u001b[0m\u001b[0;34m\u001b[0m\u001b[0;34m\u001b[0m\u001b[0;34m\u001b[0m\u001b[0m\n",
      "\u001b[0;32m<__array_function__ internals>\u001b[0m in \u001b[0;36mstack\u001b[0;34m(*args, **kwargs)\u001b[0m\n",
      "\u001b[0;32m/usr/project/xtmp/vs196/mammoproj/Env/trainenv/lib/python3.6/site-packages/numpy/core/shape_base.py\u001b[0m in \u001b[0;36mstack\u001b[0;34m(arrays, axis, out)\u001b[0m\n\u001b[1;32m    425\u001b[0m     \u001b[0mshapes\u001b[0m \u001b[0;34m=\u001b[0m \u001b[0;34m{\u001b[0m\u001b[0marr\u001b[0m\u001b[0;34m.\u001b[0m\u001b[0mshape\u001b[0m \u001b[0;32mfor\u001b[0m \u001b[0marr\u001b[0m \u001b[0;32min\u001b[0m \u001b[0marrays\u001b[0m\u001b[0;34m}\u001b[0m\u001b[0;34m\u001b[0m\u001b[0;34m\u001b[0m\u001b[0m\n\u001b[1;32m    426\u001b[0m     \u001b[0;32mif\u001b[0m \u001b[0mlen\u001b[0m\u001b[0;34m(\u001b[0m\u001b[0mshapes\u001b[0m\u001b[0;34m)\u001b[0m \u001b[0;34m!=\u001b[0m \u001b[0;36m1\u001b[0m\u001b[0;34m:\u001b[0m\u001b[0;34m\u001b[0m\u001b[0;34m\u001b[0m\u001b[0m\n\u001b[0;32m--> 427\u001b[0;31m         \u001b[0;32mraise\u001b[0m \u001b[0mValueError\u001b[0m\u001b[0;34m(\u001b[0m\u001b[0;34m'all input arrays must have the same shape'\u001b[0m\u001b[0;34m)\u001b[0m\u001b[0;34m\u001b[0m\u001b[0;34m\u001b[0m\u001b[0m\n\u001b[0m\u001b[1;32m    428\u001b[0m \u001b[0;34m\u001b[0m\u001b[0m\n\u001b[1;32m    429\u001b[0m     \u001b[0mresult_ndim\u001b[0m \u001b[0;34m=\u001b[0m \u001b[0marrays\u001b[0m\u001b[0;34m[\u001b[0m\u001b[0;36m0\u001b[0m\u001b[0;34m]\u001b[0m\u001b[0;34m.\u001b[0m\u001b[0mndim\u001b[0m \u001b[0;34m+\u001b[0m \u001b[0;36m1\u001b[0m\u001b[0;34m\u001b[0m\u001b[0;34m\u001b[0m\u001b[0m\n",
      "\u001b[0;31mValueError\u001b[0m: all input arrays must have the same shape"
     ]
    }
   ],
   "source": [
    "#evaluate new segmentations for ALL images \n",
    "#Save SAVED_ORACLE_FILEPATH NEW segmentations to SEPARATE FOLDER for VIEWING ONLY\n",
    "#Save this iteration saved_oracle_filepaths along with new segmentations for all other patients\n",
    "segmentation_folder = unbin_im_dir\n",
    "correct_save_dir = \"/usr/xtmp/vs196/mammoproj/Code/ActiveLearning/AllOracleRuns/Run_\" + run_id + \"/Iter\" + str(iter_num) + \"/UNetSegmentations_C/\"\n",
    "save_dir = \"/usr/xtmp/vs196/mammoproj/Code/ActiveLearning/AllOracleRuns/Run_\" + run_id + \"/Iter\" + str(iter_num) + \"/UNetSegmentations/\"\n",
    "#Method creates new segmentations using updated model. \n",
    "#Saves new segmentations for images labelled correctly by the oracle to correct_save_dir\n",
    "#Saves all segmentations (preserved for images labelled correctly by the oracle, new for all others) to save_dir\n",
    "#Have different subfolders for different iterations of unet update\n",
    "evaluate_model_on_new_segmentations_and_save(unet_model,segmentation_folder,saved_oracle_filepaths,correct_save_dir,save_dir,iter_num)\n",
    "\n",
    "#save_dir is what we convert to floodfill two cells down.\n",
    "#TODO: ADD TQDM TO EVALUATE_MODEL...\n",
    "#TODO: Add flexibility for alina saving (add alina paths)\n",
    "#TODO: Update evaluate model to output two channels where the first is the same as now and the second is a continuous version of the mask.\n",
    "#Look at bad oracles and see if those got better."
   ]
  },
  {
   "cell_type": "code",
   "execution_count": 22,
   "id": "2b06bc81",
   "metadata": {},
   "outputs": [],
   "source": [
    "#save the model\n",
    "model_save_path = \"/usr/xtmp/vs196/mammoproj/Code/ActiveLearning/AllOracleRuns/Run_\" + run_id + \"/Iter\" + str(iter_num) + \"/unetmodel.pth\"\n",
    "torch.save(unet_model,model_save_path)"
   ]
  },
  {
   "cell_type": "code",
   "execution_count": 54,
   "id": "eb739f53",
   "metadata": {},
   "outputs": [
    {
     "data": {
      "text/plain": [
       "1"
      ]
     },
     "execution_count": 54,
     "metadata": {},
     "output_type": "execute_result"
    }
   ],
   "source": [
    "#save_dir = \"/usr/xtmp/vs196/mammoproj/Code/ActiveLearning/AllOracleRuns/Run_02_28_a/Iter1/UNetSegmentations\"\n",
    "iter_num"
   ]
  },
  {
   "cell_type": "code",
   "execution_count": 45,
   "id": "39ca29ca",
   "metadata": {},
   "outputs": [
    {
     "name": "stderr",
     "output_type": "stream",
     "text": [
      "100%|██████████| 824/824 [05:29<00:00,  2.50it/s]\n"
     ]
    }
   ],
   "source": [
    "#Convert initial UNet Segmentations to flood-filled and resave\n",
    "#raw_segmentation_folder = \"/usr/xtmp/mammo/image_datasets/data_split_july2021/square_ROI_by_shape_segmentations/train/\"\n",
    "raw_segmentation_folder = save_dir #remove for rerun\n",
    "im_dir = convert_directory_to_floodfill(raw_segmentation_folder,iter0=False)"
   ]
  },
  {
   "cell_type": "code",
   "execution_count": 14,
   "id": "fd7cf395",
   "metadata": {},
   "outputs": [],
   "source": [
    "iter_num+=1"
   ]
  },
  {
   "cell_type": "code",
   "execution_count": null,
   "id": "0eed93d2",
   "metadata": {},
   "outputs": [],
   "source": [
    "im_dir = \"/usr/xtmp/vs196/mammoproj/Code/ActiveLearning/AllOracleRuns/Run_11_29_a/Iter1/UNetSegmentations_ff/\"\n",
    "im_dir = \"/usr/xtmp/vs196/mammoproj/Code/ActiveLearning/AllOracleRuns/Run_02_28_a/Iter1/UNetSegmentations\""
   ]
  },
  {
   "cell_type": "code",
   "execution_count": null,
   "id": "72bd7931",
   "metadata": {},
   "outputs": [],
   "source": [
    "#reloading iter 1 purposes\n",
    "iter_num = 2\n",
    "im_dir = \"/usr/xtmp/vs196/mammoproj/Code/ActiveLearning/AllOracleRuns/Run_11_23_a/Iter1/UNetSegmentations_ff/\"\n",
    "dataloader = get_DataLoader(im_dir,32,2)"
   ]
  },
  {
   "cell_type": "code",
   "execution_count": 16,
   "id": "03e566dd",
   "metadata": {},
   "outputs": [
    {
     "name": "stdout",
     "output_type": "stream",
     "text": [
      "2\n"
     ]
    }
   ],
   "source": [
    "print(iter_num)"
   ]
  },
  {
   "cell_type": "code",
   "execution_count": 46,
   "id": "f94a622b",
   "metadata": {},
   "outputs": [
    {
     "name": "stdout",
     "output_type": "stream",
     "text": [
      "/usr/xtmp/vs196/mammoproj/Code/ActiveLearning/AllOracleRuns/Run_03_10_a/Iter1/UNetSegmentations_ff/\n"
     ]
    }
   ],
   "source": [
    "print(im_dir)"
   ]
  },
  {
   "cell_type": "markdown",
   "id": "85f4ce2a",
   "metadata": {},
   "source": [
    "# Saving Images for Fides"
   ]
  },
  {
   "cell_type": "code",
   "execution_count": 18,
   "id": "41d54096",
   "metadata": {},
   "outputs": [],
   "source": [
    "def display_image_annotation(filepath,annotations):\n",
    "    ncols, nrows = 3, len(filepath)\n",
    "    fig = plt.figure(constrained_layout=False)\n",
    "    fig.set_size_inches(9, 3*len(filepath)+1)\n",
    "    fig.tight_layout()\n",
    "    spec = gridspec.GridSpec(ncols=ncols, nrows=nrows, figure=fig,hspace=0,wspace=0)\n",
    "    \n",
    "    anno_opts = dict(xy=(0.05, 0.05), xycoords='axes fraction', va='bottom', ha='left',color='cyan',fontweight='extra bold',fontsize='8')\n",
    "\n",
    "    f_axes = []\n",
    "    for row in range(nrows):\n",
    "        f_axes.append([])\n",
    "        for col in range(ncols):\n",
    "            f_axes[-1].append(fig.add_subplot(spec[row, col]))\n",
    "\n",
    "    for ax_num, ax in enumerate(f_axes[0]):\n",
    "            if ax_num == 0:\n",
    "                ax.set_title(\"Image\", fontdict=None, loc='left', color = \"k\")\n",
    "            elif ax_num == 1:\n",
    "                ax.set_title(\"Segmentation\", fontdict=None, loc='left', color = \"k\")\n",
    "            elif ax_num == 2:\n",
    "                ax.set_title(\"Overlay\", fontdict=None, loc='left', color = \"k\")\n",
    "\n",
    "    for row in range(nrows):\n",
    "        image_and_mask = np.load(filepath[row])\n",
    "        f_axes[row][0].imshow(image_and_mask[0],cmap='gray')\n",
    "        f_axes[row][0].set_axis_off()\n",
    "        \n",
    "        f_axes[row][1].imshow(image_and_mask[1],cmap='gray')\n",
    "        f_axes[row][1].set_axis_off()\n",
    "\n",
    "        heatmap = cv2.applyColorMap(np.uint8(255*(1-image_and_mask[1])), cv2.COLORMAP_AUTUMN)\n",
    "        heatmap = np.float32(heatmap) / 255\n",
    "        heatmap = heatmap[...,::-1]\n",
    "\n",
    "        img = 0.6 * np.stack([image_and_mask[0],image_and_mask[0],image_and_mask[0]],axis=-1) + 0.3*heatmap\n",
    "        f_axes[row][2].imshow(img)\n",
    "        f_axes[row][2].set_axis_off()\n",
    "        \n",
    "        f_axes[row][0].annotate(annotations[row],**anno_opts)\n",
    "\n",
    "    #plt.show()"
   ]
  },
  {
   "cell_type": "code",
   "execution_count": null,
   "id": "b5ff67a9",
   "metadata": {},
   "outputs": [],
   "source": [
    "tobechecked_save_dir = \"/usr/xtmp/mammo/alina_code/shapesAL/data/AllOracleRuns/Run_\" + run_id + \"/Iter\" + str(iter_num) + \"/ToBeChecked_neworder/\"\n",
    "\n",
    "exclude_data_from_dirs = [\"/usr/xtmp/vs196/mammoproj/Code/ActiveLearning/AllOracleRuns/Run_11_30_a/Iter1/CorrectSegmentations/\",\n",
    "                          \"/usr/xtmp/mammo/alina_code/shapesAL/data/AllOracleRuns/Run_12_19_b/Iter1/CorrectSegmentations/\",\n",
    "                          \"/usr/xtmp/mammo/alina_code/shapesAL/data/AllOracleRuns/Run_12_21_b/Iter1/CorrectSegmentations/\",\n",
    "                          \"/usr/xtmp/mammo/alina_code/shapesAL/data/AllOracleRuns/Run_12_21_b/Iter2/CorrectSegmentations/\",\n",
    "                          \"/usr/xtmp/mammo/alina_code/shapesAL/data/AllOracleRuns/Run_01_01_a/Iter1/CorrectSegmentations/\"\n",
    "                         ]\n",
    "\n",
    "exclude_data_from_dirs = [\"/usr/xtmp/mammo/alina_code/shapesAL/data/AllOracleRuns/Run_01_01_b/Iter1/CorrectSegmentations/\",\n",
    "                          \"/usr/xtmp/mammo/alina_code/shapesAL/data/AllOracleRuns/Run_12_21_b/Iter1/CorrectSegmentations/\"\n",
    "                         ]\n",
    "\n",
    "exclude_patientIDs = set()\n",
    "for exclude_data_from_dir in exclude_data_from_dirs:\n",
    "    already_sent_oracle_filepaths = pickle.load(open(exclude_data_from_dir + \"saved_data_struct/\" + \"Oracle_Filepaths.pickle\",'rb'))\n",
    "    print(len(already_sent_oracle_filepaths))\n",
    "    for already_sent_oracle_filepath in already_sent_oracle_filepaths:\n",
    "        pat_ID = already_sent_oracle_filepath.split('/')[-1][:-4]\n",
    "        exclude_patientIDs.add(pat_ID)"
   ]
  },
  {
   "cell_type": "code",
   "execution_count": null,
   "id": "1da6d4b0",
   "metadata": {},
   "outputs": [],
   "source": [
    "print(len(exclude_patientIDs))"
   ]
  },
  {
   "cell_type": "code",
   "execution_count": null,
   "id": "e2e6f4d1",
   "metadata": {
    "scrolled": true
   },
   "outputs": [],
   "source": [
    "collision_cnt = 0\n",
    "for save_filepath in saved_oracle_filepaths:\n",
    "    #plot the 3 part image as in oracle query\n",
    "    annotation = '/'.join((save_filepath.split('/'))[-2:])\n",
    "    pat_ID = save_filepath.split('/')[-1][:-4]\n",
    "    if pat_ID in exclude_patientIDs:\n",
    "        print(f'collision for {pat_ID}')\n",
    "        collision_cnt += 1\n",
    "    else:\n",
    "        display_image_annotation([save_filepath],[annotation])\n",
    "\n",
    "        #put an annotation on that image with the patient ID and the class\n",
    "        #save the image in tobechecked_save_dir\n",
    "        tobechecked_save_subfolder = os.path.join(tobechecked_save_dir ,save_filepath.split('/')[-2]) + \"/\"\n",
    "        if not os.path.exists(tobechecked_save_subfolder):\n",
    "            os.makedirs(tobechecked_save_subfolder)\n",
    "        save_path = os.path.join(tobechecked_save_dir, annotation)[:-4]+\".png\"\n",
    "        plt.savefig(save_path)\n",
    "        plt.close()\n",
    "\n",
    "print(f\"{collision_cnt} collisions\")"
   ]
  },
  {
   "cell_type": "code",
   "execution_count": null,
   "id": "ed4c206e",
   "metadata": {},
   "outputs": [],
   "source": [
    "print(tobechecked_save_dir)"
   ]
  },
  {
   "cell_type": "code",
   "execution_count": null,
   "id": "53ef34f9",
   "metadata": {},
   "outputs": [],
   "source": [
    "def display_comparison(image1,image2):\n",
    "    display_image_annotation([image1,image2],[image1,image2])\n",
    "    plt.show()"
   ]
  },
  {
   "cell_type": "code",
   "execution_count": null,
   "id": "3c330590",
   "metadata": {},
   "outputs": [],
   "source": []
  },
  {
   "cell_type": "markdown",
   "id": "c6b04f9d",
   "metadata": {},
   "source": [
    "# Vivek GAN stuff"
   ]
  },
  {
   "cell_type": "code",
   "execution_count": null,
   "id": "717513e5",
   "metadata": {},
   "outputs": [],
   "source": [
    "#Vivek GAN Playground\n",
    "#Imports\n",
    "import torch\n",
    "import torch.nn as nn\n",
    "import torch.optim as optim\n",
    "from torch.autograd import Variable\n",
    "from torch.utils.data import DataLoader\n",
    "#from models import G, D, weights_init (Already imported)\n",
    "#from data import get_training_set, get_test_set\n",
    "import torch.backends.cudnn as cudnn\n",
    "\n",
    "#Retrain UNet with training data taken from OracleImages/Iter\n",
    "new_unet_dataloader = unet_dataloader(saved_oracle_filepaths,8,2)\n",
    "#cbis_trainloader,_ = CBIS_DDSM_get_DataLoader(8,2)\n",
    "\n",
    "#Setup code\n",
    "def dice_loss(pred, target, smooth = 1.):\n",
    "    pred = pred.contiguous()\n",
    "    target = target.contiguous()\n",
    "    intersection = (pred * target).sum(dim=2).sum(dim=2)\n",
    "    loss = (1 - ((2. * intersection + smooth) / (pred.sum(dim=2).sum(dim=2) + target.sum(dim=2).sum(dim=2) + smooth)))\n",
    "    return loss.mean()\n",
    "\n",
    "cudnn.benchmark = True\n",
    "training_data_loader = new_unet_dataloader #replace with data loader from above (in UNET)\n",
    "\n",
    "#DEFINE BATCH_SIZE\n",
    "batch_size = 8\n",
    "\n",
    "#Initialize model and initialization values\n",
    "input_nc = 1\n",
    "output_nc = 1\n",
    "ngf = ndf = 32\n",
    "netG = G(input_nc, output_nc, ngf)\n",
    "netG.apply(weights_init)\n",
    "netD = D(input_nc, output_nc, ndf)\n",
    "netD.apply(weights_init)\n",
    "\n",
    "criterion = nn.BCELoss()\n",
    "criterion_l1 = nn.L1Loss()\n",
    "criterion_mse = nn.MSELoss()\n",
    "\n",
    "real_A = torch.FloatTensor(batch_size, input_nc, 256, 256)\n",
    "real_B = torch.FloatTensor(batch_size, output_nc, 256, 256)\n",
    "label = torch.FloatTensor(batch_size)\n",
    "real_label = 1\n",
    "fake_label = 0\n",
    "\n",
    "#Push everything onto CUDA\n",
    "netD = netD.cuda()\n",
    "netG = netG.cuda()\n",
    "criterion = criterion.cuda()\n",
    "criterion_l1 = criterion_l1.cuda()\n",
    "criterion_mse = criterion_mse.cuda()\n",
    "real_A = real_A.cuda()\n",
    "real_B = real_B.cuda()\n",
    "label = label.cuda()\n",
    "\n",
    "real_A = Variable(real_A)\n",
    "real_B = Variable(real_B)\n",
    "label = Variable(label)\n",
    "\n",
    "#Setup ADAM optimizer - REPLACE\n",
    "lr = 0.0002\n",
    "beta1 = 0.5\n",
    "optimizerD = torch.optim.Adam(netD.parameters(), lr=lr, betas=(beta1, 0.999))\n",
    "optimizerG = torch.optim.Adam(netG.parameters(), lr=lr, betas=(beta1, 0.999))\n",
    "\n",
    "lamb = 150"
   ]
  },
  {
   "cell_type": "code",
   "execution_count": null,
   "id": "d089b64e",
   "metadata": {},
   "outputs": [],
   "source": [
    "epoch = 0\n",
    "#Training Code\n",
    "for iteration, batch in enumerate(tqdm(training_data_loader), 1):\n",
    "    ############################\n",
    "    # (1) Update D network: maximize log(D(x,y)) + log(1 - D(x,G(x)))\n",
    "    ###########################\n",
    "    # train with real\n",
    "    netD.volatile = True\n",
    "    netD.zero_grad()\n",
    "    print(batch[0].shape)\n",
    "    with torch.no_grad():\n",
    "        real_a_cpu, real_b_cpu = batch[0], batch[1]\n",
    "        real_A.resize_(real_a_cpu.size()).copy_(real_a_cpu)\n",
    "        real_B.resize_(real_b_cpu.size()).copy_(real_b_cpu)\n",
    "\n",
    "    output = netD(torch.cat((real_A, real_B), 1))\n",
    "    with torch.no_grad():\n",
    "        label.resize_(output.size()).fill_(real_label)\n",
    "    err_d_real = criterion(output, label)\n",
    "    # print (err_d_real)\n",
    "    err_d_real.backward()\n",
    "    d_x_y = output.data.mean()\n",
    "\n",
    "    # train with fake\n",
    "    fake_b = netG(real_A)\n",
    "    output = netD(torch.cat((real_A, fake_b.detach()), 1))\n",
    "    with torch.no_grad():\n",
    "        label.resize_(output.size()).fill_(fake_label)\n",
    "    err_d_fake = criterion(output, label)\n",
    "    # print (err_d_fake)\n",
    "    err_d_fake.backward()\n",
    "    d_x_gx = output.data.mean()\n",
    "\n",
    "    err_d = (err_d_real + err_d_fake) / 2.0\n",
    "    optimizerD.step()\n",
    "\n",
    "    ############################\n",
    "    # (2) Update G network: maximize log(D(x,G(x))) + L1(y,G(x))\n",
    "    ###########################\n",
    "    netG.zero_grad()\n",
    "    netD.volatile = True\n",
    "    output = netD(torch.cat((real_A, fake_b), 1))\n",
    "    label.data.resize_(output.size()).fill_(real_label)\n",
    "    err_g = criterion(output, label) + lamb * dice_loss(fake_b, real_B)\n",
    "    err_g.backward()\n",
    "    d_x_gx_2 = output.data.mean()\n",
    "    optimizerG.step()\n",
    "    \n",
    "    #Print epoch info\n",
    "    print(\"===> Epoch[{}]({}/{}): Loss_D: {:.4f} Loss_G: {:.4f} D(x): {:.4f} D(G(z)): {:.4f}/{:.4f}\".format(\n",
    "            epoch, iteration, len(training_data_loader), err_d.data[0], err_g.data[0], d_x_y, d_x_gx, d_x_gx_2))\n",
    "\n",
    "\n",
    "#Eval Code\n",
    "\n",
    "#Run Code:\n",
    "#modelD, modelG, criterionD, criterionG, metric_trackerGD = vivek.model_update(modelD, modelG, criterionD, criterionG, dataloader,num_epochs=5)"
   ]
  },
  {
   "cell_type": "code",
   "execution_count": null,
   "id": "bd2f60c9",
   "metadata": {},
   "outputs": [],
   "source": [
    "#We want to save segmentations at correct thresholds for use in UNEt training on the same stage\n",
    "\n",
    "#Takes in correct oracle results and thresholds and save path\n",
    "#First threshold it to a binary mask\n",
    "\n",
    "def threshold_and_save_images(saved_oracle_filepaths, oracle_results_thresholds, save_dir):\n",
    "    for filepath in tqdm(saved_oracle_filepaths):\n",
    "        threshold = oracle_results_thresholds[(\"/\".join(filepath.split(\"/\")[-2:]))[:-4]]\n",
    "        arr_and_mask = np.load(filepath)\n",
    "        copy_arr_mask = arr_and_mask.copy()\n",
    "\n",
    "        arr = copy_arr_mask[0,:,:].copy()\n",
    "        mask = copy_arr_mask[1,:,:].copy()\n",
    "        #apply threshold to mask\n",
    "        mask = get_binary_mask(mask, threshold)\n",
    "        to_save = np.stack([arr, mask])\n",
    "        \n",
    "        save_save_dir = save_dir + \"/\".join(filepath.split(\"/\")[-2:])\n",
    "        if not os.path.exists(save_dir + filepath.split(\"/\")[-2]):\n",
    "            os.makedirs(save_dir + filepath.split(\"/\")[-2])\n",
    "        np.save(save_save_dir, to_save)"
   ]
  },
  {
   "cell_type": "code",
   "execution_count": null,
   "id": "bcb06a80",
   "metadata": {},
   "outputs": [],
   "source": [
    "#Save thresholded\n",
    "if True:\n",
    "    if users_name == 'alina':\n",
    "        save_dir = \"/usr/xtmp/mammo/alina_code/shapesAL/data/AllOracleRuns/Run_\" + run_id + \"/Iter\" + str(iter_num) + \"/OracleThresholdedImages/\"\n",
    "    elif users_name == 'vaibhav':\n",
    "        save_dir = \"/usr/xtmp/vs196/mammoproj/Code/ActiveLearning/AllOracleRuns/Run_\" + run_id + \"/Iter\" + str(iter_num) + \"/OracleThresholdedImages/\"\n",
    "    else:\n",
    "        print(\"wrong username\")\n",
    "        \n",
    "    if not os.path.exists(save_dir):\n",
    "        os.makedirs(save_dir)\n",
    "    else:\n",
    "        user_input = input(\"Do you want to overwrite this directory? Type y or yes to continue\")\n",
    "        if not (user_input==\"y\" or user_input==\"yes\"):\n",
    "            assert(False)\n",
    "            \n",
    "    threshold_and_save_images(saved_oracle_filepaths, oracle_results_thresholds, save_dir)\n",
    "    save_dir = convert_directory_to_floodfill(save_dir,iter0=False)\n",
    "    print(f\"Saved in {save_dir}\")        "
   ]
  },
  {
   "cell_type": "code",
   "execution_count": null,
   "id": "07f74ec1",
   "metadata": {},
   "outputs": [],
   "source": [
    "save_dir"
   ]
  }
 ],
 "metadata": {
  "kernelspec": {
   "display_name": "Python 3",
   "language": "python",
   "name": "python3"
  },
  "language_info": {
   "codemirror_mode": {
    "name": "ipython",
    "version": 3
   },
   "file_extension": ".py",
   "mimetype": "text/x-python",
   "name": "python",
   "nbconvert_exporter": "python",
   "pygments_lexer": "ipython3",
   "version": "3.6.9"
  }
 },
 "nbformat": 4,
 "nbformat_minor": 5
}
