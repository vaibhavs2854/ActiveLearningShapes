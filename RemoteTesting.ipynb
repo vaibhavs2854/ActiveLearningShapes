{
 "cells": [
  {
   "cell_type": "code",
   "execution_count": 1,
   "id": "native-uncle",
   "metadata": {},
   "outputs": [
    {
     "name": "stdout",
     "output_type": "stream",
     "text": [
      "hi\n"
     ]
    }
   ],
   "source": [
    "print('hi')"
   ]
  },
  {
   "cell_type": "markdown",
   "id": "da77abad",
   "metadata": {},
   "source": [
    "## Import Section"
   ]
  },
  {
   "cell_type": "code",
   "execution_count": 2,
   "id": "b601e346",
   "metadata": {},
   "outputs": [],
   "source": [
    "import numpy as np\n",
    "import torch\n",
    "import torchvision\n",
    "from time import time\n",
    "import random\n",
    "\n",
    "from torch.utils.data import Dataset, DataLoader\n",
    "from torchvision import datasets, transforms\n",
    "from torch import nn, optim\n",
    "from torch.utils.data.sampler import SubsetRandomSampler\n",
    "import torchvision.transforms.functional as TF\n",
    "import torch.nn.functional as F\n",
    "from torch.autograd import Variable\n",
    "import os\n",
    "import glob\n",
    "import cv2\n",
    "from tqdm import tqdm\n",
    "\n",
    "from matplotlib.pyplot import imsave, imread\n",
    "import matplotlib.pyplot as plt\n",
    "import sys\n",
    "import matplotlib.gridspec as gridspec\n",
    "\n",
    "import copy"
   ]
  },
  {
   "cell_type": "code",
   "execution_count": 3,
   "id": "78ad1510",
   "metadata": {},
   "outputs": [],
   "source": [
    "from floodfill import *\n",
    "from dataloader import *\n",
    "from model import *\n",
    "from oracle import *"
   ]
  },
  {
   "cell_type": "markdown",
   "id": "b81907ee",
   "metadata": {},
   "source": [
    "## Testing Jupyter Notebook Section"
   ]
  },
  {
   "cell_type": "code",
   "execution_count": null,
   "id": "0fc3727a",
   "metadata": {},
   "outputs": [],
   "source": [
    "#Testing live input from user\n",
    "testing_input = input(\"what is your name: \")\n",
    "print(f\"Your name is: {testing_input}.\")"
   ]
  },
  {
   "cell_type": "code",
   "execution_count": null,
   "id": "acfdec25",
   "metadata": {},
   "outputs": [],
   "source": [
    "#Tests loading an image from a directory\n",
    "#im_dir = \"/usr/xtmp/mammo/image_datasets/data_split_july2021/square_ROI_by_shape_segmentations/train/Round/\"\n",
    "#im_dir = \"/usr/xtmp/vs196/mammoproj/Code/ActiveLearning/UNetSegmentations/Iter0_ff/Round/\"\n",
    "im_dir = \"/usr/xtmp/vs196/mammoproj/Code/ActiveLearning/UNetSegmentations/Iter0_ff/Irregular/\"\n",
    "#ims = [\"DP_AABO_1432_1.npy\"]\n",
    "#ims = [\"DP_AHTL_130540_1.npy\"]\n",
    "\n",
    "for im in ims:\n",
    "    path = im_dir + im;\n",
    "    arr = np.load(path)\n",
    "    print(arr.shape)\n",
    "    \n",
    "plt.imshow(arr[0],cmap='gray')\n",
    "plt.show()"
   ]
  },
  {
   "cell_type": "markdown",
   "id": "c894ee31",
   "metadata": {},
   "source": [
    "## Active Learning: Setup"
   ]
  },
  {
   "cell_type": "code",
   "execution_count": null,
   "id": "487ea26c",
   "metadata": {},
   "outputs": [],
   "source": [
    "#Gets the dataloader. Passes in directory of ALL images\n",
    "#im_dir = \"/usr/xtmp/mammo/image_datasets/data_split_july2021/square_ROI_by_shape_segmentations/train/\"\n",
    "im_dir = \"/usr/xtmp/vs196/mammoproj/Code/ActiveLearning/UNetSegmentations/Iter0_ff/\"\n",
    "dataloader = get_DataLoader(im_dir,32,2)\n",
    "\n",
    "#Tests the dataloader\n",
    "for i in tqdm(dataloader):\n",
    "    #print(i[1])\n",
    "    print(i[1].shape)\n",
    "    break"
   ]
  },
  {
   "cell_type": "code",
   "execution_count": null,
   "id": "b8b9568e",
   "metadata": {
    "scrolled": false
   },
   "outputs": [],
   "source": [
    "#Initializes and trains the model. Plots a loss function of the initial training\n",
    "model,loss_tracker,criterion,optimizer = initialize_and_train_model(dataloader, epochs=5) #default batch_size and epochs\n",
    "plt.plot(loss_tracker) #plot graph"
   ]
  },
  {
   "cell_type": "code",
   "execution_count": null,
   "id": "765929c2",
   "metadata": {},
   "outputs": [],
   "source": [
    "#Initializing info arrays for active learning\n",
    "oracle_results = {}\n",
    "all_patient_scores = []\n",
    "\n",
    "#right now patient_scores is initial scores for each patient (without active learning training)\n",
    "patient_scores = get_patient_scores(model,dataloader) \n",
    "all_patient_scores.append(patient_scores)"
   ]
  },
  {
   "cell_type": "markdown",
   "id": "30e48a9b",
   "metadata": {},
   "source": [
    "## Active Learning: Querying"
   ]
  },
  {
   "cell_type": "code",
   "execution_count": null,
   "id": "02ff0ecf",
   "metadata": {
    "scrolled": true
   },
   "outputs": [],
   "source": [
    "#Query oracle and update model via active learning\n",
    "oracle_results = query_oracle(oracle_results,patient_scores,im_dir)\n",
    "\n",
    "model = model_update(model,dataloader,oracle_results,criterion,optimizer,num_epochs=5)\n",
    "\n",
    "patient_scores = get_patient_scores(model,dataloader)\n",
    "all_patient_scores.append(patient_scores)"
   ]
  },
  {
   "cell_type": "markdown",
   "id": "44bded4f",
   "metadata": {},
   "source": [
    "## Metrics and plotting"
   ]
  },
  {
   "cell_type": "code",
   "execution_count": null,
   "id": "35f48fcf",
   "metadata": {},
   "outputs": [],
   "source": [
    "#00100001000\n",
    "#11110100000\n",
    "#00100001100\n",
    "#01110010000\n",
    "#Prints out all patient scores.\n",
    "for i in all_patient_scores:\n",
    "    print(calculate_dispersion_metric(i,oracle_results))"
   ]
  },
  {
   "cell_type": "code",
   "execution_count": null,
   "id": "f6cc8711",
   "metadata": {},
   "outputs": [],
   "source": [
    "#Plot the disperson metric\n",
    "j = []\n",
    "for i in all_patient_scores:\n",
    "    j.append(calculate_dispersion_metric(i,oracle_results))\n",
    "    \n",
    "plt.plot(j)"
   ]
  },
  {
   "cell_type": "markdown",
   "id": "27cfb1f5",
   "metadata": {},
   "source": [
    "## Saving Oracle Results"
   ]
  },
  {
   "cell_type": "code",
   "execution_count": null,
   "id": "e70b7ba0",
   "metadata": {},
   "outputs": [],
   "source": [
    "#make filepath\n",
    "# save_dir = \"/usr/xtmp/vs196/mammoproj/Code/ActiveLearning/AllOracleRuns/11_15_run/Iter1/\"\n",
    "# saved_oracle_filepaths = save_oracle_results(oracle_results,im_dir,save_dir)\n",
    "#TODO: Move border/weight creation to this method and out of convert_directory_to_floodfill\n",
    "#TODO: Remove all 0's from oracle_results. \n",
    "#NOTE: Don't FULLY reset oracle_results EVER, only do above"
   ]
  },
  {
   "cell_type": "markdown",
   "id": "10d52ed2",
   "metadata": {},
   "source": [
    "## Retrain UNet and Save New Segmentations"
   ]
  },
  {
   "cell_type": "code",
   "execution_count": null,
   "id": "4a7e9c58",
   "metadata": {},
   "outputs": [],
   "source": [
    "#Define the initial UNet model (iter0)\n",
    "model_path = \"/usr/xtmp/vs196/mammoproj/SavedModels/HyperparameterUNet_nobuffer/unet_5_0.5/Model/unetmodel_FINAL.pth\"\n",
    "unet_model = torch.load(model_path)\n",
    "\n",
    "total_loss_tracker = []\n",
    "total_metric_tracker = []"
   ]
  },
  {
   "cell_type": "code",
   "execution_count": null,
   "id": "55fa21ee",
   "metadata": {},
   "outputs": [],
   "source": [
    "#Retrain UNet with training data taken from OracleImages/Iter\n",
    "new_unet_dataloader = unet_dataloader(saved_oracle_filepaths,32,2)\n",
    "\n",
    "unet_model,loss_tracker,metric_tracker = update_unet_model(unet_model,dataloader,num_epochs=10)\n",
    "total_loss_tracker.extend(loss_tracker)\n",
    "total_metric_tracker.extend(metric_tracker)\n",
    "\n",
    "#evaluate new segmentations for ALL images \n",
    "#Save SAVED_ORACLE_FILEPATH NEW segmentations to SEPARATE FOLDER for VIEWING ONLY\n",
    "#Save this iteration saved_oracle_filepaths along with new segmentations for all other patients\n"
   ]
  },
  {
   "cell_type": "code",
   "execution_count": 4,
   "id": "39ca29ca",
   "metadata": {},
   "outputs": [
    {
     "name": "stderr",
     "output_type": "stream",
     "text": [
      "100%|██████████| 824/824 [05:48<00:00,  2.36it/s]\n"
     ]
    }
   ],
   "source": [
    "#Convert initial UNet Segmentations to flood-filled and resave\n",
    "im_dir = \"/usr/xtmp/mammo/image_datasets/data_split_july2021/square_ROI_by_shape_segmentations/train/\"\n",
    "new_im_dir = convert_directory_to_floodfill(im_dir,iter0=True)"
   ]
  },
  {
   "cell_type": "code",
   "execution_count": null,
   "id": "fd7cf395",
   "metadata": {},
   "outputs": [],
   "source": [
    "print(new_im_dir)"
   ]
  },
  {
   "cell_type": "code",
   "execution_count": null,
   "id": "72bd7931",
   "metadata": {},
   "outputs": [],
   "source": []
  }
 ],
 "metadata": {
  "kernelspec": {
   "display_name": "Python 3",
   "language": "python",
   "name": "python3"
  },
  "language_info": {
   "codemirror_mode": {
    "name": "ipython",
    "version": 3
   },
   "file_extension": ".py",
   "mimetype": "text/x-python",
   "name": "python",
   "nbconvert_exporter": "python",
   "pygments_lexer": "ipython3",
   "version": "3.6.9"
  }
 },
 "nbformat": 4,
 "nbformat_minor": 5
}
